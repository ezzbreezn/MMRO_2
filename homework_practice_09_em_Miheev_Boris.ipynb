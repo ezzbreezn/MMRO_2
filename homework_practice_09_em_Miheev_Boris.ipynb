{
  "cells": [
    {
      "cell_type": "markdown",
      "metadata": {
        "id": "A-KK7KhskD2M"
      },
      "source": [
        "# Машинное обучение, ВМК МГУ\n",
        "\n",
        "# Практическое задание 3. EM-алгоритм\n",
        "\n",
        "## Общая информация\n",
        "Дата выдачи: 04.04.2022\n",
        "\n",
        "Мягкий дедлайн: 18.04.2021 23:59 MSK\n",
        "\n",
        "Жёсткий дедлайн: 25.04.2021 23:59 MSK\n",
        "\n",
        "## Оценивание и штрафы\n",
        "Каждая из задач имеет определенную «стоимость» (указана в скобках около задачи). **Максимальная оценка за работу  — 10 баллов + 9 бонусов.**\n",
        "\n",
        "Сдавать задание после указанного жёсткого срока сдачи нельзя. При выставлении неполного балла за задание в связи с наличием ошибок на усмотрение проверяющего предусмотрена возможность исправить работу на указанных в ответном письме условиях.\n",
        "\n",
        "Задание выполняется самостоятельно. «Похожие» решения считаются плагиатом и все задействованные студенты (в том числе те, у кого списали) не могут получить за него больше 0 баллов (подробнее о плагиате см. на странице курса). Если вы нашли решение какого-то из заданий (или его часть) в открытом источнике, необходимо указать ссылку на этот источник в отдельном блоке в конце вашей работы (скорее всего вы будете не единственным, кто это нашел, поэтому чтобы исключить подозрение в плагиате, необходима ссылка на источник).\n",
        "\n",
        "Неэффективная реализация кода может негативно отразиться на оценке.\n",
        "\n",
        "## Формат сдачи !!ВАЖНО!!!\n",
        "Задания сдаются через систему anytask. Посылка должна содержать:\n",
        "* Ноутбук homework-practice-09-em-Username.ipynb\n",
        "* Модули preprocessing.py, metrics.py, models.py, содержащие написанный вами код\n",
        "* **Ссылки на посылки** в Яндекс.Контест для всех функций и классов, которые вы реализовали\n",
        "\n",
        "Ссылка на Яндекс.Контест: https://contest.yandex.ru/contest/35552/\n",
        "\n",
        "Username — ваша фамилия и имя на латинице именно в таком порядке"
      ]
    },
    {
      "cell_type": "markdown",
      "metadata": {
        "id": "uXg_3u_qkD2S"
      },
      "source": [
        "<p style=\"color:#de3815;font-size:25px;\">\n",
        "Напоминание об оформлении и выполнении ноутбука\n",
        "</p>"
      ]
    },
    {
      "cell_type": "markdown",
      "metadata": {
        "id": "7G0NmR-9kD2U"
      },
      "source": [
        "* Все строчки должны быть выполнены. Нужно, чтобы output команды можно было увидеть, не запуская ячейки (кроме редких случаев, когда необходимо намеренно скрыть ненужный output, про такие случаи желательно писать пояснения в тексте). **В противном случае -1 балл**\n",
        "* При оформлении ДЗ нужно пользоваться данным файлом в качестве шаблона. Не нужно удалять и видоизменять написанный код и текст, если явно не указана такая возможность. **В противном случае -1 балл**\n",
        "* В anytask обязательно нужно прикреплять отдельно файл с расширением ipynb (не в архиве, а именно отдельно). Если необходимо отправить еще какие-то файлы, то вынесите их в отдельный архив (если файлов много) и пришлите. **В противном случае -0.5 балла**\n",
        "---\n",
        "* Пишите, пожалуйста, выводы и ответы на вопросы в текстовых ячейках/при помощи print в коде. При их отсутствии мы не можем понять, сделали ли вы задание и понимаете, что происходит, и **поэтому будем снижать баллы**\n",
        "* Если алгоритм не сказано реализовывать явно, его всегда можно импортировать из библиотеки.\n",
        "---\n",
        "* Про графики. _Штрафы будут применяться к каждому результату команды отображения графика (plt.show() и др. аналогичные). Исключением являются графики, генерируемые функциями каких-либо сторонних библиотек, если их нельзя кастомизировать_\n",
        "\n",
        "    * должно быть название (plt.title) графика; **В противном случае &ndash; -0.05 балла**\n",
        "    * на графиках должны быть подписаны оси (plt.xlabel, plt.ylabel); **В противном случае &ndash; -0.025 балла за каждую ось**\n",
        "    * должны быть подписаны единицы измерения (если это возможно); **В противном случае &ndash; -0.025 балла за каждую ось**\n",
        "    * все названия должны быть понятны любому человеку, знакомому с терминологией, без заглядывания в код; **В противном случае &ndash; -0.05 балла**\n",
        "    * подписи тиков на осях не должны сливаться как на одной оси, так и между ними; **В противном случае &ndash; -0.025 балла за каждую ось**\n",
        "    * если изображено несколько сущностей на одном холсте (например несколько функций), то необходима поясняющая легенда (plt.legend); **В противном случае &ndash; -0.05 балла**\n",
        "    * все линии на графиках должны быть чётко видны (нет похожих цветов или цветов, сливающихся с фоном); **В противном случае &ndash; -0.05 балла**\n",
        "    * если отображена величина, имеющая очевидный диапазон значений (например, проценты могут быть от 0 до 100), то желательно масштабировать ось на весь диапазон значений (исключением является случай, когда вам необходимо показать малое отличие, которое незаметно в таких масштабах);\n",
        "    * графики должны быть не супер-микро и не супер-макро по размерам, так, чтобы можно было увидеть все, что нужно.\n",
        "    * при необходимости улучшения наглядности графиков, можно пользоваться логарифмической шкалой по осям x/y.\n",
        "    \n",
        "    \n",
        "### А также..\n",
        "\n",
        "* Для удобства поиска вопросов, на которые от вас просят ответа, мы пометили их знаком **(?)**\n",
        "* Знак **(!)** означает, что выполнение замечания необходимо для **возможности получения полного балла**\n",
        "* Даем до +1 балла за выдающиеся успехи по субъективному мнению проверяющих. Этот **бонус** не апеллируется"
      ]
    },
    {
      "cell_type": "markdown",
      "metadata": {
        "id": "iHa9RFr1kD2X"
      },
      "source": [
        "# Generative model of Labels, Abilities, and Difficulties (GLAD)\n",
        "\n",
        "В [семинаре 15](https://github.com/esokolov/ml-course-hse/blob/master/2020-spring/seminars/sem15-em.pdf) мы рассмотрели задачу восстановления истинной разметки по меткам от экспертов (которым мы не можем доверять в полной мере, более того, их предсказания могут расходиться).\n",
        "\n",
        "Рассмотрим следующую вероятностную модель:\n",
        "\n",
        "$$ p(L, Z | \\alpha, \\beta) = \\prod_{i=1}^{n} \\prod_{j=1}^m \\sigma(\\alpha_j\\beta_i)^{[l_{ij}=z_i]}\\sigma(-\\alpha_j\\beta_i)^{1-[l_{ij}=z_i]} p(z_j)$$\n",
        "\n",
        "где $l_{ij} -$ ответ $j$-го эксперта на задачу $i$, $z_j -$ истинная разметка, $\\alpha_j, \\beta_i-$ уровень экспертизы и сложность задачи соответственно. Для более подробного описания модели можно прочитать материалы семинара, а также [оригинальную статью](http://papers.nips.cc/paper/3644-whose-vote-should-count-more-optimal-integration-of-labels-from-labelers-of-unknown-expertise.pdf). Априорное распределение положим равномерным: $p(z_i) = 0.5$."
      ]
    },
    {
      "cell_type": "code",
      "execution_count": null,
      "metadata": {
        "id": "C8nEe5zQkD2a"
      },
      "outputs": [],
      "source": [
        "import numpy as np\n",
        "seed = 0xDEADF00D\n",
        "np.random.seed(seed)"
      ]
    },
    {
      "cell_type": "code",
      "execution_count": null,
      "metadata": {
        "id": "Kjxfnw7lkD2d",
        "outputId": "fe496992-ae9a-4991-b7a0-34b625c8ed8a",
        "colab": {
          "base_uri": "https://localhost:8080/"
        }
      },
      "outputs": [
        {
          "output_type": "stream",
          "name": "stdout",
          "text": [
            "Число задач (n_problems): 2000, число экспертов (n_experts): 20\n"
          ]
        }
      ],
      "source": [
        "L = np.load('L.npy')\n",
        "n, m = L.shape\n",
        "print(f\"Число задач (n_problems): {n}, число экспертов (n_experts): {m}\")"
      ]
    },
    {
      "cell_type": "markdown",
      "metadata": {
        "id": "mdRa8F2TkD2f"
      },
      "source": [
        "---"
      ]
    },
    {
      "cell_type": "markdown",
      "metadata": {
        "id": "X_dYa-2dkD2h"
      },
      "source": [
        "**Задание 1. (2 балла)** Реализуйте EM-алгоритм для заданной выше модели. Вы можете воспользоваться предложенными шаблонами или написать свои. \n",
        "\n",
        "Обратите внимание, что правдоподобие моделирует не вероятность метки $l_{ij}$ принять значение 1 или 0, а вероятность того, что она равна скрытой переменной $z_i$, т.е. $p(l_{ij} = z_j|z_j, \\alpha_j, \\beta_i) \\neq p(l_{ij} = 1|\\alpha_j, \\beta_i) $. При этом заранее неизвестно, какая из скрытых переменных соответствует метке 1. Не забывайте, что параметры $\\beta_i$ должны быть неотрицательными; для этого оптимизируйте $\\log \\beta$. На M-шаге можете использовать как один шаг градиентного спуска, так и несколько: разумные результаты у вас должны получаться вне зависимости от числа итераций.\n",
        "\n",
        "**Подсказки (могут быть актуальны на все задание):**\n",
        "\n",
        "* При работе с вероятностями не забывайте о точности:\n",
        " 1. Используйте логарифмы вероятностей.\n",
        " 2. $\\log \\sigma(a)$ лучше преобразовать в $\\log \\sigma(a) = -\\log(1 + \\exp(-a)) = -\\mathrm{softplus}(-a) $\n",
        " 3. Ещё полезные функции: `scipy.special.expit`, `scipy.special.logsumexp`, `np.log1p`\n",
        "* Для отладки может быть полезно проверить градиенты, возвращаемые функциями `alpha_grad_lb` и `logbeta_grad_lb` с помощью `scipy.optimize.check_grad`.\n",
        "* Размеры возвращаемых значений, указанные в докстринге функций могут помочь вам понять, что необходимо возвращать\n",
        "* Почитайте докстринги, в них есть подсказки и ссылки на формулы из семинара\n",
        "* Если у вас вылезают где-то nan/inf -- попробуйте урезать значения снизу. Например, у вас есть место, где берется log(theta) -- тут имеет смысл урезать theta = max(theta, eps), где eps какое-то маленькое число (например 1e-8)"
      ]
    },
    {
      "cell_type": "markdown",
      "metadata": {
        "id": "x_rEn7XVkD2k"
      },
      "source": [
        "---"
      ]
    },
    {
      "cell_type": "code",
      "execution_count": null,
      "metadata": {
        "id": "mkVQu-vekD2n"
      },
      "outputs": [],
      "source": [
        "def softplus(x):\n",
        "    '''stable version of log(1 + exp(x))'''\n",
        "    c = (x > 20) * 1.\n",
        "    return np.log1p(np.exp(x * (1-c)) * (1-c)) + x * c"
      ]
    },
    {
      "cell_type": "code",
      "execution_count": null,
      "metadata": {
        "id": "8AQnuszykD2o"
      },
      "outputs": [],
      "source": [
        "from scipy.special import expit\n",
        "\n",
        "def posterior(alpha, beta, L):\n",
        "    \"\"\" Posterior over true labels z p(z|l, \\alpha, \\beta)\n",
        "    Args:\n",
        "        alpha: ndarray of shape (n_experts).\n",
        "        beta: ndarray of shape (n_problems).\n",
        "        L: ndarray of shape (n_problems, n_experts).\n",
        "    Returns:\n",
        "        ndarray of shape (2, n_problems)\n",
        "        (2 -- for z = 0 and for z = 1, n_problems -- for each problem in data)\n",
        "    Tip:\n",
        "        You may use function log_likelihood here\n",
        "        See page 7 of seminar, the last formula for details\n",
        "    \"\"\"\n",
        "    product_0 = np.prod(expit(alpha * beta.reshape((beta.shape[0], 1)) * (1 - 2 * L)), axis=1) * 0.5\n",
        "    product_1 = np.prod(expit(alpha * beta.reshape((beta.shape[0], 1)) * (2 * L - 1)), axis=1) * 0.5\n",
        "    res_0 = (product_0 / (product_0 + product_1)).reshape((1, product_0.shape[0]))\n",
        "    res_1 = (product_1 / (product_0 + product_1)).reshape((1, product_1.shape[0]))\n",
        "    return np.concatenate((res_0, res_1), axis=0)\n",
        "\n",
        "def log_likelihood(alpha, beta, L, z):\n",
        "    \"\"\" p(l=z|z, \\alpha, \\beta)\n",
        "    Args:\n",
        "        alpha: ndarray of shape (n_experts).\n",
        "        beta: ndarray of shape (n_problems).\n",
        "        L: ndarray of shape (n_problems, n_experts).\n",
        "        z: ndarray of shape (n_problems).\n",
        "    Returns:\n",
        "        ndarray of shape (n_problems,)\n",
        "    Tips:\n",
        "        See page 7 of seminar, the second formula for details\n",
        "    \"\"\"\n",
        "    return expit(alpha * beta.reshape((beta.shape[0], 1)))\n",
        "\n",
        "\n",
        "def alpha_grad_lb(alpha, beta, L, q):\n",
        "    \"\"\" Gradient of lower bound wrt alpha\n",
        "    Args:\n",
        "        alpha: ndarray of shape (n_experts).\n",
        "        beta: ndarray of shape (n_problems).\n",
        "        L: ndarray of shape (n_problems, n_experts).\n",
        "        q: ndarray of shape (2, n_problems).\n",
        "    Returns:\n",
        "        ndarray of shape (n_experts,)\n",
        "    Tips:\n",
        "        See pages 8-9 of seminar for details\n",
        "    \"\"\"\n",
        "    product = alpha * beta.reshape((beta.shape[0], 1))\n",
        "    res = (((L == 0) * expit(-product) - (L == 1) * expit(product)) * beta.reshape((beta.shape[0], 1)) * q[0].reshape((q[0].shape[0] ,1))).sum(axis=0)\n",
        "    res += (((L == 1) * expit(-product) - (L == 0) * expit(product)) * beta.reshape((beta.shape[0], 1)) * q[1].reshape((q[1].shape[0] ,1))).sum(axis=0)\n",
        "    return res\n",
        "\n",
        "\n",
        "def logbeta_grad_lb(alpha, beta, L, q):\n",
        "    \"\"\" Gradient of lower bound wrt alpha\n",
        "    Args:\n",
        "        alpha: ndarray of shape (n_experts).\n",
        "        beta: ndarray of shape (n_problems).\n",
        "        L: ndarray of shape (n_problems, n_experts).\n",
        "        q: ndarray of shape (2, n_problems).\n",
        "    Returns:\n",
        "        ndarray of shape (n_problems,)\n",
        "    Tips:\n",
        "        See pages 8-9 of seminar for details\n",
        "    \"\"\"\n",
        "    product = alpha * beta.reshape((beta.shape[0], 1))\n",
        "    res = (((L == 0) * expit(-product) - (L == 1) * expit(product)) * q[0].reshape((q[0].shape[0], 1)) * beta.reshape((beta.shape[0], 1)) * alpha).sum(axis=1)\n",
        "    res += (((L == 1) * expit(-product) - (L == 0) * expit(product)) * q[1].reshape((q[1].shape[0], 1)) * beta.reshape((beta.shape[0], 1)) * alpha).sum(axis=1)\n",
        "    return res\n",
        "\n",
        "\n",
        "def lower_bound(alpha, beta, L, q):\n",
        "    \"\"\" Lower bound\n",
        "    Args:\n",
        "        alpha: ndarray of shape (n_experts).\n",
        "        beta: ndarray of shape (n_problems).\n",
        "        L: ndarray of shape (n_problems, n_experts).\n",
        "        q: ndarray of shape (2, n_problems).\n",
        "    Returns:\n",
        "        single value, number\n",
        "    Tips:\n",
        "        You may use function log_likelihood here\n",
        "        See page 8 of seminar, the fourth formula for details\n",
        "    \"\"\"\n",
        "    product = alpha * beta.reshape((beta.shape[0], 1))\n",
        "    res = ((q[0].reshape((q[0].shape[0], 1))) * (((L == 0) * (-softplus(-product)) + (L == 1) * (-softplus(product))))).sum()\n",
        "    res += ((q[1].reshape((q[1].shape[0], 1))) * (((L == 1) * (-softplus(-product)) + (L == 0) * (-softplus(product))))).sum()\n",
        "    return res"
      ]
    },
    {
      "cell_type": "markdown",
      "metadata": {
        "id": "tYQUn3cckD2r"
      },
      "source": [
        "**Подсказка:**\n",
        "* При проверке alpha значения, выдываемые функцией `check_grad` должны быть не более 0.01. Иначе у вас где-то ошибка\n",
        "* При проверке logbeta значения, выдываемые функцией `check_grad` должны быть не более 0.05. Иначе у вас где-то ошибка"
      ]
    },
    {
      "cell_type": "code",
      "execution_count": null,
      "metadata": {
        "scrolled": true,
        "id": "GU08j9XEkD2t",
        "colab": {
          "base_uri": "https://localhost:8080/"
        },
        "outputId": "eb3c8e3e-bf78-449e-8624-54344110a16d"
      },
      "outputs": [
        {
          "output_type": "execute_result",
          "data": {
            "text/plain": [
              "0.0012652275710580225"
            ]
          },
          "metadata": {},
          "execution_count": 12
        }
      ],
      "source": [
        "from scipy.optimize import check_grad\n",
        "from scipy.special import expit\n",
        "\n",
        "alpha, logbeta = np.random.randn(m), np.random.randn(n)\n",
        "beta = np.exp(logbeta)\n",
        "q = np.ones((2, len(beta))) * 0.5\n",
        "\n",
        "check_grad(\n",
        "    lambda a: lower_bound(a, beta, L, q),\n",
        "    lambda a: alpha_grad_lb(a, beta, L, q),\n",
        "    alpha\n",
        ")"
      ]
    },
    {
      "cell_type": "code",
      "execution_count": null,
      "metadata": {
        "id": "oxfHEURYkD2u",
        "colab": {
          "base_uri": "https://localhost:8080/"
        },
        "outputId": "fe1487e0-7dd2-4682-e303-c63480dd9cee"
      },
      "outputs": [
        {
          "output_type": "execute_result",
          "data": {
            "text/plain": [
              "0.009468004518962906"
            ]
          },
          "metadata": {},
          "execution_count": 13
        }
      ],
      "source": [
        "check_grad(\n",
        "    lambda lb: lower_bound(alpha, np.exp(lb), L, q),\n",
        "    lambda lb: logbeta_grad_lb(alpha, np.exp(lb), L, q),\n",
        "    logbeta\n",
        ")"
      ]
    },
    {
      "cell_type": "code",
      "execution_count": null,
      "metadata": {
        "id": "t638gWmfkD2v"
      },
      "outputs": [],
      "source": [
        "def em(L, n_steps=1000, lr=1e-3):\n",
        "    # initialize parameters\n",
        "    alpha, logbeta = np.random.randn(m), np.random.randn(n)\n",
        "    beta = np.exp(logbeta)\n",
        "    q = np.ones((2, len(beta))) * 0.5\n",
        "\n",
        "    for step in range(n_steps):\n",
        "        # E-step\n",
        "        q = posterior(alpha, beta, L)\n",
        "        # M-step\n",
        "        alpha_grad = alpha_grad_lb(alpha, beta, L, q)\n",
        "        logbeta_grad = logbeta_grad_lb(alpha, beta, L, q)\n",
        "        alpha += lr * alpha_grad\n",
        "        logbeta += lr * logbeta_grad\n",
        "        beta = np.exp(logbeta)\n",
        "\n",
        "\n",
        "    return alpha, np.exp(logbeta), q"
      ]
    },
    {
      "cell_type": "code",
      "execution_count": null,
      "metadata": {
        "id": "ostsZC9ukD2w"
      },
      "outputs": [],
      "source": [
        "alpha, beta, q = em(L)"
      ]
    },
    {
      "cell_type": "markdown",
      "metadata": {
        "id": "p0-_afOukD2y"
      },
      "source": [
        "---"
      ]
    },
    {
      "cell_type": "markdown",
      "metadata": {
        "id": "k-3GNwKlkD20"
      },
      "source": [
        "**Задание 2. (1 балл)** Загрузите настоящую разметку. Посчитайте `accuracy` разметки, полученной с помощью обычного голосования по большинству среди экспертов, и сравните его с качеством **(?)**, полученным с помощью EM-алгоритма."
      ]
    },
    {
      "cell_type": "markdown",
      "metadata": {
        "id": "bHFdhg1gkD21"
      },
      "source": [
        "**Разбалловка:**\n",
        "* **0.5 балла** -- качество голосования не менее 0.904\n",
        "* **0.5 балла** -- качестве EM не менее 0.95"
      ]
    },
    {
      "cell_type": "markdown",
      "metadata": {
        "id": "m-wYmrCAkD23"
      },
      "source": [
        "**Подсказка:**\n",
        "* Помните, что алгоритму не важно, какая метка 0, а какая 1, поэтому если получите качество <0.5, то просто поменяйте метки классов (не забудьте также поменять знак у $\\alpha$). "
      ]
    },
    {
      "cell_type": "markdown",
      "metadata": {
        "id": "JR8Ps0s8kD23"
      },
      "source": [
        "---"
      ]
    },
    {
      "cell_type": "code",
      "execution_count": null,
      "metadata": {
        "id": "26AsYEUZkD24",
        "colab": {
          "base_uri": "https://localhost:8080/"
        },
        "outputId": "5415547d-f350-4ec4-9070-94a973594713"
      },
      "outputs": [
        {
          "output_type": "stream",
          "name": "stdout",
          "text": [
            "Voting accuracy: 0.904\n",
            "EM algorithm accuracy: 0.9555\n"
          ]
        }
      ],
      "source": [
        "y = np.load('y.npy')\n",
        "# (∩ ￣ー￣)⊃ ✳✨✳✨✳✨✳\n",
        "voting_accuracy = ((L.mean(axis=1) > 0.5) == y).mean()\n",
        "EM_accuracy = ((q[1] > 0.5) == y).mean()\n",
        "print(f'Voting accuracy: {voting_accuracy}')\n",
        "print(f'EM algorithm accuracy: {EM_accuracy}')"
      ]
    },
    {
      "cell_type": "markdown",
      "metadata": {
        "id": "MuzSX3AvkD25"
      },
      "source": [
        "---"
      ]
    },
    {
      "cell_type": "markdown",
      "metadata": {
        "id": "bszYHeOykD26"
      },
      "source": [
        "**Задание 3. (0.5 балла)** **(?)** Попробуйте проинтерпретировать полученные коэфициенты $\\alpha$. **(?)**  Есть ли в выборке эксперты, которые намеренно голосуют неверно? **(?)**  Как это можно понять по альфам? \n",
        "\n",
        "* Продемонстрируйте, что эксперты действительно чаще голосуют за неверный класс. \n",
        "* Отобразите визуализацию зависимости доли врено размеченных экспертом объектов от коэффициента $\\alpha$.\n",
        "* **(?)**  Прокомментируйте результаты и полученную зависимость."
      ]
    },
    {
      "cell_type": "markdown",
      "metadata": {
        "id": "OJp9HyAwkD27"
      },
      "source": [
        "**Подсказки:**\n",
        "* Если вы отобразили или хотели отобразить зависимость при помощи обычного plot (график), то посмотрите повнимательнее/подумайте, почему это не очень хорошая визуализация. **Для возможности получения полного балла** правильно будет использовать тип отображения scatter plot.\n",
        "*  Также **для возможности получения полного балла** вам необходимо проинтерпретировать смысл зависимости для всех групп альф, которые вы увидите (спойлер: их должно быть 3:)"
      ]
    },
    {
      "cell_type": "markdown",
      "metadata": {
        "id": "8lSVUiGMkD28"
      },
      "source": [
        "---"
      ]
    },
    {
      "cell_type": "markdown",
      "source": [
        "Исходя из устройства введенной нами вероятностной модели, коэффициенты $\\alpha_j$ обладают следующим свойством. Т. к. $\\alpha_j \\in (-\\infty, +\\infty)$, $\\beta_i \\in (0, +\\infty)$, то при фиксированном $\\beta_i$ при $\\alpha_j \\to +\\infty$ $p(l_{ij}=z_i|z_i, \\alpha_j, \\beta_i)=\\frac{1}{1+e^{-\\alpha_j \\beta_i}} \\to 1$, т. е. $j$-ый эксперт всегда правильно решает задачу, если ее сложность $\\beta_i$ конечна. При $\\alpha_j \\to -\\infty$ же $p(l_{ij} = z_i|z_i, \\alpha_j, \\beta_i)=\\frac{1}{1+e^{-\\alpha_j \\beta_i}} \\to 0$, т. е. эксперт всегда выдает неверный ответ, намеренно или в силу высокой, но конечной сложности задачи."
      ],
      "metadata": {
        "id": "wt9SQz30oiVF"
      }
    },
    {
      "cell_type": "markdown",
      "source": [
        "Рассмотрим зависимость доли верных ответов экспертов от коэффициентов $\\alpha_j$"
      ],
      "metadata": {
        "id": "uK5wiTRcFBzF"
      }
    },
    {
      "cell_type": "code",
      "execution_count": null,
      "metadata": {
        "id": "nMCa_rJRkD29",
        "colab": {
          "base_uri": "https://localhost:8080/",
          "height": 934
        },
        "outputId": "78872c1b-b9ef-4cd1-c397-9dafe9284c7f"
      },
      "outputs": [
        {
          "output_type": "execute_result",
          "data": {
            "text/plain": [
              "Text(0, 0.5, 'Точность разметки эксперта')"
            ]
          },
          "metadata": {},
          "execution_count": 21
        },
        {
          "output_type": "display_data",
          "data": {
            "text/plain": [
              "<Figure size 1440x1080 with 1 Axes>"
            ],
            "image/png": "[encoded data removed]"
          },
          "metadata": {
            "needs_background": "light"
          }
        }
      ],
      "source": [
        "# (∩ᄑ_ᄑ)⊃━☆ﾟ*･｡*\n",
        "import matplotlib.pyplot as plt\n",
        "plt.rc('font', size=18)\n",
        "accuracies = (L == y[:, None]).mean(axis=0)\n",
        "plt.figure(figsize=(20, 15))\n",
        "plt.scatter(alpha, accuracies)\n",
        "plt.grid(True)\n",
        "plt.title(r'Зависимость точности экспертов от коэффициента $\\alpha$')\n",
        "plt.xlabel(r'$\\alpha$')\n",
        "plt.ylabel('Точность разметки эксперта')\n",
        "\n"
      ]
    },
    {
      "cell_type": "markdown",
      "source": [
        "Действительно, с ростом $\\alpha_j$ точность разметки возрастает. При этом заметно выделяются три группы наблюдений, условно при $\\alpha < 0$, $\\alpha \\approx 0$, $\\alpha > 0$. Для группы с $\\alpha < 0$ точность крайне низкая, около 0, что свидетельствует о намеренно неверной классификации экспертами, иных ошибках или специфичности задачи. Для группы с $\\alpha \\approx 0$ точность приблизительно равна 0.7. Это неплохая, но недостаточно точная разметка. Таким образом, соответствующие эксперты стараются решать задачу (по крайней мере не ошибаются целенаправленно), но все же совершают ошибки, возможно в силу различных неоднозначностей и т. д. Для группы с $\\alpha > 0$ точность высокая, около 0.9, что говорит о квалифицированности и добросовестности экспертов, а также возможно о простоте и однозначности соответствующих задач. "
      ],
      "metadata": {
        "id": "pyI4UhztHRSG"
      }
    },
    {
      "cell_type": "markdown",
      "source": [
        "Таким образом, точность ответов эксперта дейтсвительно прямопропорциональна коэффициенту $\\alpha$, и большие значения $\\alpha$ действительно соответствуют высокой точности разметки. Малые отрицательные $\\alpha$ соответствуют почти нулевой точности, что свидетельствует о целенаправленно ошибочных ответах экспертов. Это также говорит о том, что по сути эксперты меняют местами метки классов, т. е. верно определяют правильные ответы, но намеренно ставят противоположные. Таким образом, в выборке присутствуют эксперты, специально голосующие неверно. "
      ],
      "metadata": {
        "id": "ntPvkhN_I_H2"
      }
    },
    {
      "cell_type": "markdown",
      "metadata": {
        "id": "HT3ZIapekD2-"
      },
      "source": [
        "---"
      ]
    },
    {
      "cell_type": "markdown",
      "metadata": {
        "id": "97Wv4NffkD3A"
      },
      "source": [
        "**Задание 4. (бонус, 1 балл)**  Как уже было замечено выше, модели не важно, какой класс 1, а какой 0. Скажем, если все эксперты оказались максимально противными и ставят метку с точностью наоборот, то у вас будет полная согласованность между экспертами, при этом невозможно понять правильно они разметили выборку или нет, смотря только на такую разметку. Чтобы избежать этого, можно включать в выборку вопрос с заведомо известным ответом, тогда вы сможете определить, ставит ли эксперт специально неверные метки.\n",
        "\n",
        "Чтобы обощить данную модель на случай заданий с заведомо известной меткой, достоточно не делать для них E-шаг, а всегда полагать апостериорное распределение вырожденным в истинном классе. \n",
        "\n",
        "* Реализуйте данную модель и используйте истинную разметку *для нескольких* задач из обучения. \n",
        "* **(?)**  Сравните модифицированный алгоритм с обычным. \n",
        "* **(?)** Проинтерпретируйте полученные результаты."
      ]
    },
    {
      "cell_type": "markdown",
      "metadata": {
        "id": "QvJl95QfkD3A"
      },
      "source": [
        "**Подсказка:**\n",
        "* Как можно сравнить, что модифицированный алгоритм действительно \"лучше\" обычного: запускаем обычный и модифицированный много раз (например, 100). Для каждой версии считаем распределение полученных accuracy_score. Если все сделано верно, то в модифицированной версии доля больших значений accuracy должна быть выше, чем низких (это как раз и есть сигнал о перепутывании классов), а в обычной версии -- доли должны быть примерно равны. **Для возможности получения полного балла мы ожидаем от вас какого-то такого или похожего сравнения**"
      ]
    },
    {
      "cell_type": "markdown",
      "metadata": {
        "id": "bJqzKbatkD3B"
      },
      "source": [
        "---"
      ]
    },
    {
      "cell_type": "markdown",
      "source": [
        "Индексы объектов с известным ответом будем генерировать случайно."
      ],
      "metadata": {
        "id": "mxrZX3IdNZPU"
      }
    },
    {
      "cell_type": "code",
      "execution_count": null,
      "metadata": {
        "id": "uqjg6XnOkD3C"
      },
      "outputs": [],
      "source": [
        "# (∩ᄑ_ᄑ)⊃━☆ﾟ*･｡*\n",
        "def get_idx(y, num):\n",
        "    known_idx0 = np.random.choice(np.arange(len(y)), num, replace=False, p=(y == 0)/(y == 0).sum())\n",
        "    known_idx1 = np.random.choice(np.arange(len(y)), num, replace=False, p=(y == 1)/(y == 1).sum())\n",
        "    return np.concatenate((known_idx0.reshape((1, known_idx0.shape[0])), known_idx1.reshape((1, known_idx1.shape[0]))), axis=1)"
      ]
    },
    {
      "cell_type": "markdown",
      "source": [
        "Для объектов с известной истинной меткой Е-шаг не выполняем."
      ],
      "metadata": {
        "id": "3LJd4yzuaBJn"
      }
    },
    {
      "cell_type": "code",
      "source": [
        "def em_labeled(L, labeled_idx, labels, n_steps=1000, lr=1e-3):\n",
        "    # initialize parameters\n",
        "    alpha, logbeta = np.random.randn(m), np.random.randn(n)\n",
        "    beta = np.exp(logbeta)\n",
        "    q = np.ones((2, len(beta))) * 0.5\n",
        "    q[0, labeled_idx] = (labels == 0)\n",
        "    q[1, labeled_idx] = (labels == 1)\n",
        "    nonskip_idx = np.ones(q.shape[1], dtype=bool)\n",
        "    nonskip_idx[labeled_idx] = False\n",
        "    for step in range(n_steps):\n",
        "        # E-step\n",
        "        q[:, nonskip_idx] = posterior(alpha, beta[nonskip_idx], L[nonskip_idx])\n",
        "        # M-step\n",
        "        alpha_grad = alpha_grad_lb(alpha, beta, L, q)\n",
        "        logbeta_grad = logbeta_grad_lb(alpha, beta, L, q)\n",
        "        alpha += lr * alpha_grad\n",
        "        logbeta += lr * logbeta_grad\n",
        "        beta = np.exp(logbeta)\n",
        "\n",
        "\n",
        "    return alpha, np.exp(logbeta), q"
      ],
      "metadata": {
        "id": "1LYOOm7QUsy1"
      },
      "execution_count": null,
      "outputs": []
    },
    {
      "cell_type": "markdown",
      "source": [
        "Запустим 100 итераций обеих версий алгоритма, посчитаем и сравним распределение получаемых точностей."
      ],
      "metadata": {
        "id": "EBD4DYfpaU14"
      }
    },
    {
      "cell_type": "code",
      "source": [
        "L.shape"
      ],
      "metadata": {
        "colab": {
          "base_uri": "https://localhost:8080/"
        },
        "id": "FMWFo25PbcqA",
        "outputId": "ecfca1ec-bb70-47f0-fb91-d70edf25badd"
      },
      "execution_count": null,
      "outputs": [
        {
          "output_type": "execute_result",
          "data": {
            "text/plain": [
              "(2000, 20)"
            ]
          },
          "metadata": {},
          "execution_count": 20
        }
      ]
    },
    {
      "cell_type": "code",
      "source": [
        "accuracies = []\n",
        "labeled_accuracies = []\n",
        "\n",
        "for i in range(100):\n",
        "    alpha, beta, q = em(L)\n",
        "    accuracy = ((q[1] > 0.5) == y).mean()\n",
        "    accuracies.append(accuracy)\n",
        "\n",
        "    idx = get_idx(y, 100)\n",
        "    with_no_labels = np.ones(len(y), dtype=bool)\n",
        "    with_no_labels[idx] = False\n",
        "    alpha_l, beta_l, q_l = em_labeled(L, idx, y[idx])\n",
        "    # Т. к. для некоторых ответов знаем точную метку\n",
        "    accuracy_l = ((q_l[1][with_no_labels] > 0.5) == y[with_no_labels]).mean()\n",
        "    labeled_accuracies.append(accuracy_l)"
      ],
      "metadata": {
        "id": "KYAGyTsMaHWN"
      },
      "execution_count": null,
      "outputs": []
    },
    {
      "cell_type": "code",
      "source": [
        "plt.figure(figsize=(20, 15))\n",
        "plt.rc('font', size=18)\n",
        "plt.title('Распределение точностей разметки в различных версиях ЕМ-алгоритма')\n",
        "plt.xlabel('Точность')\n",
        "plt.ylabel('Количество')\n",
        "plt.hist(accuracies, label='Стандартный ЕМ алгоритм')\n",
        "plt.hist(labeled_accuracies, label='ЕМ-алгоритм с частично известной истинной разметкой')\n",
        "plt.legend()\n",
        "plt.grid(True)\n"
      ],
      "metadata": {
        "colab": {
          "base_uri": "https://localhost:8080/",
          "height": 916
        },
        "id": "gJOkCcO9c1K6",
        "outputId": "efacd93d-4975-44bd-cd58-79d6449e32c4"
      },
      "execution_count": null,
      "outputs": [
        {
          "output_type": "display_data",
          "data": {
            "text/plain": [
              "<Figure size 1440x1080 with 1 Axes>"
            ],
            "image/png": "[encoded data removed]"
          },
          "metadata": {
            "needs_background": "light"
          }
        }
      ]
    },
    {
      "cell_type": "markdown",
      "source": [
        "Действительно, для модифицированной версии алгоритма высоких значений точности больше, чем низких. Для стандартного алгоритма это не выполняется, низких значений немного больше, чем высоких. Таким образом, модифицированная версия лучше стандартной, получается меньше ошибок и намеренно неверных ответов."
      ],
      "metadata": {
        "id": "sUtAuhdliXSh"
      }
    },
    {
      "cell_type": "markdown",
      "metadata": {
        "id": "fx4SXFpHkD3E"
      },
      "source": [
        "# Выравнивание слов (Word Alignment)"
      ]
    },
    {
      "cell_type": "markdown",
      "metadata": {
        "id": "dgsKVA4_kD3G"
      },
      "source": [
        "EM-алгоритм также применяют на практике для настройки параметров модели выравнивания слов, более сложные модификации которой используются в статистическом машинном переводе. Мы не будем подробно обсуждать применение word alignment для перевода и ограничимся следующей целью: пусть у нас есть параллельный корпус из предложений на исходном языке и их переводов на целевой язык (в этом задании используются английский и чешский соответственно). \n",
        "\n",
        "Первая задача — определить с помощью этого корпуса, как переводится каждое отдельное слово на целевом языке. Вторая задача — для произвольной пары из предложения и его перевода установить, переводом какого слова в исходном предложении является каждое слово в целевом предложении. Оказывается, у обеих задач существует элегантное и эффективное решение при введении правильной вероятностной модели: в этой части задания вам предстоит его реализовать и оценить результаты работы. Но обо всём по порядку :)\n",
        "\n",
        "---\n",
        "\n",
        "Перед тем, как заниматься машинным обучением, давайте разберёмся с данными и метриками в интересующей нас задаче. В ячейке ниже загружается и разархивируется параллельный английско-чешский корпус, в котором есть разметка выравнивания слов. Нетрудно заметить, что формат XML-файла, использованный его авторами, не вполне стандартный: нет готовой команды , которая позволила бы получить список пар предложений вместе с выравниваниями. Это значит, что нужно разобраться с форматом и написать парсер самостоятельно, используя встроенные средства Python, например, модуль [xml](https://docs.python.org/3.7/library/xml.html).\n",
        "\n",
        "**Подсказка:**\n",
        "* Не обязательно парсить только через xml, если хотите, можете написать парсинг сами"
      ]
    },
    {
      "cell_type": "code",
      "execution_count": null,
      "metadata": {
        "id": "-zALZ8t0kD3H",
        "colab": {
          "base_uri": "https://localhost:8080/"
        },
        "outputId": "c6e2d096-18c7-46f7-c288-14af73f9e215"
      },
      "outputs": [
        {
          "output_type": "stream",
          "name": "stdout",
          "text": [
            "<?xml version=\"1.0\" encoding=\"utf-8\" ?>\n",
            "<sentences>\n",
            "<s id=\"project_syndicate_bacchetta1-s1\">\r\n",
            "  <english>Are the Dollar 's Days Numbered ?</english>\n",
            "  <czech>Jsou dny dolaru sečteny ?</czech>\n",
            "  <sure>1-1 3-3 5-2 6-4 7-5</sure>\n",
            "  <possible>2-2 4-3</possible>\n",
            "</s>\n",
            "<s id=\"project_syndicate_bacchetta1-s2\">\r\n",
            "  <english>Philippe Bacchetta and Eric van Wincoop</english>\n",
            "  <czech>Philippe Bacchetta and Eric van Wincoop</czech>\n",
            "  <sure>1-1 2-2 3-3 4-4 5-5 6-6</sure>\n",
            "  <possible></possible>\n",
            "</s>\n",
            "<s id=\"project_syndicate_bacchetta1-s3\">\r\n",
            "  <english>A year ago , the dollar bestrode the world like a colossus .</english>\n",
            "  <czech>Ještě před rokem dolar dominoval světu jako imperátor .</czech>\n",
            "  <sure>10-7 12-8 13-9 2-3 3-2 6-4 7-5 9-6</sure>\n",
            "  <possible>1-3 11-8 3-1 5-4 8-6</possible>\n",
            "</s>\n"
          ]
        }
      ],
      "source": [
        "%%bash\n",
        "wget -q https://lindat.mff.cuni.cz/repository/xmlui/bitstream/handle/11234/1-1804/CzEnAli_1.0.tar.gz -O CzEnAli_1.0.tar.gz\n",
        "mkdir -p data\n",
        "tar -xzf CzEnAli_1.0.tar.gz -C data/\n",
        "head -n 20 data/merged_data/project_syndicate/project_syndicate_bacchetta1.wa"
      ]
    },
    {
      "cell_type": "markdown",
      "metadata": {
        "id": "x4lQHgRukD3I"
      },
      "source": [
        "**Задание -2. (0.5 балла)** Реализуйте функцию `extract_sentences`, которая принимает на вход путь к файлу с XML-разметкой, используемой в этом датасете, и возвращает список параллельных предложений, а также список из «уверенных» (sure) и «возможных» (possible) пар выравниваний. Отправьте вашу реализацию в Яндекс.Контест, чтобы убедиться в её корректности; в следующей ячейке ноутбука соберите все пары размеченных предложений из датасета в два списка `all_sentences` (список `SentencePair`) и `all_targets` (список LabeledAlignment)."
      ]
    },
    {
      "cell_type": "markdown",
      "metadata": {
        "id": "DFkeDp9HkD3J"
      },
      "source": [
        "**Подсказка:**\n",
        "* Брать файлы нужно из всей папки data конструкцией наподобие `for file in glob.glob('data/*/*/*.wa')`\n",
        "* Возможно у вас не будут проходить тесты, но вы не будете понимать, в чем же дело:) Попробуйте в таком случае заменить & на `&amp;` или \n",
        "`&#038;`\n",
        "https://stackoverflow.com/questions/17423495/how-to-solve-ampersand-conversion-issue-in-xml\n"
      ]
    },
    {
      "cell_type": "markdown",
      "metadata": {
        "id": "h1rZm_DPkD3K"
      },
      "source": [
        "---"
      ]
    },
    {
      "cell_type": "markdown",
      "metadata": {
        "id": "pI2MteAOkD3K"
      },
      "source": [
        "**Замечание:** \n",
        "* **Полностью проходящая все тесты посылка в этом заданиии дает 0.5 балла. За непроходящий хотя бы 1 тест вы получите 0 баллов.**\n",
        "* Здесь и далее соблюдайте сигнатуры функций и пользуйтесь объявленными в модуле `preprocessing.py` классами для организации данных. Стоит заметить, что предложения уже токенизированы (даже отделена пунктуация), поэтому предобработку текстов совершать не нужно. Обратите внимание на формат хранения выравниваний: нумерация начинается с 1 (в таком виде и нужно сохранять), первым в паре идёт слово из англоязычного предложения."
      ]
    },
    {
      "cell_type": "markdown",
      "metadata": {
        "id": "BUaxhsFPkD3L"
      },
      "source": [
        "---\n",
        "**>>Ваша ссылка на посылку:<<**\n",
        "\n",
        "https://contest.yandex.ru/contest/35552/run-report/67260357/\n",
        "\n",
        "---"
      ]
    },
    {
      "cell_type": "code",
      "execution_count": null,
      "metadata": {
        "id": "i1TF8E0wkD3L"
      },
      "outputs": [],
      "source": [
        "import glob\n",
        "from preprocessing import extract_sentences\n",
        "\n",
        "all_sentences = []\n",
        "all_targets = []\n",
        "# (´◕▽◕)⊃━☆\n",
        "\n",
        "for f in glob.glob('data/*/*/*.wa'):\n",
        "    sentence_pairs, alignment_pairs = extract_sentences(f)\n",
        "    all_sentences += sentence_pairs\n",
        "    all_targets += alignment_pairs "
      ]
    },
    {
      "cell_type": "markdown",
      "metadata": {
        "id": "awexN38_kD3M"
      },
      "source": [
        "---"
      ]
    },
    {
      "cell_type": "markdown",
      "metadata": {
        "id": "zm8qYk0RkD3N"
      },
      "source": [
        "**Задание -1. (0.5 балла)** Реализуйте функции `get_token_to_index` и `tokenize_sents` из модуля `preprocessing.py`, постройте словари token->index для обоих языков и постройте список из `TokenizedSentencePair` по выборке. Реализации функций также отправьте в Яндекс.Контест."
      ]
    },
    {
      "cell_type": "markdown",
      "metadata": {
        "id": "F6UCE4cvkD3N"
      },
      "source": [
        "**Замечание:** \n",
        "* **Полностью проходящая все тесты посылка в этом заданиии дает 0.5 балла. За непроходящий хотя бы 1 тест вы получите 0 баллов.**"
      ]
    },
    {
      "cell_type": "markdown",
      "metadata": {
        "id": "Lyxe7W_7kD3O"
      },
      "source": [
        "---\n",
        "**>>Ваша ссылка на посылку:<<**\n",
        "\n",
        "https://contest.yandex.ru/contest/35552/run-report/67260312/\n",
        "\n",
        "---"
      ]
    },
    {
      "cell_type": "code",
      "execution_count": null,
      "metadata": {
        "id": "qPF2r4exkD3Q"
      },
      "outputs": [],
      "source": [
        "from preprocessing import get_token_to_index, tokenize_sents\n",
        "\n",
        "t_idx_src, t_idx_tgt = get_token_to_index(all_sentences)\n",
        "tokenized_sentences = tokenize_sents(all_sentences, t_idx_src, t_idx_tgt)"
      ]
    },
    {
      "cell_type": "markdown",
      "metadata": {
        "id": "8b0_nacEkD3Q"
      },
      "source": [
        "В качестве бейзлайна для этой задачи мы возьмём способ выравнивания слов по коэффициенту Дайса: слово в исходном языке является переводом слова на целевом языке, если они часто встречаются в одних и тех же предложениях и редко встречаются по отдельности. \n",
        "\n",
        "Математически это записывается по аналогии с мерой Жаккара: пусть $c(x,y)$ — число параллельных предложений, в которых есть и $x$ (на исходном языке), и $y$ (на целевом языке), а $c(x)$ и $c(y)$ — суммарное количество предложений, в которых встречается слово $x$ и $y$ соответственно. Тогда $\\textrm{Dice}(x,y)=\\frac{2 \\cdot c(x,y)}{c(x) + c(y)}$ — характеристика «похожести» слов $x$ и $y$. Она равна 1, если слова встречаются только в контексте друг друга (не бывает предложений только со словом $x$ без $y$ в переводе и наоборот), равна 0, если слова никогда не встречаются в параллельных предложениях и находится между пороговыми значениями в остальных случаях.\n",
        "\n",
        "В файле `models.py` описан абстрактный класс `BaseAligner`, наследником которого должны являться все модели в задании, а также приведён пример реализации `DiceAligner` выравнивания слов описанным выше путём. Ниже вы можете увидеть, как применять эту модель."
      ]
    },
    {
      "cell_type": "code",
      "execution_count": null,
      "metadata": {
        "id": "HNqYByy8kD3R"
      },
      "outputs": [],
      "source": [
        "from models import DiceAligner\n",
        "\n",
        "baseline = DiceAligner(len(t_idx_src), len(t_idx_tgt), threshold=0.01)\n",
        "baseline.fit(tokenized_sentences)"
      ]
    },
    {
      "cell_type": "markdown",
      "metadata": {
        "id": "X9qkLQ43kD3T"
      },
      "source": [
        "---"
      ]
    },
    {
      "cell_type": "markdown",
      "metadata": {
        "id": "y0rIDl2NkD3T"
      },
      "source": [
        "Чтобы оценить качество модели выравнивания, пользуясь имеющейся разметкой, существует ряд автоматических метрик. Они подразумевают, что в разметке есть два вида выравниваний — «уверенные» (sure) и «возможные» (possible). Обозначим для конкретного предложения первое множество выравниваний $S$, второе — $P$, а предсказанные выравнивания — $A$; причём, в отличие от разметки в файле, $S\\subseteq P$. Тогда можно предложить три метрики, используя только операции над этими множествами:\n",
        "\n",
        "Precision $=\\frac{|A\\cap P|}{|A|}$. Отражает, какая доля предсказанных нами выравниваний вообще корректна; если мы дадим в качестве ответа все возможные пары слов в предложении, эта метрика сильно просядет.\n",
        "\n",
        "Recall $=\\frac{|A\\cap S|}{|S|}$. Эта метрика показывает, какую долю «уверенных» выравниваний мы обнаружили. Если мы попытаемся сделать слишком консервативную модель, которая выдаёт 0 или 1 предсказание на нетривиальных предложениях, полнота получится крайне низкая. \n",
        "\n",
        "Alignment Error Rate (AER) $=1-\\frac{|A\\cap P|+|A\\cap S|}{|A|+|S|}$. Метрика является комбинацией двух предыдущих и отслеживает общее качество работы системы, штрафуя оба описанных выше вида нежелаемого поведения модели. "
      ]
    },
    {
      "cell_type": "markdown",
      "metadata": {
        "id": "7NBDBKybkD3U"
      },
      "source": [
        "**Задание 0. (0.5 балла)** Реализуйте функции compute_precision, compute_recall, compute_aer из модуля metrics.py. Оцените качество бейзлайнового метода. Обратите внимание, что нужно использовать микро-усреднение во всех функциях: необходимо просуммировать числитель и знаменатель по всем предложениям и только потом делить."
      ]
    },
    {
      "cell_type": "markdown",
      "metadata": {
        "id": "QmtYA4VPkD3V"
      },
      "source": [
        "**Замечание:**\n",
        "* **Для возможности получения полного балла** ошибка aer должна быть не выше **0.82.** Если получили значение выше -- скорее всего, у вас где-то ошибка\n",
        "* **Полностью проходящая все тесты посылка в этом заданиии дает 0.5 балла. За непроходящий хотя бы 1 тест вы получите 0 баллов.**"
      ]
    },
    {
      "cell_type": "markdown",
      "metadata": {
        "id": "n9-i8gR4kD3W"
      },
      "source": [
        "---\n",
        "**>>Ваша ссылка на посылку:<<**\n",
        "\n",
        "https://contest.yandex.ru/contest/35552/run-report/67270294/\n"
      ]
    },
    {
      "cell_type": "markdown",
      "metadata": {
        "id": "cKXncuT_kD3X"
      },
      "source": [
        "---"
      ]
    },
    {
      "cell_type": "code",
      "execution_count": null,
      "metadata": {
        "id": "CC_nMcPokD3Y",
        "colab": {
          "base_uri": "https://localhost:8080/"
        },
        "outputId": "5c38b147-6f80-4fbb-84da-75f3e3abb88d"
      },
      "outputs": [
        {
          "output_type": "execute_result",
          "data": {
            "text/plain": [
              "0.7717808515902359"
            ]
          },
          "metadata": {},
          "execution_count": 24
        }
      ],
      "source": [
        "from metrics import compute_aer\n",
        "\n",
        "compute_aer(all_targets,baseline.align(tokenized_sentences))"
      ]
    },
    {
      "cell_type": "markdown",
      "metadata": {
        "id": "os3k5oxIkD3Y"
      },
      "source": [
        "---"
      ]
    },
    {
      "cell_type": "markdown",
      "metadata": {
        "id": "XijYe-bRkD3a"
      },
      "source": [
        "Теперь мы можем перейти к базовой вероятностной модели для выравнивания слов. Пусть $S=(s_1,\\ldots,s_n)$ исходное предложение, $T=(t_1,\\ldots,t_m)$ — его перевод. В роли латентных переменных будут выступать выравнивания $A=(a_1,\\ldots,a_m)$ каждого слова в целевом предложении, причём $a_i\\in\\{1,\\ldots,n\\}$ (считаем, что каждое слово в $t$ является переводом какого-то слова из $s$). Параметрами модели является матрица условных вероятностей перевода: каждый её элемент $\\theta(y|x)=p(y|x)$ отражает вероятность того, что переводом слова $x$ с исходного языка на целевой является слово $y$ (нормировка, соответственно, совершается по словарю целевого языка). Правдоподобие латентных переменных и предложения на целевом языке в этой модели записывается так:\n",
        "\n",
        "$$\n",
        "p(A,T|S)=\\prod_{i=1}^m p(a_i)p(t_i|a_i,S)=\\prod_{i=1}^m \\frac{1}{n}\\theta(t_i|s_{a_i}).\n",
        "$$ "
      ]
    },
    {
      "cell_type": "markdown",
      "metadata": {
        "id": "-Vyn-61vkD3b"
      },
      "source": [
        "**Задание 1. (2 балла)** Выведите шаги EM-алгоритма для этой модели, а также получите выражение для подсчёта нижней оценки правдоподобия ($\\mathcal{L}$ в обозначениях лекции и семинара). **Обратите внимание, что на M-шаге нужно найти аналитический максимум по параметрам.**"
      ]
    },
    {
      "cell_type": "markdown",
      "metadata": {
        "id": "Ix4he52WkD3d"
      },
      "source": [
        "**Замечание:**\n",
        "* _Возможные форматы ответа:_ в ячейке ноутбука, отдельно сданная в энитаск pdf c набранными формулами в LaTex, отдельная сданная в энитаск фотография (или скан) рукописного (и разборчивого) вывода.\n",
        "* Наличие только ответа оценивается **в 0 баллов**\n",
        "* Наличие неочевидных переходов без пояснений влияет на **баллы в меньшую сторону**\n",
        "\n",
        "**Подсказка:**\n",
        "* Не забывайте об ограничениях по значению на $\\theta$, это должно быть тем или иным образом отображено в выводе шагов\n",
        "* Помните, что у вас в корпусе несколько предложений (положим их число равным $R$ например)\n",
        "* А также помните, что длины каждой пары (предложение, перевод) различны. Длины предложений $i-$й пары можно обозначать, например, как $n_i$ и $m_i$. "
      ]
    },
    {
      "cell_type": "markdown",
      "metadata": {
        "id": "b1_-CWInkD3e"
      },
      "source": [
        "(∩｀-´)⊃━☆ﾟ.*･｡ﾟ\n",
        "\n",
        "Пусть имеется $R$ пар предложений в параллельном корпусе. Пусть $n_i$ - число слов в предложении исходного языка $S_i=(s_{i, 1}, ... , s_{i, n_i})$ в $i$-ой паре, $m_i$ - число слов в предложении целевого языка $T_i=(t_{i, 1}, ... , t_{i, m_i})$ в $i$-ой паре. $A_i=(a_{i, 1}, ... , a_{i, m_i})$ - выравнивания для слов предложения целевого языка в $i$-ой паре, $a_{i, k}$ - выравнивание для $k$-ого слова соответственно. $A_i$-ые - по сути скрытые переменные. $\\theta(y|x)=p(y|x)$ - условная вероятность того, что переводом слова $x$ из исходного языка является слово $y$ в целевом языке. Пусть $S=(S_1, ... , S_R)$ - множество всех предложений исходного языка, $T=(T_1, ..., T_R)$ - множество всех предложений целевого языка, $A=(A_1, ... , A_R)$ - множество соответствующих выравниваний для предложений целевого языка.   "
      ]
    },
    {
      "cell_type": "markdown",
      "source": [
        "Распишем формулы EM-алгоритма.\n",
        "\n",
        "Е-шаг: \n",
        "\n",
        "Запишем сначала вспомогательное выражение, применив формулу правдоподобия латентных переменных и предложения на целевом языке:\n",
        "\n",
        "$p(a_{i, k}=j, t_{i, k}|S_i)=p(t_{i, k}|a_{i, k}=j, S_i)p(a_{i, k}=j)=\\frac{\\theta(t_{i, k}|s_{i, j})}{n_i}$\n",
        "\n",
        "\n",
        "\n",
        "Обновляем распределение скрытых переменных, присвоим в $q^*(A)$ апостериорное распределение $p(A|S, T)$. Распишем поэлементно, для $i$-ого предложения, $j$-ого исходного слова и $k$-ого слова-перевода:\n",
        "\n",
        "$q_{i, jk}=q^*(a_{i, k}=j)=p(a_{i, k}=j|S_i, t_{i, k})=\\frac{p(a_{i, k}=j, t_{i,k}|S_i)}{p(t_{i, k}|S_i)}=\\frac{p(a_{i, k}=j, t_{i,k}|S_i)}{\\sum_{w=1}^{n_i}p(a_{i, k}=w, t_{i, k}|S_i)}=\\frac{n_i \\theta(t_{i, k}|s_{i,j})}{\\sum_{w=1}^{n_i}n_i \\theta(t_{i, k}|s_{i, w})}=\\frac{\\theta(t_{i, k}|s_{i,j})}{\\sum_{w=1}^{n_i}\\theta(t_{i, k}|s_{i, w})}$\n",
        "\n",
        "М-шаг:\n",
        "\n",
        "Максимизируем нижнюю оценку логарифма полного правдоподобия $\\mathcal{L}$, обновляем $\\theta(y|x)$. Для начала найдем выражение для нижней оценки логарифма правдоподобия, интегрирование сведется к суммированию по всем $q_{i, jk}$:\n",
        "\n",
        "$\\mathcal{L}=\\int q^*(A)\\log \\frac{p(A, T)}{q^*(A)}dA=\\sum_{i=1}^R \\sum_{j=1}^{n_i}\\sum_{k=1}^{m_i}q_{i, jk}\\log \\frac{p(a_{i, k}=j, t_{i, k}|S_i)}{q_{i, jk}}=\\sum_{i=1}^R \\sum_{j=1}^{n_i}\\sum_{k=1}^{m_i}q_{i, jk}\\log \\frac{\\theta(t_{i, k}|s_{i, j})}{n_i q_{i, jk}}=$\n",
        "\n",
        "$=\\sum_{i=1}^R \\sum_{j=1}^{n_i}\\sum_{k=1}^{m_i}q_{i, jk}\\log \\theta(t_{i, k}|s_{i, j})-\\sum_{i=1}^R \\sum_{j=1}^{n_i}\\sum_{k=1}^{m_i}q_{i, jk}\\log n_iq_{i, jk}$\n",
        "\n",
        "Далее требуется промаксимизировтаь данную оценку по набору $\\Theta$ всех параметров $\\theta(y|x)$:\n",
        "\n",
        "$\\Theta^{new}=\\underset{\\Theta}{\\operatorname{argmax}}\\mathcal{L}=\\underset{\\Theta}{\\operatorname{argmax}}(\\sum_{i=1}^R \\sum_{j=1}^{n_i}\\sum_{k=1}^{m_i}q_{i, jk}\\log \\theta(t_{i, k}|s_{i, j})-\\sum_{i=1}^R \\sum_{j=1}^{n_i}\\sum_{k=1}^{m_i}q_{i, jk}\\log n_iq_{i, jk})=$\n",
        "\n",
        "$=\\underset{\\Theta}{\\operatorname{argmax}}\\sum_{i=1}^R \\sum_{j=1}^{n_i}\\sum_{k=1}^{m_i}q_{i, jk}\\log \\theta(t_{i, k}|s_{i, j})$\n",
        "\n",
        "В итоге имеем задачу максимизации: $\\sum_{i=1}^R \\sum_{j=1}^{n_i}\\sum_{k=1}^{m_i}q_{i, jk}\\log \\theta(t_{i, k}|s_{i, j}) \\to \\underset{\\Theta}{\\operatorname{max}}$\n",
        "\n",
        "При этом имеем и ограничения. Для каждой пары предложений каждое слово исходного языка вообще говоря может быть переведено как любое слово целевого языка, причем не обязательно встречающееся в предложении целевого языка пары. Если $X$-алфавит исходного языка, $Y$-алфавит целевого языка, то $\\forall x \\in X$ $\\sum_{y \\in Y}\\theta(y|x)=1$. \n",
        "\n",
        "Запишем лагранжиан задачи:\n",
        "\n",
        "$L=\\sum_{i=1}^R \\sum_{j=1}^{n_i}\\sum_{k=1}^{m_i}q_{i, jk}\\log \\theta(t_{i, k}|s_{i, j})-\\sum_{x \\in X}\\lambda_x(\\sum_{y \\in Y}\\theta(y|x)-1)$\n",
        "\n",
        "Найдем производную по $\\theta(y|x)$ и приравняем ее нулю:\n",
        "\n",
        "$\\frac{\\partial L}{\\partial \\theta(y|x)}=\\sum_{i=1}^R \\sum_{j=1}^{n_i}\\sum_{k=1}^{m_i}q_{i, jk}\\frac{\\partial}{\\partial \\theta(y|x)}\\log \\theta(t_{i, k}|s_{i, j})-\\frac{\\partial}{\\partial \\theta(y|x)}(\\sum_{x \\in X}\\lambda_x(\\sum_{y \\in Y}\\theta(y|x)-1))=$\n",
        "\n",
        "$=\\sum_{i=1}^R \\sum_{j=1}^{n_i}\\sum_{k=1}^{m_i}\\frac{q_{i, jk}[t_{i, k}=y][s_{i,j}=x]}{\\theta(y|x)}-\\lambda_x=0 \\Rightarrow \\theta(y|x)=\\frac{1}{\\lambda_x}\\sum_{i=1}^R \\sum_{j=1}^{n_i}\\sum_{k=1}^{m_i} q_{i, jk}[t_{i, k}=y][s_{i,j}=x]$\n",
        "\n",
        "Необходимо найти $\\lambda_x$. Воспользуемся условиями ограничения: $\\forall x \\in X$ $\\sum_{y \\in Y}\\theta(y|x)=1 \\Rightarrow$\n",
        "\n",
        "$\\Rightarrow \\sum_{y \\in Y}\\theta(y|x)=\\sum_{y \\in Y}\\frac{1}{\\lambda_x}\\sum_{i=1}^R \\sum_{j=1}^{n_i}\\sum_{k=1}^{m_i} q_{i, jk}[t_{i, k}=y][s_{i,j}=x]=$\n",
        "\n",
        "$=\\frac{1}{\\lambda_x}\\sum_{i=1}^R \\sum_{j=1}^{n_i}\\sum_{k=1}^{m_i} q_{i, jk}[s_{i,j}=x]\\sum_{y \\in Y}[t_{i, k}=y]=1$\n",
        "\n",
        "Для конкрентных $i, k$ $\\sum_{y \\in Y}[t_{i, k}=y]=1 \\Rightarrow$\n",
        "\n",
        "$\\Rightarrow \\lambda_x = \\sum_{i=1}^R \\sum_{j=1}^{n_i}\\sum_{k=1}^{m_i} q_{i, jk}[s_{i,j}=x]$\n",
        "\n",
        "Подставим:\n",
        "\n",
        "$\\theta(y|x)= \\frac{\\sum_{i=1}^R \\sum_{j=1}^{n_i}\\sum_{k=1}^{m_i} q_{i, jk}[t_{i, k}=y][s_{i,j}=x]}{\\sum_{i=1}^R \\sum_{j=1}^{n_i}\\sum_{k=1}^{m_i} q_{i, jk}[s_{i,j}=x]}$\n",
        "\n",
        "Данные значения $\\theta(y|x)$ соответствуют точке экстремума. Ограничения в задаче присутствуют в виде линейных равенств, в задаче максимизации (вместо минимизации) функции от $\\theta(y|x)$ - логарифмы, по сути вогнутые (вместо выпуклых) функции. Таким образом, с учетом задачи максимизации, а не минимизации, можно сказать, что выполняется условие Слейтера, и на значениях $\\theta(y|x)$ достигается максимум $\\mathcal{L}$.\n",
        "\n"
      ],
      "metadata": {
        "id": "zcFjp83kwJGb"
      }
    },
    {
      "cell_type": "markdown",
      "metadata": {
        "id": "22ryxw4UkD3f"
      },
      "source": [
        "---"
      ]
    },
    {
      "cell_type": "markdown",
      "metadata": {
        "id": "pp_ffCFjkD3f"
      },
      "source": [
        "**Задание 2. (2 балла)** Реализуйте все методы класса `WordAligner` в соответствии с полученными вами формулами. Протестируйте вашу реализацию через Яндекс.Контест, а здесь обучите модель и посчитайте её AER на истинной разметке. Чтобы предсказать выравнивание для пары предложений в этой модели, следует выбирать в соответствие для слова в целевом предложении с индексом $i$ позицию, соответствующую максимуму апостериорного распределения $p(a_i|T,S)$."
      ]
    },
    {
      "cell_type": "markdown",
      "metadata": {
        "id": "rg3X0VSpkD3g"
      },
      "source": [
        "**Замечание:** \n",
        "* **Полностью проходящая все тесты посылка в этом заданиии дает 1 балл. За хотя бы 1 непройденный тест вы можете получить за это задание максимум 1 балл**\n",
        "* **Для возможности получения полного балла** ошибка aer должна быть не выше **0.6.** Если получили значение выше -- скорее всего, у вас где-то ошибка"
      ]
    },
    {
      "cell_type": "markdown",
      "metadata": {
        "id": "SIo7v-NfkD3g"
      },
      "source": [
        "---\n",
        "**>>Ваша ссылка на посылку:<<**\n",
        "\n",
        "https://contest.yandex.ru/contest/35552/run-report/67407637/\n",
        "\n",
        "---"
      ]
    },
    {
      "cell_type": "code",
      "execution_count": null,
      "metadata": {
        "id": "yEUKRY1XkD3h",
        "colab": {
          "base_uri": "https://localhost:8080/"
        },
        "outputId": "802c0822-bb22-4d66-d87d-a9900b9cff49"
      },
      "outputs": [
        {
          "output_type": "stream",
          "name": "stderr",
          "text": [
            "/content/models.py:111: RuntimeWarning: divide by zero encountered in log\n",
            "  L_s = (np.log(self.translation_probs[idx_source[:, None], idx_target]) - np.log(posterior * posterior.shape[0]))\n",
            "/content/models.py:111: RuntimeWarning: invalid value encountered in subtract\n",
            "  L_s = (np.log(self.translation_probs[idx_source[:, None], idx_target]) - np.log(posterior * posterior.shape[0]))\n"
          ]
        },
        {
          "output_type": "execute_result",
          "data": {
            "text/plain": [
              "0.33164634481999344"
            ]
          },
          "metadata": {},
          "execution_count": 25
        }
      ],
      "source": [
        "from models import WordAligner\n",
        "\n",
        "word_aligner = WordAligner(len(t_idx_src), len(t_idx_tgt), 20)\n",
        "word_aligner.fit(tokenized_sentences)\n",
        "\n",
        "# ༼つ ಠ益ಠ༽つ ─=≡ΣO))\n",
        "compute_aer(all_targets, word_aligner.align(tokenized_sentences))"
      ]
    },
    {
      "cell_type": "markdown",
      "metadata": {
        "id": "4_7rYbrAkD3i"
      },
      "source": [
        "Заметим, что таблицу вероятностей перевода можно использовать и саму по себе для построения словарей. Пример работы показан ниже: метод хоть и работает, но мягко говоря, неидально — слишком мало данных."
      ]
    },
    {
      "cell_type": "code",
      "execution_count": null,
      "metadata": {
        "id": "HsJLSKQQkD3j"
      },
      "outputs": [],
      "source": [
        "idx_token_tgt = {index:token for token, index in t_idx_tgt.items()}"
      ]
    },
    {
      "cell_type": "code",
      "execution_count": null,
      "metadata": {
        "id": "I9OCMB0UkD3k",
        "colab": {
          "base_uri": "https://localhost:8080/"
        },
        "outputId": "bf126b4a-39b7-4caa-8652-832caabe5c15"
      },
      "outputs": [
        {
          "output_type": "execute_result",
          "data": {
            "text/plain": [
              "['Pan', 'řekl', 'pan']"
            ]
          },
          "metadata": {},
          "execution_count": 26
        }
      ],
      "source": [
        "[idx_token_tgt[i] for i in word_aligner.translation_probs[t_idx_src['Mr']].argsort()[-3:]]"
      ]
    },
    {
      "cell_type": "code",
      "execution_count": null,
      "metadata": {
        "id": "F9j51sy6kD3k",
        "colab": {
          "base_uri": "https://localhost:8080/"
        },
        "outputId": "c0228a65-b49c-4d64-fcc6-596f438d537f"
      },
      "outputs": [
        {
          "output_type": "execute_result",
          "data": {
            "text/plain": [
              "['-', 'Mannová', 'paní']"
            ]
          },
          "metadata": {},
          "execution_count": 27
        }
      ],
      "source": [
        "[idx_token_tgt[i] for i in word_aligner.translation_probs[t_idx_src['Mrs']].argsort()[-3:]]"
      ]
    },
    {
      "cell_type": "code",
      "execution_count": null,
      "metadata": {
        "scrolled": true,
        "id": "XNi1lC-skD3l",
        "colab": {
          "base_uri": "https://localhost:8080/"
        },
        "outputId": "6d97006d-3932-4fe8-af5c-68b14e9a7070"
      },
      "outputs": [
        {
          "output_type": "execute_result",
          "data": {
            "text/plain": [
              "['z', 'pro', 'vody']"
            ]
          },
          "metadata": {},
          "execution_count": 28
        }
      ],
      "source": [
        "[idx_token_tgt[i] for i in word_aligner.translation_probs[t_idx_src['water']].argsort()[-3:]]"
      ]
    },
    {
      "cell_type": "code",
      "execution_count": null,
      "metadata": {
        "id": "IhVc7qD7kD3l",
        "colab": {
          "base_uri": "https://localhost:8080/"
        },
        "outputId": "0e914692-53a4-4858-e49c-068f13f06b84"
      },
      "outputs": [
        {
          "output_type": "execute_result",
          "data": {
            "text/plain": [
              "['konec', 'dne', 'jež']"
            ]
          },
          "metadata": {},
          "execution_count": 29
        }
      ],
      "source": [
        "[idx_token_tgt[i] for i in word_aligner.translation_probs[t_idx_src['depended']].argsort()[-3:]]"
      ]
    },
    {
      "cell_type": "code",
      "execution_count": null,
      "metadata": {
        "id": "opWLYX5CkD3m",
        "colab": {
          "base_uri": "https://localhost:8080/"
        },
        "outputId": "d5734adb-d6db-44a7-bd50-a802fd672ac3"
      },
      "outputs": [
        {
          "output_type": "execute_result",
          "data": {
            "text/plain": [
              "['.', 'se', 'na']"
            ]
          },
          "metadata": {},
          "execution_count": 30
        }
      ],
      "source": [
        "[idx_token_tgt[i] for i in word_aligner.translation_probs[t_idx_src['on']].argsort()[-3:]]"
      ]
    },
    {
      "cell_type": "markdown",
      "metadata": {
        "id": "DTvBwlh9kD3n"
      },
      "source": [
        "---"
      ]
    },
    {
      "cell_type": "markdown",
      "metadata": {
        "id": "btpUghsskD3o"
      },
      "source": [
        "**Задание 3. (0.5 балла)** Мы смогли получить матрицу условных вероятностей перевода исходного языка в целевой. Можно ли, пользуясь этой матрицей и ещё какими-то статистиками по параллельному корпусу, получить вероятности перевода целевого языка в исходный?\n",
        "\n",
        "* **(?)**  Объясните словами принцип работы вашего метода и реализуйте его.\n",
        "* **(?)**  Также приведите ниже пример его работы, показав пару удачных переводов.\n",
        "\n",
        "**Подсказка:** какие формулы из теории вероятностей вы знаете? :)"
      ]
    },
    {
      "cell_type": "markdown",
      "metadata": {
        "id": "FO-i6aDHkD3o"
      },
      "source": [
        "---"
      ]
    },
    {
      "cell_type": "markdown",
      "source": [
        "Можно применить формулу Байеса для выражения условной вероятности перевода целевого языка в исходный через условные вероятности перевода исходного языка в целевой и априорные вероятности для исходного и целевого языков: $p(x|y)=\\frac{p(x)p(y|x)}{p(y)}$."
      ],
      "metadata": {
        "id": "qxBYNP_nYaxp"
      }
    },
    {
      "cell_type": "markdown",
      "source": [
        "Применим формулу Байеса. Веротяности $p(x)$ и $p(y)$ оценим частотами слов соответствующих языков по всей коллекции."
      ],
      "metadata": {
        "id": "HMxhl2_UZDdB"
      }
    },
    {
      "cell_type": "code",
      "execution_count": null,
      "metadata": {
        "id": "lcQexrNjkD3p"
      },
      "outputs": [],
      "source": [
        "# (>ω<)ノ—==ΞΞ☆*✲ﾟ\n",
        "source_priors = np.zeros(len(t_idx_src))\n",
        "target_priors = np.zeros(len(t_idx_tgt))\n",
        "for pair in tokenized_sentences:\n",
        "    source_priors[pair.source_tokens] += 1\n",
        "    target_priors[pair.target_tokens] += 1\n",
        "source_priors /= source_priors.sum()\n",
        "target_priors /= target_priors.sum()\n",
        "target_to_source = word_aligner.translation_probs * source_priors[:, None]\n",
        "target_to_source /= target_priors\n",
        "target_to_source = target_to_source.T"
      ]
    },
    {
      "cell_type": "code",
      "source": [
        "t_idx_src"
      ],
      "metadata": {
        "colab": {
          "base_uri": "https://localhost:8080/"
        },
        "id": "R9y9hdOMePVp",
        "outputId": "324ee078-2e6c-4f66-e3c9-c546e9b01e2d"
      },
      "execution_count": null,
      "outputs": [
        {
          "output_type": "execute_result",
          "data": {
            "text/plain": [
              "{'the': 0,\n",
              " ',': 1,\n",
              " '.': 2,\n",
              " 'of': 3,\n",
              " 'to': 4,\n",
              " 'and': 5,\n",
              " 'in': 6,\n",
              " 'a': 7,\n",
              " 'is': 8,\n",
              " \"'s\": 9,\n",
              " '-': 10,\n",
              " 'for': 11,\n",
              " 'that': 12,\n",
              " 'be': 13,\n",
              " '\"': 14,\n",
              " 'The': 15,\n",
              " 'with': 16,\n",
              " 'by': 17,\n",
              " 'as': 18,\n",
              " 'on': 19,\n",
              " 'or': 20,\n",
              " 'shall': 21,\n",
              " 'it': 22,\n",
              " 'was': 23,\n",
              " 'not': 24,\n",
              " 'at': 25,\n",
              " 'from': 26,\n",
              " ')': 27,\n",
              " '(': 28,\n",
              " 'I': 29,\n",
              " 'which': 30,\n",
              " 'are': 31,\n",
              " 'have': 32,\n",
              " 'this': 33,\n",
              " 'its': 34,\n",
              " 'will': 35,\n",
              " 'their': 36,\n",
              " 'an': 37,\n",
              " 'has': 38,\n",
              " 'had': 39,\n",
              " 'more': 40,\n",
              " ';': 41,\n",
              " 'said': 42,\n",
              " 'than': 43,\n",
              " 'Member': 44,\n",
              " '$': 45,\n",
              " ':': 46,\n",
              " 'would': 47,\n",
              " 'In': 48,\n",
              " 'his': 49,\n",
              " 'they': 50,\n",
              " 'he': 51,\n",
              " 'may': 52,\n",
              " 'States': 53,\n",
              " '``': 54,\n",
              " 'Article': 55,\n",
              " 'but': 56,\n",
              " 'been': 57,\n",
              " '%': 58,\n",
              " \"''\": 59,\n",
              " 'out': 60,\n",
              " 'all': 61,\n",
              " 'one': 62,\n",
              " 'Europe': 63,\n",
              " 'million': 64,\n",
              " 'But': 65,\n",
              " 'about': 66,\n",
              " 'up': 67,\n",
              " 'any': 68,\n",
              " 'Commission': 69,\n",
              " 'her': 70,\n",
              " 'time': 71,\n",
              " '1': 72,\n",
              " 'down': 73,\n",
              " 'who': 74,\n",
              " 'when': 75,\n",
              " 'other': 76,\n",
              " 'should': 77,\n",
              " 'Annex': 78,\n",
              " 'It': 79,\n",
              " 'new': 80,\n",
              " 'can': 81,\n",
              " 'into': 82,\n",
              " 'EU': 83,\n",
              " 'This': 84,\n",
              " 'also': 85,\n",
              " 'after': 86,\n",
              " 'only': 87,\n",
              " 'she': 88,\n",
              " 'must': 89,\n",
              " \"n't\": 90,\n",
              " 'were': 91,\n",
              " 'A': 92,\n",
              " 'such': 93,\n",
              " 'if': 94,\n",
              " '–': 95,\n",
              " 'do': 96,\n",
              " 'Directive': 97,\n",
              " 'what': 98,\n",
              " 'two': 99,\n",
              " 'my': 100,\n",
              " 'year': 101,\n",
              " 'over': 102,\n",
              " 'US': 103,\n",
              " 'so': 104,\n",
              " \"'\": 105,\n",
              " 'these': 106,\n",
              " 'you': 107,\n",
              " 'years': 108,\n",
              " '2': 109,\n",
              " 'between': 110,\n",
              " 'could': 111,\n",
              " 'Mr': 112,\n",
              " 'market': 113,\n",
              " 'Russia': 114,\n",
              " 'European': 115,\n",
              " 'measures': 116,\n",
              " '?': 117,\n",
              " 'rights': 118,\n",
              " 'no': 119,\n",
              " 'values': 120,\n",
              " 'State': 121,\n",
              " 'If': 122,\n",
              " 'President': 123,\n",
              " 'S': 124,\n",
              " 'where': 125,\n",
              " 'countries': 126,\n",
              " 'referred': 127,\n",
              " 'U': 128,\n",
              " 'some': 129,\n",
              " 'most': 130,\n",
              " 'under': 131,\n",
              " 'company': 132,\n",
              " 'provisions': 133,\n",
              " 'share': 134,\n",
              " 'within': 135,\n",
              " 'last': 136,\n",
              " 'laid': 137,\n",
              " 'them': 138,\n",
              " 'now': 139,\n",
              " 'before': 140,\n",
              " 'America': 141,\n",
              " 'first': 142,\n",
              " 'Germany': 143,\n",
              " 'we': 144,\n",
              " 'accordance': 145,\n",
              " 'because': 146,\n",
              " 'says': 147,\n",
              " 'left': 148,\n",
              " 'Committee': 149,\n",
              " 'Corp': 150,\n",
              " 'take': 151,\n",
              " 'three': 152,\n",
              " 'did': 153,\n",
              " 'West': 154,\n",
              " 'made': 155,\n",
              " 'there': 156,\n",
              " 'both': 157,\n",
              " 'billion': 158,\n",
              " 'He': 159,\n",
              " 'much': 160,\n",
              " 'world': 161,\n",
              " 'provided': 162,\n",
              " 'limit': 163,\n",
              " 'those': 164,\n",
              " 'They': 165,\n",
              " 'security': 166,\n",
              " 'taken': 167,\n",
              " 'without': 168,\n",
              " 'information': 169,\n",
              " 'set': 170,\n",
              " 'paragraph': 171,\n",
              " 'New': 172,\n",
              " 'like': 173,\n",
              " 'Treaty': 174,\n",
              " 'long': 175,\n",
              " 'Japan': 176,\n",
              " 'use': 177,\n",
              " 'Community': 178,\n",
              " 'For': 179,\n",
              " 'being': 180,\n",
              " 'Nato': 181,\n",
              " 'Council': 182,\n",
              " 'many': 183,\n",
              " 'We': 184,\n",
              " 'right': 185,\n",
              " 'each': 186,\n",
              " 'own': 187,\n",
              " 'day': 188,\n",
              " 'government': 189,\n",
              " 'even': 190,\n",
              " 'shares': 191,\n",
              " 'colouring': 192,\n",
              " 'future': 193,\n",
              " 'same': 194,\n",
              " 'well': 195,\n",
              " 'power': 196,\n",
              " '/': 197,\n",
              " 'necessary': 198,\n",
              " 'Security': 199,\n",
              " 'another': 200,\n",
              " 'our': 201,\n",
              " 'make': 202,\n",
              " 'Bush': 203,\n",
              " 'called': 204,\n",
              " 'while': 205,\n",
              " 'national': 206,\n",
              " 'way': 207,\n",
              " 'then': 208,\n",
              " 'matters': 209,\n",
              " 'through': 210,\n",
              " 'particular': 211,\n",
              " 'markets': 212,\n",
              " 'II': 213,\n",
              " 'value': 214,\n",
              " 'York': 215,\n",
              " 'period': 216,\n",
              " 'against': 217,\n",
              " 'work': 218,\n",
              " 'following': 219,\n",
              " 'means': 220,\n",
              " 'former': 221,\n",
              " '4': 222,\n",
              " 'capital': 223,\n",
              " 'women': 224,\n",
              " 'quarter': 225,\n",
              " 'account': 226,\n",
              " 'matter': 227,\n",
              " 'country': 228,\n",
              " 'whether': 229,\n",
              " 'too': 230,\n",
              " 'As': 231,\n",
              " 'might': 232,\n",
              " 'Union': 233,\n",
              " 'still': 234,\n",
              " 'public': 235,\n",
              " 'service': 236,\n",
              " 'water': 237,\n",
              " 'She': 238,\n",
              " 'United': 239,\n",
              " 'possible': 240,\n",
              " 'however': 241,\n",
              " 'end': 242,\n",
              " 'international': 243,\n",
              " 'president': 244,\n",
              " 'University': 245,\n",
              " 'trade': 246,\n",
              " 'firms': 247,\n",
              " '--': 248,\n",
              " '&': 249,\n",
              " 'people': 250,\n",
              " 'So': 251,\n",
              " 'used': 252,\n",
              " 'agreement': 253,\n",
              " 'American': 254,\n",
              " 'Where': 255,\n",
              " 'procedure': 256,\n",
              " 'Fund': 257,\n",
              " 'very': 258,\n",
              " 'interest': 259,\n",
              " 'next': 260,\n",
              " 'members': 261,\n",
              " 'important': 262,\n",
              " 'price': 263,\n",
              " 'France': 264,\n",
              " 'Iraq': 265,\n",
              " 'your': 266,\n",
              " 'Serbia': 267,\n",
              " 'opposition': 268,\n",
              " 'just': 269,\n",
              " 'ensure': 270,\n",
              " 'dioxide': 271,\n",
              " 'b': 272,\n",
              " 'When': 273,\n",
              " 'Friday': 274,\n",
              " 'maximum': 275,\n",
              " 'help': 276,\n",
              " 'East': 277,\n",
              " 'That': 278,\n",
              " 'need': 279,\n",
              " 'early': 280,\n",
              " 'him': 281,\n",
              " 'back': 282,\n",
              " '3': 283,\n",
              " 'Co': 284,\n",
              " 'income': 285,\n",
              " 'close': 286,\n",
              " 'men': 287,\n",
              " 'weight': 288,\n",
              " 'protection': 289,\n",
              " 'reference': 290,\n",
              " 'rules': 291,\n",
              " 'official': 292,\n",
              " 'old': 293,\n",
              " 'course': 294,\n",
              " 'available': 295,\n",
              " 'ago': 296,\n",
              " 'political': 297,\n",
              " 'me': 298,\n",
              " 'far': 299,\n",
              " 'risk': 300,\n",
              " 'given': 301,\n",
              " 'net': 302,\n",
              " 'Tudjman': 303,\n",
              " 'including': 304,\n",
              " 'trading': 305,\n",
              " 'growth': 306,\n",
              " 'offer': 307,\n",
              " 'during': 308,\n",
              " 'zones': 309,\n",
              " 'representative': 310,\n",
              " 'four': 311,\n",
              " 'good': 312,\n",
              " 'Hamas': 313,\n",
              " 'Israel': 314,\n",
              " 'us': 315,\n",
              " 'say': 316,\n",
              " 'concerned': 317,\n",
              " 'until': 318,\n",
              " 'states': 319,\n",
              " 'put': 320,\n",
              " 'want': 321,\n",
              " 'part': 322,\n",
              " 'since': 323,\n",
              " '10': 324,\n",
              " 'led': 325,\n",
              " 'data': 326,\n",
              " 'number': 327,\n",
              " 'cold': 328,\n",
              " 'concentrations': 329,\n",
              " 'application': 330,\n",
              " 'get': 331,\n",
              " 'Mrs': 332,\n",
              " 'Canadian': 333,\n",
              " 'North': 334,\n",
              " 'SAD': 335,\n",
              " 'NATO': 336,\n",
              " 'UN': 337,\n",
              " 'interests': 338,\n",
              " 'does': 339,\n",
              " 'These': 340,\n",
              " 'And': 341,\n",
              " 'economic': 342,\n",
              " 'development': 343,\n",
              " 'membership': 344,\n",
              " 'network': 345,\n",
              " 'either': 346,\n",
              " 'military': 347,\n",
              " 'great': 348,\n",
              " 'how': 349,\n",
              " 'term': 350,\n",
              " 'around': 351,\n",
              " 'real': 352,\n",
              " 'majority': 353,\n",
              " 'National': 354,\n",
              " 'lower': 355,\n",
              " '15': 356,\n",
              " 'side': 357,\n",
              " 'months': 358,\n",
              " 'EEC': 359,\n",
              " 'Regulation': 360,\n",
              " 'times': 361,\n",
              " 'performance': 362,\n",
              " 'accountancy': 363,\n",
              " 'yesterday': 364,\n",
              " 'securities': 365,\n",
              " 'Minister': 366,\n",
              " 'Boeing': 367,\n",
              " 'Africa': 368,\n",
              " 'never': 369,\n",
              " 'generations': 370,\n",
              " 'together': 371,\n",
              " 'come': 372,\n",
              " 'At': 373,\n",
              " 'rate': 374,\n",
              " 'd': 375,\n",
              " 'found': 376,\n",
              " 'little': 377,\n",
              " 'results': 378,\n",
              " 'second': 379,\n",
              " 'opinion': 380,\n",
              " 'program': 381,\n",
              " 'Bank': 382,\n",
              " 'forces': 383,\n",
              " 'crisis': 384,\n",
              " 'proposal': 385,\n",
              " 'Chairman': 386,\n",
              " '1987': 387,\n",
              " 'having': 388,\n",
              " 'phonograms': 389,\n",
              " 'Contracting': 390,\n",
              " 'Britain': 391,\n",
              " 'Inc': 392,\n",
              " 'Hooker': 393,\n",
              " 'Mohr': 394,\n",
              " 'Kosovo': 395,\n",
              " 'going': 396,\n",
              " 'To': 397,\n",
              " 'feel': 398,\n",
              " 'already': 399,\n",
              " 'Poland': 400,\n",
              " 'decision': 401,\n",
              " 'leaders': 402,\n",
              " 'union': 403,\n",
              " 'conditions': 404,\n",
              " 'economy': 405,\n",
              " 'ITER': 406,\n",
              " 'small': 407,\n",
              " 'Croatia': 408,\n",
              " 'points': 409,\n",
              " 'few': 410,\n",
              " 'requirements': 411,\n",
              " '50': 412,\n",
              " 'business': 413,\n",
              " 'go': 414,\n",
              " 'mortality': 415,\n",
              " 'performances': 416,\n",
              " 'vehicle': 417,\n",
              " 'Radio': 418,\n",
              " 'GM': 419,\n",
              " 'respect': 420,\n",
              " 'affect': 421,\n",
              " 'here': 422,\n",
              " 'natural': 423,\n",
              " 'become': 424,\n",
              " 'longer': 425,\n",
              " 'place': 426,\n",
              " 'Moscow': 427,\n",
              " 'No': 428,\n",
              " 'enlargement': 429,\n",
              " 'better': 430,\n",
              " 'likely': 431,\n",
              " 'energy': 432,\n",
              " 'several': 433,\n",
              " 'war': 434,\n",
              " 'family': 435,\n",
              " 'result': 436,\n",
              " 'know': 437,\n",
              " 'joint': 438,\n",
              " 'control': 439,\n",
              " 'big': 440,\n",
              " 'order': 441,\n",
              " 'investment': 442,\n",
              " 'competition': 443,\n",
              " 'head': 444,\n",
              " 'EMU': 445,\n",
              " '5': 446,\n",
              " 'fixed': 447,\n",
              " 'type': 448,\n",
              " 'officials': 449,\n",
              " 'What': 450,\n",
              " 'German': 451,\n",
              " 'week': 452,\n",
              " 'Japanese': 453,\n",
              " 'loans': 454,\n",
              " 'workers': 455,\n",
              " 'determined': 456,\n",
              " 'dollar': 457,\n",
              " 'carried': 458,\n",
              " 'apply': 459,\n",
              " 'unit': 460,\n",
              " 'terms': 461,\n",
              " 'diseases': 462,\n",
              " 'farm': 463,\n",
              " 'five': 464,\n",
              " 'products': 465,\n",
              " 'Hungarian': 466,\n",
              " 'mother': 467,\n",
              " 'NCNB': 468,\n",
              " '!': 469,\n",
              " 'child': 470,\n",
              " 'debate': 471,\n",
              " 'life': 472,\n",
              " 'today': 473,\n",
              " 'able': 474,\n",
              " 'cannot': 475,\n",
              " 'soon': 476,\n",
              " 'different': 477,\n",
              " 'needed': 478,\n",
              " 'Putin': 479,\n",
              " 'increase': 480,\n",
              " 'further': 481,\n",
              " 'law': 482,\n",
              " 'International': 483,\n",
              " 'nuclear': 484,\n",
              " 'fusion': 485,\n",
              " 'research': 486,\n",
              " 'methods': 487,\n",
              " 'case': 488,\n",
              " 'system': 489,\n",
              " 'foreign': 490,\n",
              " 'higher': 491,\n",
              " 'stock': 492,\n",
              " 'major': 493,\n",
              " 'calls': 494,\n",
              " '30': 495,\n",
              " 'Now': 496,\n",
              " 'third': 497,\n",
              " 'fell': 498,\n",
              " 'One': 499,\n",
              " 'firm': 500,\n",
              " 'return': 501,\n",
              " 'French': 502,\n",
              " 'South': 503,\n",
              " 'considered': 504,\n",
              " 'analysis': 505,\n",
              " 'contract': 506,\n",
              " 'date': 507,\n",
              " 'executive': 508,\n",
              " 'phonogram': 509,\n",
              " 'There': 510,\n",
              " 'month': 511,\n",
              " 'British': 512,\n",
              " 'night': 513,\n",
              " 'J': 514,\n",
              " 'World': 515,\n",
              " 'children': 516,\n",
              " 'Middle': 517,\n",
              " 'Korea': 518,\n",
              " 'view': 519,\n",
              " 'reason': 520,\n",
              " 'special': 521,\n",
              " 'form': 522,\n",
              " 'almost': 523,\n",
              " 'example': 524,\n",
              " 'see': 525,\n",
              " 'open': 526,\n",
              " 'words': 527,\n",
              " 'latest': 528,\n",
              " 'call': 529,\n",
              " 'candidates': 530,\n",
              " 'reasons': 531,\n",
              " 'Washington': 532,\n",
              " 'remain': 533,\n",
              " 'making': 534,\n",
              " 'themselves': 535,\n",
              " 'Indeed': 536,\n",
              " 'cooperation': 537,\n",
              " 'problem': 538,\n",
              " '100': 539,\n",
              " 'high': 540,\n",
              " '13': 541,\n",
              " 'ten': 542,\n",
              " 'Milosevic': 543,\n",
              " 'chief': 544,\n",
              " 'plans': 545,\n",
              " 'Party': 546,\n",
              " 'adopt': 547,\n",
              " 'Soviet': 548,\n",
              " 'current': 549,\n",
              " 'half': 550,\n",
              " 'B': 551,\n",
              " 'health': 552,\n",
              " 'contributed': 553,\n",
              " 'move': 554,\n",
              " 'past': 555,\n",
              " 'regard': 556,\n",
              " 'approval': 557,\n",
              " 'meter': 558,\n",
              " 'General': 559,\n",
              " 'purposes': 560,\n",
              " 'basis': 561,\n",
              " 'ECI': 562,\n",
              " 'performer': 563,\n",
              " 'think': 564,\n",
              " 'Pacific': 565,\n",
              " 'Exchange': 566,\n",
              " 'received': 567,\n",
              " 'Tess': 568,\n",
              " 'Christmas': 569,\n",
              " 'Secretary': 570,\n",
              " 'anything': 571,\n",
              " 'followed': 572,\n",
              " 'held': 573,\n",
              " 'why': 574,\n",
              " 'thought': 575,\n",
              " 'point': 576,\n",
              " 'certain': 577,\n",
              " 'human': 578,\n",
              " 'winter': 579,\n",
              " 'member': 580,\n",
              " 'least': 581,\n",
              " 'Hungary': 582,\n",
              " 'Alliance': 583,\n",
              " 'Baltic': 584,\n",
              " 'manner': 585,\n",
              " 'problems': 586,\n",
              " 'role': 587,\n",
              " 'addition': 588,\n",
              " 'every': 589,\n",
              " 'generation': 590,\n",
              " 'late': 591,\n",
              " 'accession': 592,\n",
              " 'Turkey': 593,\n",
              " 'based': 594,\n",
              " 'provide': 595,\n",
              " 'nothing': 596,\n",
              " 'large': 597,\n",
              " 'less': 598,\n",
              " 'days': 599,\n",
              " 'euro': 600,\n",
              " 'entry': 601,\n",
              " 'exchange': 602,\n",
              " 'above': 603,\n",
              " 'With': 604,\n",
              " 'hold': 605,\n",
              " '1990': 606,\n",
              " 'situation': 607,\n",
              " 'report': 608,\n",
              " 'Chancellor': 609,\n",
              " 'began': 610,\n",
              " 'took': 611,\n",
              " 'pressure': 612,\n",
              " 'specific': 613,\n",
              " 'force': 614,\n",
              " 'lead': 615,\n",
              " 'news': 616,\n",
              " 'yen': 617,\n",
              " 'home': 618,\n",
              " 'single': 619,\n",
              " 'according': 620,\n",
              " 'III': 621,\n",
              " 'latter': 622,\n",
              " 'directly': 623,\n",
              " 'applied': 624,\n",
              " 'authorities': 625,\n",
              " 'associated': 626,\n",
              " 'molluscs': 627,\n",
              " 'abnormal': 628,\n",
              " 'Parties': 629,\n",
              " 'commercial': 630,\n",
              " 'office': 631,\n",
              " 'suspended': 632,\n",
              " 'particulates': 633,\n",
              " 'listed': 634,\n",
              " 'Free': 635,\n",
              " 'expected': 636,\n",
              " 'Stock': 637,\n",
              " 'LIN': 638,\n",
              " 'went': 639,\n",
              " \"'re\": 640,\n",
              " 'hand': 641,\n",
              " 'Bumble': 642,\n",
              " 'Gaza': 643,\n",
              " 'greater': 644,\n",
              " 'allies': 645,\n",
              " 'join': 646,\n",
              " 'issue': 647,\n",
              " 'off': 648,\n",
              " 'Some': 649,\n",
              " 'itself': 650,\n",
              " 'placed': 651,\n",
              " 'candidate': 652,\n",
              " 'War': 653,\n",
              " 'stability': 654,\n",
              " 'minimum': 655,\n",
              " 'democratic': 656,\n",
              " 'free': 657,\n",
              " 'private': 658,\n",
              " 'produce': 659,\n",
              " 'yet': 660,\n",
              " 'authority': 661,\n",
              " 'probably': 662,\n",
              " 'territory': 663,\n",
              " 'land': 664,\n",
              " 'By': 665,\n",
              " 'permissible': 666,\n",
              " 'effect': 667,\n",
              " 'total': 668,\n",
              " 'later': 669,\n",
              " 'keep': 670,\n",
              " 'reforms': 671,\n",
              " 'required': 672,\n",
              " 'became': 673,\n",
              " 'give': 674,\n",
              " 'management': 675,\n",
              " 'financial': 676,\n",
              " 'hard': 677,\n",
              " 'partnership': 678,\n",
              " 'strong': 679,\n",
              " 'trying': 680,\n",
              " 'appropriate': 681,\n",
              " 'currency': 682,\n",
              " 'remains': 683,\n",
              " 'gain': 684,\n",
              " 'C': 685,\n",
              " 'inform': 686,\n",
              " 'flowrate': 687,\n",
              " 'nitrogen': 688,\n",
              " 'atmosphere': 689,\n",
              " 'However': 690,\n",
              " 'pursuant': 691,\n",
              " 'general': 692,\n",
              " 'list': 693,\n",
              " 'board': 694,\n",
              " 'moved': 695,\n",
              " '11': 696,\n",
              " 'sulphur': 697,\n",
              " 'radio': 698,\n",
              " 'Morgan': 699,\n",
              " 'Banknote': 700,\n",
              " 'plants': 701,\n",
              " 'plant': 702,\n",
              " 'Prime': 703,\n",
              " 'group': 704,\n",
              " 'spokesman': 705,\n",
              " 'ad': 706,\n",
              " 'got': 707,\n",
              " 'Mann': 708,\n",
              " 'leader': 709,\n",
              " 'Egypt': 710,\n",
              " 'Saddam': 711,\n",
              " 'question': 712,\n",
              " 'parts': 713,\n",
              " 'Instead': 714,\n",
              " 'best': 715,\n",
              " 'things': 716,\n",
              " 'attention': 717,\n",
              " 'Republic': 718,\n",
              " 'state': 719,\n",
              " 'contain': 720,\n",
              " 'everything': 721,\n",
              " 'Eastern': 722,\n",
              " 'direct': 723,\n",
              " 'Berlin': 724,\n",
              " 'paid': 725,\n",
              " 'require': 726,\n",
              " 'peace': 727,\n",
              " 'house': 728,\n",
              " 'common': 729,\n",
              " 'money': 730,\n",
              " 'governments': 731,\n",
              " 'building': 732,\n",
              " 'fact': 733,\n",
              " 'per': 734,\n",
              " 'death': 735,\n",
              " 'party': 736,\n",
              " 'Western': 737,\n",
              " 'among': 738,\n",
              " 'parties': 739,\n",
              " 'Institute': 740,\n",
              " 'earlier': 741,\n",
              " 'prices': 742,\n",
              " '6': 743,\n",
              " 'strategic': 744,\n",
              " 'six': 745,\n",
              " 'After': 746,\n",
              " 'Italy': 747,\n",
              " 'priced': 748,\n",
              " 'meters': 749,\n",
              " 'subject': 750,\n",
              " 'volume': 751,\n",
              " 'covered': 752,\n",
              " 'purpose': 753,\n",
              " 'fix': 754,\n",
              " 'exceeded': 755,\n",
              " 'air': 756,\n",
              " 'pollution': 757,\n",
              " 'request': 758,\n",
              " 'consultations': 759,\n",
              " '12': 760,\n",
              " 'initiative': 761,\n",
              " 'consistent': 762,\n",
              " 'observed': 763,\n",
              " 'c': 764,\n",
              " 'responsible': 765,\n",
              " '7': 766,\n",
              " 'competent': 767,\n",
              " 'association': 768,\n",
              " 'bivalve': 769,\n",
              " 'included': 770,\n",
              " 'performers': 771,\n",
              " 'sale': 772,\n",
              " 'appears': 773,\n",
              " 'foodstuffs': 774,\n",
              " '20': 775,\n",
              " 'talk': 776,\n",
              " 'George': 777,\n",
              " 'cents': 778,\n",
              " 'customers': 779,\n",
              " 'margin': 780,\n",
              " 'closed': 781,\n",
              " 'senior': 782,\n",
              " 'Series': 783,\n",
              " 'buy': 784,\n",
              " 'Canada': 785,\n",
              " 'John': 786,\n",
              " 'seat': 787,\n",
              " 'brokerage': 788,\n",
              " 'ads': 789,\n",
              " 'm': 790,\n",
              " 'L': 791,\n",
              " 'venture': 792,\n",
              " 'music': 793,\n",
              " 'tried': 794,\n",
              " 'gifts': 795,\n",
              " 'Afghanistan': 796,\n",
              " 'Syria': 797,\n",
              " 'Saudi': 798,\n",
              " 'Abbas': 799,\n",
              " 'Fatah': 800,\n",
              " 'Taliban': 801,\n",
              " 'Sarkozy': 802,\n",
              " 'done': 803,\n",
              " 'bring': 804,\n",
              " 'difficult': 805,\n",
              " 'begin': 806,\n",
              " 'away': 807,\n",
              " 'non': 808,\n",
              " 'build': 809,\n",
              " 'leading': 810,\n",
              " 'chosen': 811,\n",
              " 'negative': 812,\n",
              " 'lost': 813,\n",
              " 'Russian': 814,\n",
              " 'continue': 815,\n",
              " 'negotiations': 816,\n",
              " 'presence': 817,\n",
              " 'kept': 818,\n",
              " 'relations': 819,\n",
              " 'Director': 820,\n",
              " 'Europeans': 821,\n",
              " 'fundamental': 822,\n",
              " 'man': 823,\n",
              " 'consider': 824,\n",
              " 'often': 825,\n",
              " 'known': 826,\n",
              " 'main': 827,\n",
              " 'beyond': 828,\n",
              " 'decided': 829,\n",
              " 'size': 830,\n",
              " 'Swiss': 831,\n",
              " 'professor': 832,\n",
              " 'holding': 833,\n",
              " 'outside': 834,\n",
              " 'change': 835,\n",
              " 'minister': 836,\n",
              " 'concerning': 837,\n",
              " 'Spain': 838,\n",
              " 'rapid': 839,\n",
              " 'average': 840,\n",
              " 'rates': 841,\n",
              " 'Central': 842,\n",
              " 'process': 843,\n",
              " 'environment': 844,\n",
              " 'conscription': 845,\n",
              " '1994': 846,\n",
              " 'reform': 847,\n",
              " 'proposed': 848,\n",
              " 'combined': 849,\n",
              " 'currently': 850,\n",
              " 'draft': 851,\n",
              " 'recently': 852,\n",
              " 'Sweden': 853,\n",
              " '8': 854,\n",
              " 'run': 855,\n",
              " 'D': 856,\n",
              " 'worked': 857,\n",
              " 'Blair': 858,\n",
              " 'van': 859,\n",
              " 'sell': 860,\n",
              " 'Asia': 861,\n",
              " '17': 862,\n",
              " 'relating': 863,\n",
              " 'July': 864,\n",
              " 'procedures': 865,\n",
              " 'hours': 866,\n",
              " 'delivered': 867,\n",
              " 'working': 868,\n",
              " 'method': 869,\n",
              " 'adopted': 870,\n",
              " '14': 871,\n",
              " 'hereinafter': 872,\n",
              " 'upon': 873,\n",
              " 'Each': 874,\n",
              " 'body': 875,\n",
              " 'duties': 876,\n",
              " 'stocks': 877,\n",
              " 'ICO': 878,\n",
              " 'increased': 879,\n",
              " 'whose': 880,\n",
              " 'communication': 881,\n",
              " 'effective': 882,\n",
              " '19': 883,\n",
              " 'light': 884,\n",
              " 'plan': 885,\n",
              " 'daily': 886,\n",
              " 'Not': 887,\n",
              " 'morning': 888,\n",
              " 'earnings': 889,\n",
              " 'San': 890,\n",
              " 'panel': 891,\n",
              " 'told': 892,\n",
              " 'RJR': 893,\n",
              " 'You': 894,\n",
              " 'investors': 895,\n",
              " 'magazine': 896,\n",
              " 'parish': 897,\n",
              " 'Gruber': 898,\n",
              " 'smoking': 899,\n",
              " 'Linda': 900,\n",
              " 'Merkel': 901,\n",
              " 'Palestinian': 902,\n",
              " 'Ukraine': 903,\n",
              " 'Hussein': 904,\n",
              " 'Al': 905,\n",
              " 'usually': 906,\n",
              " 'makes': 907,\n",
              " 'others': 908,\n",
              " 'else': 909,\n",
              " 'related': 910,\n",
              " 'institutions': 911,\n",
              " 'live': 912,\n",
              " 'His': 913,\n",
              " 'agreed': 914,\n",
              " 'face': 915,\n",
              " 'Baltics': 916,\n",
              " 'meeting': 917,\n",
              " 'April': 918,\n",
              " 'strategy': 919,\n",
              " 'announced': 920,\n",
              " 'helped': 921,\n",
              " 'groups': 922,\n",
              " 'show': 923,\n",
              " 'stations': 924,\n",
              " 'achieve': 925,\n",
              " 'using': 926,\n",
              " 'study': 927,\n",
              " 'try': 928,\n",
              " 'establish': 929,\n",
              " 'model': 930,\n",
              " 'properties': 931,\n",
              " 'media': 932,\n",
              " 'divided': 933,\n",
              " 'relationship': 934,\n",
              " 'response': 935,\n",
              " 'elections': 936,\n",
              " 'additional': 937,\n",
              " 'goes': 938,\n",
              " 'Budapest': 939,\n",
              " 'comply': 940,\n",
              " 'criteria': 941,\n",
              " 'policy': 942,\n",
              " 'Is': 943,\n",
              " 'Most': 944,\n",
              " 'level': 945,\n",
              " 'allow': 946,\n",
              " 'moment': 947,\n",
              " 'armed': 948,\n",
              " 'quality': 949,\n",
              " 'operations': 950,\n",
              " '000': 951,\n",
              " 'banks': 952,\n",
              " 'rose': 953,\n",
              " 'low': 954,\n",
              " 'female': 955,\n",
              " 'particularly': 956,\n",
              " 'approach': 957,\n",
              " 'series': 958,\n",
              " 'intense': 959,\n",
              " 'Americans': 960,\n",
              " 'individual': 961,\n",
              " 'director': 962,\n",
              " 'Economic': 963,\n",
              " 'thereof': 964,\n",
              " 'range': 965,\n",
              " 'normal': 966,\n",
              " 'considers': 967,\n",
              " 'significant': 968,\n",
              " 'informed': 969,\n",
              " '24': 970,\n",
              " 'concluded': 971,\n",
              " 'local': 972,\n",
              " 'established': 973,\n",
              " 'producers': 974,\n",
              " 'laboratory': 975,\n",
              " 'affected': 976,\n",
              " 'agency': 977,\n",
              " 'smoke': 978,\n",
              " 'chairman': 979,\n",
              " 'though': 980,\n",
              " 'something': 981,\n",
              " 'plus': 982,\n",
              " 'campaign': 983,\n",
              " 'eight': 984,\n",
              " 'companies': 985,\n",
              " 'position': 986,\n",
              " 'McCaw': 987,\n",
              " 'Columbia': 988,\n",
              " 'futures': 989,\n",
              " 'revenue': 990,\n",
              " 'evening': 991,\n",
              " 'Fidelity': 992,\n",
              " 'NCR': 993,\n",
              " 'bid': 994,\n",
              " 'Simpson': 995,\n",
              " 'According': 996,\n",
              " 'electric': 997,\n",
              " 'strike': 998,\n",
              " 'parents': 999,\n",
              " ...}"
            ]
          },
          "metadata": {},
          "execution_count": 33
        }
      ]
    },
    {
      "cell_type": "code",
      "source": [
        "t_idx_tgt"
      ],
      "metadata": {
        "colab": {
          "base_uri": "https://localhost:8080/"
        },
        "id": "Czc-jQu2eXQI",
        "outputId": "be60e573-46e8-4620-c48a-90ad42654965"
      },
      "execution_count": null,
      "outputs": [
        {
          "output_type": "execute_result",
          "data": {
            "text/plain": [
              "{',': 0,\n",
              " '.': 1,\n",
              " 'a': 2,\n",
              " 'v': 3,\n",
              " 'se': 4,\n",
              " 'na': 5,\n",
              " '\"': 6,\n",
              " 'že': 7,\n",
              " 'je': 8,\n",
              " 'o': 9,\n",
              " '-': 10,\n",
              " 's': 11,\n",
              " 'pro': 12,\n",
              " 'k': 13,\n",
              " 'z': 14,\n",
              " 'do': 15,\n",
              " 've': 16,\n",
              " 'nebo': 17,\n",
              " 'by': 18,\n",
              " 'to': 19,\n",
              " ')': 20,\n",
              " 'za': 21,\n",
              " 'které': 22,\n",
              " 'i': 23,\n",
              " 'jako': 24,\n",
              " 'než': 25,\n",
              " 'si': 26,\n",
              " 'aby': 27,\n",
              " ':': 28,\n",
              " 'po': 29,\n",
              " 'jsou': 30,\n",
              " '(': 31,\n",
              " 'ale': 32,\n",
              " 'bude': 33,\n",
              " 'podle': 34,\n",
              " 'být': 35,\n",
              " ';': 36,\n",
              " 'který': 37,\n",
              " 'od': 38,\n",
              " 'která': 39,\n",
              " '–': 40,\n",
              " 'V': 41,\n",
              " 'tak': 42,\n",
              " 'může': 43,\n",
              " 'jejich': 44,\n",
              " 'byl': 45,\n",
              " 'státy': 46,\n",
              " '1': 47,\n",
              " 'jeho': 48,\n",
              " 'jsem': 49,\n",
              " 'ze': 50,\n",
              " 'mezi': 51,\n",
              " 'jen': 52,\n",
              " 'této': 53,\n",
              " 'dolarů': 54,\n",
              " '%': 55,\n",
              " 'co': 56,\n",
              " 'bylo': 57,\n",
              " 'své': 58,\n",
              " 'musí': 59,\n",
              " 'článku': 60,\n",
              " 'když': 61,\n",
              " 'EU': 62,\n",
              " 'jak': 63,\n",
              " 'však': 64,\n",
              " 'byla': 65,\n",
              " 'při': 66,\n",
              " 'roku': 67,\n",
              " 'li': 68,\n",
              " 'příloze': 69,\n",
              " 'také': 70,\n",
              " 'USA': 71,\n",
              " 'směrnice': 72,\n",
              " 'řekl': 73,\n",
              " 'opatření': 74,\n",
              " 'firmy': 75,\n",
              " '?': 76,\n",
              " 'I': 77,\n",
              " '2': 78,\n",
              " 'roce': 79,\n",
              " 'před': 80,\n",
              " 'let': 81,\n",
              " 'společnosti': 82,\n",
              " 'Komise': 83,\n",
              " 'budou': 84,\n",
              " 'více': 85,\n",
              " 'A': 86,\n",
              " 'tohoto': 87,\n",
              " 'milionů': 88,\n",
              " 'u': 89,\n",
              " 'Pokud': 90,\n",
              " 'až': 91,\n",
              " 'mohou': 92,\n",
              " 'má': 93,\n",
              " 'už': 94,\n",
              " 'kde': 95,\n",
              " 'NATO': 96,\n",
              " 'tedy': 97,\n",
              " 'toho': 98,\n",
              " 'hodnoty': 99,\n",
              " 'země': 100,\n",
              " 'kdy': 101,\n",
              " 'těchto': 102,\n",
              " 'ke': 103,\n",
              " 'není': 104,\n",
              " 'byly': 105,\n",
              " 'mít': 106,\n",
              " 'což': 107,\n",
              " 'stát': 108,\n",
              " 'Corp': 109,\n",
              " 'proti': 110,\n",
              " 'Je': 111,\n",
              " 'její': 112,\n",
              " 'další': 113,\n",
              " 'států': 114,\n",
              " 'bez': 115,\n",
              " 'měla': 116,\n",
              " 'mají': 117,\n",
              " 'svou': 118,\n",
              " 'Tato': 119,\n",
              " 'Na': 120,\n",
              " 'ani': 121,\n",
              " 'tato': 122,\n",
              " 'jež': 123,\n",
              " 'akcií': 124,\n",
              " 'tom': 125,\n",
              " 'svých': 126,\n",
              " 'odst': 127,\n",
              " 'To': 128,\n",
              " 'tím': 129,\n",
              " 'již': 130,\n",
              " 'ji': 131,\n",
              " 'pod': 132,\n",
              " 'milionu': 133,\n",
              " 'společnost': 134,\n",
              " 'pak': 135,\n",
              " 'pokud': 136,\n",
              " 'ještě': 137,\n",
              " 'strany': 138,\n",
              " 'pouze': 139,\n",
              " 'členských': 140,\n",
              " 'měl': 141,\n",
              " '/': 142,\n",
              " 'zejména': 143,\n",
              " 'uvedených': 144,\n",
              " 'tyto': 145,\n",
              " 'či': 146,\n",
              " 'dnes': 147,\n",
              " 'tomu': 148,\n",
              " 'Ve': 149,\n",
              " 'stále': 150,\n",
              " 'době': 151,\n",
              " 'Společenství': 152,\n",
              " 'práva': 153,\n",
              " 'možné': 154,\n",
              " 'svého': 155,\n",
              " 'prezident': 156,\n",
              " 'zemí': 157,\n",
              " 'nové': 158,\n",
              " 'II': 159,\n",
              " '4': 160,\n",
              " 'trhu': 161,\n",
              " 'souladu': 162,\n",
              " 'čl': 163,\n",
              " 'všech': 164,\n",
              " 'Evropy': 165,\n",
              " 'tento': 166,\n",
              " 'čtvrtletí': 167,\n",
              " 'mezinárodní': 168,\n",
              " 'Co': 169,\n",
              " 'členské': 170,\n",
              " 'Členské': 171,\n",
              " '&': 172,\n",
              " 'Když': 173,\n",
              " 'případě': 174,\n",
              " 'nich': 175,\n",
              " 'Evropa': 176,\n",
              " 'dále': 177,\n",
              " 'Tyto': 178,\n",
              " 'dolaru': 179,\n",
              " 'akcii': 180,\n",
              " 'Společnost': 181,\n",
              " 'nad': 182,\n",
              " 'téměř': 183,\n",
              " 'práv': 184,\n",
              " 'ho': 185,\n",
              " 'S': 186,\n",
              " 'vůči': 187,\n",
              " 'spolu': 188,\n",
              " 'oblastech': 189,\n",
              " 'letech': 190,\n",
              " '3': 191,\n",
              " 'Komisi': 192,\n",
              " 'svůj': 193,\n",
              " 'mi': 194,\n",
              " 'ustanovení': 195,\n",
              " 'b': 196,\n",
              " 'tomto': 197,\n",
              " 'období': 198,\n",
              " 'říká': 199,\n",
              " 'firma': 200,\n",
              " 'uvedené': 201,\n",
              " 'měli': 202,\n",
              " 'kteří': 203,\n",
              " 'proto': 204,\n",
              " 'mnohem': 205,\n",
              " 'Rusko': 206,\n",
              " 'Evropské': 207,\n",
              " 'jsme': 208,\n",
              " 'včetně': 209,\n",
              " 'jednoho': 210,\n",
              " 'dohody': 211,\n",
              " 'New': 212,\n",
              " 'rovněž': 213,\n",
              " 'ovšem': 214,\n",
              " 'právě': 215,\n",
              " 'rozhodnutí': 216,\n",
              " 'členství': 217,\n",
              " 'protože': 218,\n",
              " 'unie': 219,\n",
              " 'první': 220,\n",
              " 'Podle': 221,\n",
              " \"'\": 222,\n",
              " 'nichž': 223,\n",
              " 'jí': 224,\n",
              " 'smlouvy': 225,\n",
              " 'návrh': 226,\n",
              " 'typu': 227,\n",
              " 'oblasti': 228,\n",
              " 'nezbytné': 229,\n",
              " 'během': 230,\n",
              " 'trh': 231,\n",
              " 'mezní': 232,\n",
              " 'oxidu': 233,\n",
              " 'předseda': 234,\n",
              " '15': 235,\n",
              " 'mlžů': 236,\n",
              " 'mu': 237,\n",
              " 'U': 238,\n",
              " 'paní': 239,\n",
              " 'asi': 240,\n",
              " 'OSN': 241,\n",
              " 'mnoho': 242,\n",
              " 'Ale': 243,\n",
              " 'mohlo': 244,\n",
              " 'Ruska': 245,\n",
              " 'Evropě': 246,\n",
              " 'svým': 247,\n",
              " 'vlastní': 248,\n",
              " 'velmi': 249,\n",
              " 'příliš': 250,\n",
              " 'mohl': 251,\n",
              " 'zda': 252,\n",
              " 'žen': 253,\n",
              " 'Po': 254,\n",
              " 'EHS': 255,\n",
              " 'výboru': 256,\n",
              " 'členský': 257,\n",
              " 'papíry': 258,\n",
              " 'třeba': 259,\n",
              " 'navíc': 260,\n",
              " 'žádné': 261,\n",
              " 'Při': 262,\n",
              " 'druhé': 263,\n",
              " 'kterou': 264,\n",
              " 'dvou': 265,\n",
              " 'organizace': 266,\n",
              " 'každý': 267,\n",
              " 'skutečnosti': 268,\n",
              " 'dne': 269,\n",
              " '5': 270,\n",
              " 'méně': 271,\n",
              " 'větší': 272,\n",
              " 'Pro': 273,\n",
              " 'rok': 274,\n",
              " '1987': 275,\n",
              " 'postupem': 276,\n",
              " 'den': 277,\n",
              " 'pan': 278,\n",
              " 'Inc': 279,\n",
              " 'GM': 280,\n",
              " 'Hooker': 281,\n",
              " 'nejsou': 282,\n",
              " 'právo': 283,\n",
              " 'podíl': 284,\n",
              " 'toto': 285,\n",
              " 'dobu': 286,\n",
              " 'bezpečnostní': 287,\n",
              " 'neboť': 288,\n",
              " 'možná': 289,\n",
              " 'podmínky': 290,\n",
              " 'státech': 291,\n",
              " 'ITER': 292,\n",
              " 'miliardy': 293,\n",
              " '10': 294,\n",
              " 'Iráku': 295,\n",
              " 'hospodářství': 296,\n",
              " 'státu': 297,\n",
              " 'Japonsko': 298,\n",
              " 'informace': 299,\n",
              " 'stanoví': 300,\n",
              " 'Spojených': 301,\n",
              " 'SAD': 302,\n",
              " 'nikdy': 303,\n",
              " 'zájmy': 304,\n",
              " 'ne': 305,\n",
              " 'jednání': 306,\n",
              " 'nebude': 307,\n",
              " 'zatímco': 308,\n",
              " 'jde': 309,\n",
              " 'výbor': 310,\n",
              " 'prezidenta': 311,\n",
              " 'univerzitě': 312,\n",
              " 'obchodu': 313,\n",
              " 'mohla': 314,\n",
              " 'společností': 315,\n",
              " 'ovzduší': 316,\n",
              " 'účely': 317,\n",
              " 'koncentrace': 318,\n",
              " 'přímo': 319,\n",
              " 'Smlouvy': 320,\n",
              " 'zvukových': 321,\n",
              " 'NCNB': 322,\n",
              " 'obchodování': 323,\n",
              " 'Severní': 324,\n",
              " 'nás': 325,\n",
              " 'ty': 326,\n",
              " 'maximální': 327,\n",
              " 'například': 328,\n",
              " 'rozšíření': 329,\n",
              " 'nakonec': 330,\n",
              " 'poté': 331,\n",
              " 'lze': 332,\n",
              " 'Jak': 333,\n",
              " 'Francie': 334,\n",
              " 'čistý': 335,\n",
              " 'množství': 336,\n",
              " 'dva': 337,\n",
              " '13': 338,\n",
              " 'vyšší': 339,\n",
              " 'týkající': 340,\n",
              " 'údajů': 341,\n",
              " 'důsledku': 342,\n",
              " 'programu': 343,\n",
              " 'jiných': 344,\n",
              " 'zisk': 345,\n",
              " 'základě': 346,\n",
              " 'suroviny': 347,\n",
              " 'barviva': 348,\n",
              " 'J': 349,\n",
              " 'včera': 350,\n",
              " 'uvedla': 351,\n",
              " 'pátek': 352,\n",
              " '!': 353,\n",
              " 'bychom': 354,\n",
              " 'vůbec': 355,\n",
              " 'přes': 356,\n",
              " 'bezpečnosti': 357,\n",
              " 'jim': 358,\n",
              " 'světa': 359,\n",
              " 'kvůli': 360,\n",
              " 'celé': 361,\n",
              " 'stejně': 362,\n",
              " 'Spojené': 363,\n",
              " 'buď': 364,\n",
              " 'evropské': 365,\n",
              " 'd': 366,\n",
              " '100': 367,\n",
              " 'účelem': 368,\n",
              " 'ní': 369,\n",
              " 'tam': 370,\n",
              " 'straně': 371,\n",
              " 'zahraničí': 372,\n",
              " 'Rady': 373,\n",
              " 'banky': 374,\n",
              " 'největší': 375,\n",
              " 'došlo': 376,\n",
              " 'komise': 377,\n",
              " '000': 378,\n",
              " 'počet': 379,\n",
              " '50': 380,\n",
              " 'trhy': 381,\n",
              " 'levice': 382,\n",
              " 'Od': 383,\n",
              " 'předpisy': 384,\n",
              " 'stanovit': 385,\n",
              " 'měsíců': 386,\n",
              " 'členským': 387,\n",
              " 'uplatňování': 388,\n",
              " 'státě': 389,\n",
              " 'odstavce': 390,\n",
              " 'předloží': 391,\n",
              " 'většinou': 392,\n",
              " 'nařízení': 393,\n",
              " 'USE': 394,\n",
              " 'Každý': 395,\n",
              " 'fondu': 396,\n",
              " 'ředitel': 397,\n",
              " 'kapitálu': 398,\n",
              " 'svém': 399,\n",
              " 'uvedl': 400,\n",
              " 'cenné': 401,\n",
              " 'USD': 402,\n",
              " 'generace': 403,\n",
              " 'lidé': 404,\n",
              " 'život': 405,\n",
              " 'totiž': 406,\n",
              " 'nyní': 407,\n",
              " 'jehož': 408,\n",
              " 'poslední': 409,\n",
              " 'doby': 410,\n",
              " 'vstupu': 411,\n",
              " 'práce': 412,\n",
              " 'tři': 413,\n",
              " 'teď': 414,\n",
              " 'času': 415,\n",
              " 'řešení': 416,\n",
              " 'díky': 417,\n",
              " 'tří': 418,\n",
              " 'Za': 419,\n",
              " 'velké': 420,\n",
              " 'tvrdí': 421,\n",
              " 'měly': 422,\n",
              " 'území': 423,\n",
              " 'několik': 424,\n",
              " 'národní': 425,\n",
              " 'EMU': 426,\n",
              " '6': 427,\n",
              " 'rámci': 428,\n",
              " 'vláda': 429,\n",
              " 'americké': 430,\n",
              " 'III': 431,\n",
              " 'veřejnosti': 432,\n",
              " 'věci': 433,\n",
              " 'utajení': 434,\n",
              " 'provádění': 435,\n",
              " 'odstavci': 436,\n",
              " 'kterých': 437,\n",
              " 'vysílání': 438,\n",
              " 'vozidla': 439,\n",
              " '``': 440,\n",
              " 'Rádio': 441,\n",
              " 'Svobodná': 442,\n",
              " 'oznámila': 443,\n",
              " 'Mohr': 444,\n",
              " 'Afriky': 445,\n",
              " 'Izrael': 446,\n",
              " 'proč': 447,\n",
              " 'dvě': 448,\n",
              " 'zboží': 449,\n",
              " 'kdo': 450,\n",
              " 'všechny': 451,\n",
              " 'dalších': 452,\n",
              " 'Bush': 453,\n",
              " 'jiné': 454,\n",
              " 'některých': 455,\n",
              " 'války': 456,\n",
              " 'hodnot': 457,\n",
              " 'nových': 458,\n",
              " 'světě': 459,\n",
              " 'vlády': 460,\n",
              " 'často': 461,\n",
              " 'použití': 462,\n",
              " 'kolem': 463,\n",
              " 'výsledky': 464,\n",
              " 'miliard': 465,\n",
              " 'mělo': 466,\n",
              " 'euro': 467,\n",
              " 'ohledem': 468,\n",
              " 'dokonce': 469,\n",
              " 'růst': 470,\n",
              " 'procent': 471,\n",
              " 'Německo': 472,\n",
              " 'Německa': 473,\n",
              " 'mužů': 474,\n",
              " 'část': 475,\n",
              " 'požadavky': 476,\n",
              " 'byli': 477,\n",
              " 'zahraniční': 478,\n",
              " 'amerických': 479,\n",
              " 'Německu': 480,\n",
              " 'vedoucí': 481,\n",
              " 'stanovisko': 482,\n",
              " 'právní': 483,\n",
              " 'přijmou': 484,\n",
              " 'způsobem': 485,\n",
              " 'ochranu': 486,\n",
              " 'přílohy': 487,\n",
              " 'zástupce': 488,\n",
              " 'Výbor': 489,\n",
              " 'Rada': 490,\n",
              " '7': 491,\n",
              " 'písm': 492,\n",
              " 'dvěma': 493,\n",
              " 'záznamu': 494,\n",
              " 'Smluvní': 495,\n",
              " 'jeden': 496,\n",
              " 'měsíce': 497,\n",
              " \"''\": 498,\n",
              " 'bývalý': 499,\n",
              " 'Morgan': 500,\n",
              " 'příjem': 501,\n",
              " 'cenných': 502,\n",
              " 'Banknote': 503,\n",
              " 'znovu': 504,\n",
              " 'Boeingu': 505,\n",
              " 'Tess': 506,\n",
              " 'Bumble': 507,\n",
              " 'našich': 508,\n",
              " 'nic': 509,\n",
              " 'svými': 510,\n",
              " 'mohli': 511,\n",
              " 'zvláštní': 512,\n",
              " 'okamžiku': 513,\n",
              " 'jiného': 514,\n",
              " 'bych': 515,\n",
              " 'budoucnosti': 516,\n",
              " 'stavu': 517,\n",
              " 'východ': 518,\n",
              " 'důvodů': 519,\n",
              " 'Západ': 520,\n",
              " 'kandidátských': 521,\n",
              " 'touto': 522,\n",
              " 'vztahy': 523,\n",
              " 'několika': 524,\n",
              " 'spolupráci': 525,\n",
              " 'nebudou': 526,\n",
              " 'nadále': 527,\n",
              " 'přitom': 528,\n",
              " 'jenž': 529,\n",
              " 'pravděpodobně': 530,\n",
              " 'částic': 531,\n",
              " 'profesorem': 532,\n",
              " 'armády': 533,\n",
              " 'sice': 534,\n",
              " 'člen': 535,\n",
              " 'nižší': 536,\n",
              " 'dosud': 537,\n",
              " 'střední': 538,\n",
              " 'později': 539,\n",
              " '30': 540,\n",
              " 'finanční': 541,\n",
              " 'dobře': 542,\n",
              " 'ti': 543,\n",
              " 'hodnotu': 544,\n",
              " 'zaměstnanců': 545,\n",
              " 'prostředí': 546,\n",
              " 'víc': 547,\n",
              " 'tuto': 548,\n",
              " '17': 549,\n",
              " 'vody': 550,\n",
              " 'uvědomí': 551,\n",
              " 'nesmějí': 552,\n",
              " 'zdraví': 553,\n",
              " 'referenční': 554,\n",
              " 'c': 555,\n",
              " 'úřední': 556,\n",
              " 'B': 557,\n",
              " 'výkonů': 558,\n",
              " 'umělci': 559,\n",
              " 'výrobce': 560,\n",
              " 'barviv': 561,\n",
              " 'hmotnost': 562,\n",
              " 'O': 563,\n",
              " 'plánu': 564,\n",
              " 'něco': 565,\n",
              " 'odborů': 566,\n",
              " 'Yorku': 567,\n",
              " 'Světové': 568,\n",
              " 'večer': 569,\n",
              " 'Pan': 570,\n",
              " 'L': 571,\n",
              " 'Mannová': 572,\n",
              " 'obvykle': 573,\n",
              " 'budoucí': 574,\n",
              " 'celkem': 575,\n",
              " 'anebo': 576,\n",
              " 'některé': 577,\n",
              " 'mnoha': 578,\n",
              " 'věc': 579,\n",
              " 'zemi': 580,\n",
              " 'celý': 581,\n",
              " 'dříve': 582,\n",
              " 'té': 583,\n",
              " 'nejpozději': 584,\n",
              " 'Rusku': 585,\n",
              " 'situaci': 586,\n",
              " 'snaží': 587,\n",
              " 'vstup': 588,\n",
              " 'situace': 589,\n",
              " 'novou': 590,\n",
              " 'nejen': 591,\n",
              " 'riziko': 592,\n",
              " 'zemím': 593,\n",
              " 'současně': 594,\n",
              " 'západní': 595,\n",
              " 'nikoli': 596,\n",
              " 'především': 597,\n",
              " 'lepší': 598,\n",
              " 'každém': 599,\n",
              " 'října': 600,\n",
              " 'skupiny': 601,\n",
              " 'energie': 602,\n",
              " 'představuje': 603,\n",
              " 'přibližně': 604,\n",
              " 'výroby': 605,\n",
              " 'zatím': 606,\n",
              " 'problém': 607,\n",
              " 'výzkum': 608,\n",
              " 'síly': 609,\n",
              " 'moc': 610,\n",
              " 'pomoc': 611,\n",
              " 'konkurence': 612,\n",
              " 'Tento': 613,\n",
              " 'spíše': 614,\n",
              " 'program': 615,\n",
              " 'zemích': 616,\n",
              " 'ceny': 617,\n",
              " 'zvýšení': 618,\n",
              " 'lety': 619,\n",
              " 'změny': 620,\n",
              " '1990': 621,\n",
              " '1994': 622,\n",
              " 'mimo': 623,\n",
              " 'K': 624,\n",
              " 'ohledně': 625,\n",
              " 'jednu': 626,\n",
              " 'muži': 627,\n",
              " 'tímto': 628,\n",
              " 'určí': 629,\n",
              " 'zřejmě': 630,\n",
              " 'schválení': 631,\n",
              " 'C': 632,\n",
              " 'nesmí': 633,\n",
              " 'správní': 634,\n",
              " 'průtok': 635,\n",
              " 'uvedená': 636,\n",
              " 'stanovené': 637,\n",
              " 'znečištění': 638,\n",
              " 'obsahovat': 639,\n",
              " 'žádost': 640,\n",
              " 'stanovených': 641,\n",
              " '12': 642,\n",
              " 'přijme': 643,\n",
              " 'vlastního': 644,\n",
              " 'členského': 645,\n",
              " 'podniků': 646,\n",
              " 'prostřednictvím': 647,\n",
              " 'akcie': 648,\n",
              " 'útvar': 649,\n",
              " 'vzorků': 650,\n",
              " 'každé': 651,\n",
              " 'výkonných': 652,\n",
              " 'umělců': 653,\n",
              " 'výkonu': 654,\n",
              " 'záznamů': 655,\n",
              " 'zvukového': 656,\n",
              " '19': 657,\n",
              " '11': 658,\n",
              " 'suspendovaných': 659,\n",
              " 'emise': 660,\n",
              " 'Security': 661,\n",
              " 'Pacific': 662,\n",
              " 'centů': 663,\n",
              " 'papírů': 664,\n",
              " 'uzavření': 665,\n",
              " 'bodů': 666,\n",
              " 'nabídka': 667,\n",
              " 'série': 668,\n",
              " 'nabídku': 669,\n",
              " 'práci': 670,\n",
              " 'Mluvčí': 671,\n",
              " 'jste': 672,\n",
              " 'oznámil': 673,\n",
              " 'onemocnění': 674,\n",
              " 'dárky': 675,\n",
              " 'Jižní': 676,\n",
              " 'spravedlnosti': 677,\n",
              " 'děti': 678,\n",
              " 'povinnosti': 679,\n",
              " 'ten': 680,\n",
              " 'plně': 681,\n",
              " 'chvíli': 682,\n",
              " 'tolik': 683,\n",
              " 'výše': 684,\n",
              " 'Americe': 685,\n",
              " 'mě': 686,\n",
              " 'pozornost': 687,\n",
              " 'místo': 688,\n",
              " 'Jeho': 689,\n",
              " 'aliance': 690,\n",
              " 'dojde': 691,\n",
              " 'Polsko': 692,\n",
              " 'summitu': 693,\n",
              " 'Evropská': 694,\n",
              " 'společenství': 695,\n",
              " 'strategie': 696,\n",
              " 'vliv': 697,\n",
              " 'jedna': 698,\n",
              " 'cílem': 699,\n",
              " 'konečně': 700,\n",
              " 'přístup': 701,\n",
              " 'ředitelem': 702,\n",
              " 'vedení': 703,\n",
              " 'spolupráce': 704,\n",
              " 'nikoliv': 705,\n",
              " 'znamená': 706,\n",
              " 'Evropu': 707,\n",
              " 'orgány': 708,\n",
              " 'dlouhodobé': 709,\n",
              " 'málo': 710,\n",
              " 'uvnitř': 711,\n",
              " 'kdyby': 712,\n",
              " 'prostředky': 713,\n",
              " 'ostatní': 714,\n",
              " 'financování': 715,\n",
              " 'metod': 716,\n",
              " 'získat': 717,\n",
              " 'hnutí': 718,\n",
              " 'prostředků': 719,\n",
              " 'Místo': 720,\n",
              " 'strana': 721,\n",
              " 'zhruba': 722,\n",
              " 'stranu': 723,\n",
              " 'systému': 724,\n",
              " 'nový': 725,\n",
              " 'Toto': 726,\n",
              " 'pěti': 727,\n",
              " 'cen': 728,\n",
              " 'jejího': 729,\n",
              " 'níž': 730,\n",
              " 'podporu': 731,\n",
              " 'vojenské': 732,\n",
              " 'cenu': 733,\n",
              " 'existuje': 734,\n",
              " 'úvěrů': 735,\n",
              " 'tlak': 736,\n",
              " 'minulosti': 737,\n",
              " 'moci': 738,\n",
              " 'obchodní': 739,\n",
              " 'trzích': 740,\n",
              " 'střediska': 741,\n",
              " '[': 742,\n",
              " ']': 743,\n",
              " 'postupy': 744,\n",
              " 'směrnicí': 745,\n",
              " 'považuje': 746,\n",
              " 'neprodleně': 747,\n",
              " 'zajistí': 748,\n",
              " 'působnosti': 749,\n",
              " 'státům': 750,\n",
              " 'přičemž': 751,\n",
              " 'čas': 752,\n",
              " 'němž': 753,\n",
              " 'dusičitého': 754,\n",
              " 'údaje': 755,\n",
              " 'souvislosti': 756,\n",
              " 'hodnotě': 757,\n",
              " '14': 758,\n",
              " 'přijata': 759,\n",
              " '24': 760,\n",
              " 'používání': 761,\n",
              " 'podniku': 762,\n",
              " 'podnik': 763,\n",
              " 'uvedeného': 764,\n",
              " 'jejichž': 765,\n",
              " 'přidružení': 766,\n",
              " 'Jestliže': 767,\n",
              " 'splaceného': 768,\n",
              " 'půjček': 769,\n",
              " 'výkonný': 770,\n",
              " 'výkonného': 771,\n",
              " 'umělce': 772,\n",
              " 'zaznamenaných': 773,\n",
              " 'siřičitého': 774,\n",
              " 'potravin': 775,\n",
              " 'hodin': 776,\n",
              " 'denně': 777,\n",
              " 'východě': 778,\n",
              " 'Newyorské': 779,\n",
              " 'burze': 780,\n",
              " 'pokles': 781,\n",
              " 'půl': 782,\n",
              " 'listopadu': 783,\n",
              " 'řekla': 784,\n",
              " 'RJR': 785,\n",
              " 'vám': 786,\n",
              " 'inzeráty': 787,\n",
              " 'Fidelity': 788,\n",
              " 'burza': 789,\n",
              " 'NCR': 790,\n",
              " 'Británii': 791,\n",
              " 'nám': 792,\n",
              " 'jednou': 793,\n",
              " 'Egypt': 794,\n",
              " 'všechno': 795,\n",
              " 'povinností': 796,\n",
              " 'zde': 797,\n",
              " 'možnost': 798,\n",
              " 'přesto': 799,\n",
              " 'Aby': 800,\n",
              " 'začít': 801,\n",
              " 'těch': 802,\n",
              " 'politiky': 803,\n",
              " 'členy': 804,\n",
              " 'Některé': 805,\n",
              " 'zároveň': 806,\n",
              " 'Vzhledem': 807,\n",
              " 'tehdy': 808,\n",
              " 'východní': 809,\n",
              " 'patří': 810,\n",
              " 'roli': 811,\n",
              " 'velký': 812,\n",
              " 'Kromě': 813,\n",
              " 'evropských': 814,\n",
              " 'Dnes': 815,\n",
              " 'začala': 816,\n",
              " 'společně': 817,\n",
              " 'opět': 818,\n",
              " 'dosažení': 819,\n",
              " 'třetí': 820,\n",
              " 'muset': 821,\n",
              " 'sobě': 822,\n",
              " 'zařízení': 823,\n",
              " 'výši': 824,\n",
              " 'takže': 825,\n",
              " 'cestu': 826,\n",
              " 'Tudjman': 827,\n",
              " 'tj': 828,\n",
              " 'dohoda': 829,\n",
              " 'Amerika': 830,\n",
              " 'vedl': 831,\n",
              " 'unii': 832,\n",
              " 'opozice': 833,\n",
              " 'ať': 834,\n",
              " 'zůstává': 835,\n",
              " 'dokud': 836,\n",
              " 'členové': 837,\n",
              " 'nim': 838,\n",
              " 'kritéria': 839,\n",
              " 'přistoupení': 840,\n",
              " 'Většina': 841,\n",
              " 'služeb': 842,\n",
              " 'Také': 843,\n",
              " 'velkých': 844,\n",
              " 'opravdu': 845,\n",
              " 'výkon': 846,\n",
              " 'domácí': 847,\n",
              " 'reforem': 848,\n",
              " 'současnosti': 849,\n",
              " 'povinnost': 850,\n",
              " 'sil': 851,\n",
              " 'čele': 852,\n",
              " 'vzhledem': 853,\n",
              " 'návrhu': 854,\n",
              " 'stran': 855,\n",
              " 'nedávno': 856,\n",
              " 'krize': 857,\n",
              " 'mohly': 858,\n",
              " 'podmínek': 859,\n",
              " 'nebyly': 860,\n",
              " 'firmě': 861,\n",
              " 'výrobu': 862,\n",
              " 'rozsahu': 863,\n",
              " 'konkurenci': 864,\n",
              " 'dochází': 865,\n",
              " 'sérii': 866,\n",
              " 'samozřejmě': 867,\n",
              " 'dál': 868,\n",
              " 'prvních': 869,\n",
              " 'of': 870,\n",
              " 'dolar': 871,\n",
              " 'jaké': 872,\n",
              " 'dolarech': 873,\n",
              " 'klesl': 874,\n",
              " 'pět': 875,\n",
              " 'zdá': 876,\n",
              " 'kterým': 877,\n",
              " 'tvoří': 878,\n",
              " 'University': 879,\n",
              " 'předpisů': 880,\n",
              " 'studenou': 881,\n",
              " 'vztahuje': 882,\n",
              " 'příloha': 883,\n",
              " 'objem': 884,\n",
              " 'překročení': 885,\n",
              " 'rozumí': 886,\n",
              " 'státem': 887,\n",
              " 'úroveň': 888,\n",
              " 'stanice': 889,\n",
              " 'IV': 890,\n",
              " 'konzultací': 891,\n",
              " 'zúčastnit': 892,\n",
              " 'předsedou': 893,\n",
              " 'Radě': 894,\n",
              " 'smluvní': 895,\n",
              " 'stanovená': 896,\n",
              " 'Eura': 897,\n",
              " '—': 898,\n",
              " 'mezinárodních': 899,\n",
              " 'omezení': 900,\n",
              " 'druhý': 901,\n",
              " 'úhyn': 902,\n",
              " 'úhynu': 903,\n",
              " 'výskytu': 904,\n",
              " 'pravidla': 905,\n",
              " 'odběru': 906,\n",
              " '90': 907,\n",
              " 'právním': 908,\n",
              " 'Avšak': 909,\n",
              " 'výjimkou': 910,\n",
              " 'prodeji': 911,\n",
              " 'látek': 912,\n",
              " 'povolení': 913,\n",
              " 'Do': 914,\n",
              " '20': 915,\n",
              " 'nemá': 916,\n",
              " 'Firma': 917,\n",
              " 'P': 918,\n",
              " 'třetím': 919,\n",
              " 'George': 920,\n",
              " 'týden': 921,\n",
              " 'San': 922,\n",
              " 'září': 923,\n",
              " 'klesly': 924,\n",
              " 'nabídky': 925,\n",
              " 'McCaw': 926,\n",
              " 'krok': 927,\n",
              " 'Canadian': 928,\n",
              " 'nebyl': 929,\n",
              " 'odpoledne': 930,\n",
              " 'propadu': 931,\n",
              " 'Jakmile': 932,\n",
              " 'Simpson': 933,\n",
              " 'Británie': 934,\n",
              " 'Boeing': 935,\n",
              " 'plic': 936,\n",
              " 'otázky': 937,\n",
              " 'Srbska': 938,\n",
              " 'dětí': 939,\n",
              " 'názor': 940,\n",
              " 'zájmů': 941,\n",
              " 'uprostřed': 942,\n",
              " 'kolik': 943,\n",
              " 'míry': 944,\n",
              " 'jiném': 945,\n",
              " 'Například': 946,\n",
              " 'taková': 947,\n",
              " 'Tak': 948,\n",
              " 'Není': 949,\n",
              " 'nemohou': 950,\n",
              " 'žít': 951,\n",
              " 'většina': 952,\n",
              " 'porušení': 953,\n",
              " 'hned': 954,\n",
              " 'věcí': 955,\n",
              " 'Severoatlantické': 956,\n",
              " 'nejdříve': 957,\n",
              " 'konce': 958,\n",
              " 'naprosto': 959,\n",
              " 'přijetí': 960,\n",
              " 'pobaltských': 961,\n",
              " 'obou': 962,\n",
              " 'Pobaltí': 963,\n",
              " 'vše': 964,\n",
              " 'těmto': 965,\n",
              " 'mnohé': 966,\n",
              " 'alianci': 967,\n",
              " 'rozšiřování': 968,\n",
              " 'konci': 969,\n",
              " 'funkci': 970,\n",
              " 'současné': 971,\n",
              " 'jasně': 972,\n",
              " 'coby': 973,\n",
              " 'hranice': 974,\n",
              " 'obě': 975,\n",
              " 'provést': 976,\n",
              " 'Západem': 977,\n",
              " 'dostat': 978,\n",
              " 'zásadní': 979,\n",
              " 'Zdá': 980,\n",
              " 'projektu': 981,\n",
              " 'vidět': 982,\n",
              " 'hospodářské': 983,\n",
              " 'peněz': 984,\n",
              " 'tržní': 985,\n",
              " 'společné': 986,\n",
              " 'Evropané': 987,\n",
              " 'činí': 988,\n",
              " 'těžké': 989,\n",
              " 'představitelé': 990,\n",
              " 'tzv': 991,\n",
              " 'fungovat': 992,\n",
              " 'Japonsku': 993,\n",
              " 'Mezinárodní': 994,\n",
              " 'náklady': 995,\n",
              " 'jedné': 996,\n",
              " 'skutečně': 997,\n",
              " 'zisku': 998,\n",
              " 'deset': 999,\n",
              " ...}"
            ]
          },
          "metadata": {},
          "execution_count": 34
        }
      ]
    },
    {
      "cell_type": "markdown",
      "source": [
        "Рассмотрим примеры обратных переводов."
      ],
      "metadata": {
        "id": "mHxLpeSWen9D"
      }
    },
    {
      "cell_type": "code",
      "source": [
        "idx = t_idx_tgt['bylo']\n",
        "suitable_translations = target_to_source[idx].argsort()[-2:]\n",
        "suitable_translations = suitable_translations[::-1]\n",
        "source_token_by_idx = {idx: token for token, idx in t_idx_src.items()}\n",
        "[source_token_by_idx[idx] for idx in suitable_translations]\n"
      ],
      "metadata": {
        "colab": {
          "base_uri": "https://localhost:8080/"
        },
        "id": "n1uvWi5DeaWm",
        "outputId": "24e3af1b-7002-40b1-ce05-7c6971d7618f"
      },
      "execution_count": null,
      "outputs": [
        {
          "output_type": "execute_result",
          "data": {
            "text/plain": [
              "['was', 'been']"
            ]
          },
          "metadata": {},
          "execution_count": 41
        }
      ]
    },
    {
      "cell_type": "code",
      "source": [
        "idx = t_idx_tgt['jako']\n",
        "suitable_translations = target_to_source[idx].argsort()[-2:]\n",
        "suitable_translations = suitable_translations[::-1]\n",
        "source_token_by_idx = {idx: token for token, idx in t_idx_src.items()}\n",
        "[source_token_by_idx[idx] for idx in suitable_translations]\n"
      ],
      "metadata": {
        "colab": {
          "base_uri": "https://localhost:8080/"
        },
        "id": "xOMNDN87gVVh",
        "outputId": "f80af080-0323-403e-f9fa-ee55d8bd1396"
      },
      "execution_count": null,
      "outputs": [
        {
          "output_type": "execute_result",
          "data": {
            "text/plain": [
              "['as', 'like']"
            ]
          },
          "metadata": {},
          "execution_count": 42
        }
      ]
    },
    {
      "cell_type": "code",
      "source": [
        "idx = t_idx_tgt['vláda']\n",
        "suitable_translations = target_to_source[idx].argsort()[-2:]\n",
        "suitable_translations = suitable_translations[::-1]\n",
        "source_token_by_idx = {idx: token for token, idx in t_idx_src.items()}\n",
        "[source_token_by_idx[idx] for idx in suitable_translations]\n"
      ],
      "metadata": {
        "colab": {
          "base_uri": "https://localhost:8080/"
        },
        "id": "WOFa14bWgfjd",
        "outputId": "b562841a-3f12-416e-da62-334635ed009b"
      },
      "execution_count": null,
      "outputs": [
        {
          "output_type": "execute_result",
          "data": {
            "text/plain": [
              "['government', 'Reconstruction']"
            ]
          },
          "metadata": {},
          "execution_count": 43
        }
      ]
    },
    {
      "cell_type": "markdown",
      "source": [
        "Таким образом, с помощью матрицы условных вероятностей перевода исходного языка в целевой, частотных оценок априорных распределений слов и формулы Байеса, получили условные вероятности обратного перевода целевого языка в исходный, и обратный перевод действительно дает приемлемые и логичные результаты. "
      ],
      "metadata": {
        "id": "ZskD2PkJgk0H"
      }
    },
    {
      "cell_type": "markdown",
      "metadata": {
        "id": "W8H9MEdZkD3q"
      },
      "source": [
        "---"
      ]
    },
    {
      "cell_type": "markdown",
      "metadata": {
        "id": "IROuedLPkD3r"
      },
      "source": [
        "**Задание 4. (0.5 балла)** Визуализируйте полученные выравнивания для нескольких предложений в виде heatmap: по одной из осей располагаются токены исходного текста, по другой — токены его перевода, на пересечении позиций $i$ и $j$ — 0 либо 1 в зависимости от того, является ли в обученной модели $a_i$ равным $j$. Проинтерпретируйте их.\n",
        "\n",
        "Постройте аналогичный график, но без дискретизации, а визуализируя напрямую апостериорное распределение. **(?)**  Можете ли вы найти ситуации, в которых модель не уверена, переводом какого слова является слово $i$?"
      ]
    },
    {
      "cell_type": "markdown",
      "metadata": {
        "id": "wFbMbyyYkD3r"
      },
      "source": [
        "**Подсказка:**\n",
        "* Старайтесь не брать слишком короткие предложения"
      ]
    },
    {
      "cell_type": "markdown",
      "metadata": {
        "id": "2J7O3HG6kD3s"
      },
      "source": [
        "---"
      ]
    },
    {
      "cell_type": "code",
      "execution_count": null,
      "metadata": {
        "id": "HCxD97OZkD3t",
        "colab": {
          "base_uri": "https://localhost:8080/",
          "height": 978
        },
        "outputId": "ae0cd11a-b56d-4b66-b95b-2bed6b339897"
      },
      "outputs": [
        {
          "output_type": "display_data",
          "data": {
            "text/plain": [
              "<Figure size 1440x1080 with 1 Axes>"
            ],
            "image/png": "[encoded data removed]"
          },
          "metadata": {
            "needs_background": "light"
          }
        }
      ],
      "source": [
        "# (•̀ 3 •́)━★☆.*･｡ﾟ\n",
        "posteriors = word_aligner._e_step(tokenized_sentences)\n",
        "alignments = word_aligner.align(tokenized_sentences)\n",
        "\n",
        "plt.rc('image', cmap='Greys')\n",
        "plt.rc('font', size=15)\n",
        "\n",
        "source = all_sentences[1337].source\n",
        "target = all_sentences[1337].target\n",
        "heatmap = np.zeros((len(source), len(target)), dtype=bool)\n",
        "sentence_alignment = (np.array(alignments[1337], dtype=int) - 1).T\n",
        "heatmap[sentence_alignment[0], sentence_alignment[1]] = 1\n",
        "\n",
        "plt.figure(figsize=(20, 15))\n",
        "plt.title('Полученные в ходе алгоритма выравнивания, предложение 1337')\n",
        "plt.imshow(heatmap)\n",
        "plt.xlabel('Целевой язык (чешский)')\n",
        "plt.ylabel('Исходный язык (английский)')\n",
        "plt.xticks(ticks=np.arange(len(target)), labels=target, rotation=-90)\n",
        "plt.yticks(ticks=np.arange(len(source)), labels=source)\n",
        "plt.grid(True)"
      ]
    },
    {
      "cell_type": "code",
      "source": [
        "plt.figure(figsize=(20, 15))\n",
        "plt.title('Полученные в ходе алгоритма апостериорные вероятности, предложение 1337')\n",
        "plt.imshow(posteriors[1337])\n",
        "plt.xlabel('Целевой язык (чешский)')\n",
        "plt.ylabel('Исходный язык (английский)')\n",
        "plt.xticks(ticks=np.arange(len(target)), labels=target, rotation=-90)\n",
        "plt.yticks(ticks=np.arange(len(source)), labels=source)\n",
        "plt.grid(True)"
      ],
      "metadata": {
        "colab": {
          "base_uri": "https://localhost:8080/",
          "height": 978
        },
        "id": "cie8NQ6InvdZ",
        "outputId": "b2b7291c-d931-4cd9-db87-cdb6e620f905"
      },
      "execution_count": null,
      "outputs": [
        {
          "output_type": "display_data",
          "data": {
            "text/plain": [
              "<Figure size 1440x1080 with 1 Axes>"
            ],
            "image/png": "[encoded data removed]"
          },
          "metadata": {
            "needs_background": "light"
          }
        }
      ]
    },
    {
      "cell_type": "code",
      "source": [
        "source = all_sentences[100].source\n",
        "target = all_sentences[100].target\n",
        "heatmap = np.zeros((len(source), len(target)), dtype=bool)\n",
        "sentence_alignment = (np.array(alignments[100], dtype=int) - 1).T\n",
        "heatmap[sentence_alignment[0], sentence_alignment[1]] = 1\n",
        "\n",
        "plt.figure(figsize=(20, 15))\n",
        "plt.title('Полученные в ходе алгоритма выравнивания, предложение 100')\n",
        "plt.imshow(heatmap)\n",
        "plt.xlabel('Целевой язык (чешский)')\n",
        "plt.ylabel('Исходный язык (английский)')\n",
        "plt.xticks(ticks=np.arange(len(target)), labels=target, rotation=-90)\n",
        "plt.yticks(ticks=np.arange(len(source)), labels=source)\n",
        "plt.grid(True)"
      ],
      "metadata": {
        "colab": {
          "base_uri": "https://localhost:8080/",
          "height": 981
        },
        "id": "ozwNEttPoHua",
        "outputId": "545dff3b-e4ed-4ba3-cafd-64e8a7a9c57f"
      },
      "execution_count": null,
      "outputs": [
        {
          "output_type": "display_data",
          "data": {
            "text/plain": [
              "<Figure size 1440x1080 with 1 Axes>"
            ],
            "image/png": "[encoded data removed]"
          },
          "metadata": {
            "needs_background": "light"
          }
        }
      ]
    },
    {
      "cell_type": "code",
      "source": [
        "plt.figure(figsize=(20, 15))\n",
        "plt.title('Полученные в ходе алгоритма апостериорные вероятности, предложение 100')\n",
        "plt.imshow(posteriors[100])\n",
        "plt.xlabel('Целевой язык (чешский)')\n",
        "plt.ylabel('Исходный язык (английский)')\n",
        "plt.xticks(ticks=np.arange(len(target)), labels=target, rotation=-90)\n",
        "plt.yticks(ticks=np.arange(len(source)), labels=source)\n",
        "plt.grid(True)"
      ],
      "metadata": {
        "colab": {
          "base_uri": "https://localhost:8080/",
          "height": 981
        },
        "id": "HHt22RI_ozLB",
        "outputId": "151657e2-5a45-4c98-e5e2-a99583adde43"
      },
      "execution_count": null,
      "outputs": [
        {
          "output_type": "display_data",
          "data": {
            "text/plain": [
              "<Figure size 1440x1080 with 1 Axes>"
            ],
            "image/png": "[encoded data removed]"
          },
          "metadata": {
            "needs_background": "light"
          }
        }
      ]
    },
    {
      "cell_type": "code",
      "source": [
        "source = all_sentences[2000].source\n",
        "target = all_sentences[2000].target\n",
        "heatmap = np.zeros((len(source), len(target)), dtype=bool)\n",
        "sentence_alignment = (np.array(alignments[2000], dtype=int) - 1).T\n",
        "heatmap[sentence_alignment[0], sentence_alignment[1]] = 1\n",
        "\n",
        "plt.figure(figsize=(20, 15))\n",
        "plt.title('Полученные в ходе алгоритма выравнивания, предложение 2000')\n",
        "plt.imshow(heatmap)\n",
        "plt.xlabel('Целевой язык (чешский)')\n",
        "plt.ylabel('Исходный язык (английский)')\n",
        "plt.xticks(ticks=np.arange(len(target)), labels=target, rotation=-90)\n",
        "plt.yticks(ticks=np.arange(len(source)), labels=source)\n",
        "plt.grid(True)"
      ],
      "metadata": {
        "colab": {
          "base_uri": "https://localhost:8080/",
          "height": 984
        },
        "id": "Izig18Kaqy_V",
        "outputId": "389c8203-718f-4dce-ab20-9ea27bcaf0aa"
      },
      "execution_count": null,
      "outputs": [
        {
          "output_type": "display_data",
          "data": {
            "text/plain": [
              "<Figure size 1440x1080 with 1 Axes>"
            ],
            "image/png": "[encoded data removed]"
          },
          "metadata": {
            "needs_background": "light"
          }
        }
      ]
    },
    {
      "cell_type": "code",
      "source": [
        "plt.figure(figsize=(20, 15))\n",
        "plt.title('Полученные в ходе алгоритма апостериорные вероятности, предложение 2000')\n",
        "plt.imshow(posteriors[2000])\n",
        "plt.xlabel('Целевой язык (чешский)')\n",
        "plt.ylabel('Исходный язык (английский)')\n",
        "plt.xticks(ticks=np.arange(len(target)), labels=target, rotation=-90)\n",
        "plt.yticks(ticks=np.arange(len(source)), labels=source)\n",
        "plt.grid(True)"
      ],
      "metadata": {
        "colab": {
          "base_uri": "https://localhost:8080/",
          "height": 984
        },
        "id": "eAx8gjEurTxo",
        "outputId": "73794e6a-a5af-4af1-ad44-303848f50fe5"
      },
      "execution_count": null,
      "outputs": [
        {
          "output_type": "display_data",
          "data": {
            "text/plain": [
              "<Figure size 1440x1080 with 1 Axes>"
            ],
            "image/png": "[encoded data removed]"
          },
          "metadata": {
            "needs_background": "light"
          }
        }
      ]
    },
    {
      "cell_type": "markdown",
      "source": [
        "На графиках заметны случаи, когда одному слову исходного языка присваивается несколько переводов, и в таком случае значения вероятностей для соответствующих переводов невелики и примерно равны, т. е. модель в таких случаях не уверена в ответе. Однозначные переводы с большими значениями веротяностей вполне логичны и адекватны. Стоит также отметить, что некоторые знаки препинания могут встречаться среди токенов в нескольких экземплярах, и перевод в таком случае будет достаточно неуверенный. На графиках также заметна диагональ, т. е. выравнивание слов в какой-то степени согласуется с их расположением среди токенов. Слова исходного языка, получающие несколько переводов, имеют тенденцию располагаться в верхних строках матрицы. В целом полученные переводы адекватны и достаточны точны, присутствуют и не вполне логичные переводы. "
      ],
      "metadata": {
        "id": "b5uLZygjrgGi"
      }
    },
    {
      "cell_type": "markdown",
      "metadata": {
        "id": "5QeTaN64kD3u"
      },
      "source": [
        "## Бонусная часть"
      ]
    },
    {
      "cell_type": "markdown",
      "metadata": {
        "id": "_gvUc8v8kD3u"
      },
      "source": [
        "Заметим, что при задании модели мы сделали довольно сильное предположение о том, что вероятности выбора слова для выравнивания никак не зависят от позиции слова в целевом предложении. Можно сделать эти вероятности настраиваемыми параметрами, получив прямоугольную матрицу $\\phi_{m,n}(j|i)=p(a_i=j|m,n)$ для каждой пары длин предложений $m,n$: по-прежнему мы получаем распределение над индексами в исходном предложении. Тогда модель приобретает вид\n",
        "$$\n",
        "p(A,T|S)=\\prod_{i=1}^m p(a_i|m,n)p(t_i| a_i, S)=\\prod_{i=1}^m \\phi_{m,n}(a_i|i)\\theta(t_i|s_{a_i}).\n",
        "$$"
      ]
    },
    {
      "cell_type": "markdown",
      "metadata": {
        "id": "4Id2T1MXkD3v"
      },
      "source": [
        "**Задание 5. (бонус, 1.5 балла)** Выведите шаги EM-алгоритма для этой модели, а также получите выражение для подсчёта нижней оценки правдоподобия."
      ]
    },
    {
      "cell_type": "markdown",
      "metadata": {
        "id": "Rza_MdAVkD3w"
      },
      "source": [
        "**Замечание:**\n",
        "* _Возможные форматы ответа:_ в ячейке ноутбука, отдельно сданная в энитаск pdf c набранными формулами в LaTex, отдельная сданная в энитаск фотография (или скан) рукописного (и разборчивого) вывода.\n",
        "* Наличие только ответа оценивается **в 0 баллов**\n",
        "* Наличие неочевидных переходов без пояснений влияет на **баллы в меньшую сторону**"
      ]
    },
    {
      "cell_type": "markdown",
      "metadata": {
        "id": "8Ig7UIFXkD3w"
      },
      "source": [
        "---"
      ]
    },
    {
      "cell_type": "markdown",
      "metadata": {
        "id": "LoJvzgaQkD3x"
      },
      "source": [
        "ଘ(๑˃̵ᴗ˂̵)━☆ﾟ.*･｡ﾟ\n",
        "\n",
        "Проведем вывод по аналогии с моделью WordAligner с теми же обозначениями.\n",
        "\n",
        "\n",
        "Е-шаг: \n",
        "\n",
        "Аналогично распишем $p(a_{i, k}=j, t_{i, k}|S_i)$ в соответствии с рассматриваемой вероятностной моделью:\n",
        "\n",
        "$p(a_{i, k}=j, t_{i, k}|S_i)=p(t_{i, k}|a_{i, k}=j, S_i)p(a_{i, k}=j|m_i, n_i)=\\theta(t_{i, k}|s_{i, j})\\phi_{m_i, n_i}(j|k)$\n",
        "\n",
        "\n",
        "\n",
        "Обновляем распределение скрытых переменных:\n",
        "\n",
        "$q_{i, jk}=q^*(a_{i, k}=j)=p(a_{i, k}=j|S_i, t_{i, k})=\\frac{p(a_{i, k}=j, t_{i,k}|S_i)}{p(t_{i, k}|S_i)}=\\frac{p(a_{i, k}=j, t_{i,k}|S_i)}{\\sum_{w=1}^{n_i}p(a_{i, k}=w, t_{i, k}|S_i)}=\\frac{\\phi_{m_i, n_i}(j|k) \\theta(t_{i, k}|s_{i,j})}{\\sum_{w=1}^{n_i}\\phi_{n_i, m_i}(w|k) \\theta(t_{i, k}|s_{i, w})}$\n",
        "\n",
        "М-шаг:\n",
        "\n",
        "Максимизируем нижнюю оценку логарифма полного правдоподобия $\\mathcal{L}$, обновляем $\\theta(y|x)$. Выпишем выражение для нижней оценки логарифма правдоподобия:\n",
        "\n",
        "$\\mathcal{L}=\\int q^*(A)\\log \\frac{p(A, T)}{q^*(A)}dA=\\sum_{i=1}^R \\sum_{j=1}^{n_i}\\sum_{k=1}^{m_i}q_{i, jk}\\log \\frac{p(a_{i, k}=j, t_{i, k}|S_i)}{q_{i, jk}}=\\sum_{i=1}^R \\sum_{j=1}^{n_i}\\sum_{k=1}^{m_i}q_{i, jk}\\log \\frac{\\phi_{n_i, m_i}(j|k)\\theta(t_{i, k}|s_{i, j})}{q_{i, jk}}=$\n",
        "\n",
        "$=\\sum_{i=1}^R \\sum_{j=1}^{n_i}\\sum_{k=1}^{m_i}q_{i, jk}\\log \\theta(t_{i, k}|s_{i, j})+\\sum_{i=1}^R \\sum_{j=1}^{n_i}\\sum_{k=1}^{m_i}q_{i, jk}\\log \\phi_{n_i, m_i}(j|k)-\\sum_{i=1}^R \\sum_{j=1}^{n_i}\\sum_{k=1}^{m_i}q_{i, jk}\\log n_iq_{i, jk}$\n",
        "\n",
        "Далее максимизируем оценку уже по набору $\\Theta$ всех параметров $\\theta(y|x)$ и по набору $\\Phi$ всех параметров $\\phi_{n_i, m_i}(j|k)$. В итоге получим:\n",
        "\n",
        "$\\Theta^{new}=\\underset{\\Theta}{\\operatorname{argmax}}\\sum_{i=1}^R \\sum_{j=1}^{n_i}\\sum_{k=1}^{m_i}q_{i, jk}\\log \\theta(t_{i, k}|s_{i, j})$\n",
        "\n",
        "$\\Phi^{new}=\\underset{\\Phi}{\\operatorname{argmax}}\\sum_{i=1}^R \\sum_{j=1}^{n_i}\\sum_{k=1}^{m_i}q_{i, jk}\\log \\phi_{n_i, m_i}(j|k)$\n",
        "\n",
        "В случае с $\\Theta$ все аналогично предыдущей модели, получим:\n",
        "\n",
        "$\\theta(y|x)= \\frac{\\sum_{i=1}^R \\sum_{j=1}^{n_i}\\sum_{k=1}^{m_i} q_{i, jk}[t_{i, k}=y][s_{i,j}=x]}{\\sum_{i=1}^R \\sum_{j=1}^{n_i}\\sum_{k=1}^{m_i} q_{i, jk}[s_{i,j}=x]}$\n",
        "\n",
        "Для $\\Phi$ имеем задачу максимизации: $\\sum_{i=1}^R \\sum_{j=1}^{n_i}\\sum_{k=1}^{m_i}q_{i, jk}\\log \\phi_{n_i, m_i}(j|k) \\to \\underset{\\Phi}{\\operatorname{max}}$\n",
        "\n",
        "Для $\\phi_{n_i, m_i}(j|k)$ также есть ограничения. Для каждой пары предложений вероятности $\\phi_{n_i, m_i}(j|k)$ должны нормироваться в единицу, т. к. любое слово в предложении целевого языка пары может стать переводом любого слова предложения исходного языка пары: $\\sum_{j=1}^{n_i}\\phi_{n_i, m_i}(j|k)=1$ $\\forall i \\in \\overline{1,R}$, $\\forall k \\in \\overline{1, m_i}$\n",
        "\n",
        "\n",
        "Запишем лагранжиан:\n",
        "\n",
        "$L=\\sum_{i=1}^R \\sum_{j=1}^{n_i}\\sum_{k=1}^{m_i}q_{i, jk}\\log \\phi_{n_i, m_i}(j|k)-\\sum_{i=1}^{R}\\sum_{k=1}^{m_i}\\lambda_{ik}(\\sum_{j=1}^{n_i}\\phi_{n_i, m_i}(j|k)-1)$\n",
        "\n",
        "Рассмотрим поэлементно, т. е. возьмем конкретные значения $i', j', k' \\Rightarrow n_{i'}, m_{i'}$, найдем производную по $\\phi_{n_{i'}, m_{i'}}(j'|k')$ и приравняем ее нулю:\n",
        "\n",
        "$\\frac{\\partial L}{\\partial \\phi_{n_{i'}, m_{i'}}(j'|k') }=\\sum_{i=1}^R \\sum_{j=1}^{n_i}\\sum_{k=1}^{m_i}q_{i, jk}\\frac{\\partial}{\\partial \\theta(y|x)}\\log \\theta(t_{i, k}|s_{i, j})-\\frac{\\partial}{\\partial \\theta(y|x)}(\\sum_{x \\in X}\\lambda_x(\\sum_{y \\in Y}\\theta(y|x)-1))=$\n",
        "\n",
        "$=\\sum_{i=1}^R \\sum_{j=1}^{n_i}\\sum_{k=1}^{m_i}\\frac{q_{i, jk}[i=i'][j=j'][k=k'][n_i=n_{i'}][m_i=m_{i'}]}{\\phi_{n_{i'}, m_{i'}}(j'|k')}-\\sum_{i=1}^R\\sum_{k=1}^{m_i}\\lambda_{ik}[i=i'][k=k'][n_i=n_{i'}][m_i=m_{i'}]=0 \\Rightarrow$\n",
        "\n",
        "$\\Rightarrow \\phi_{n_{i'}, m_{i'}}(j'|k')=\\frac{\\sum_{i=1}^R\\sum_{j=1}^{n_i}\\sum_{k=1}^{m_i}q_{i, jk}[i=i'][j=j'][k=k'][n_i=n_{i'}][m_i=m_{i'}]}{\\sum_{i=1}^R\\sum_{k=1}^{m_i}\\lambda_{ik}[i=i'][k=k'][n_i=n_{i'}][m_i=m_{i'}]}$\n",
        "\n",
        "\n",
        "Выразим $\\lambda_{ik}$, используя ограничения:\n",
        "\n",
        "$\\sum_{j'=1}^{n_{i'}}\\phi_{n_{i'}, m_{i'}}(j'|k')=\\frac{\\sum_{j'=1}^{n_{i'}}\\sum_{i=1}^R\\sum_{j=1}^{n_i}\\sum_{k=1}^{m_i}q_{i, jk}[i=i'][j=j'][k=k'][n_i=n_{i'}][m_i=m_{i'}]}{\\sum_{i=1}^R\\sum_{k=1}^{m_i}\\lambda_{ik}[i=i'][k=k'][n_i=n_{i'}][m_i=m_{i'}]}=\\frac{\\sum_{i=1}^R\\sum_{j=1}^{n_i}\\sum_{k=1}^{m_i}q_{i, jk}\\sum_{j'=1}^{n_{i'}}[i=i'][j=j'][k=k'][n_i=n_{i'}][m_i=m_{i'}]}{\\sum_{i=1}^R\\sum_{k=1}^{m_i}\\lambda_{ik}[i=i'][k=k'][n_i=n_{i'}][m_i=m_{i'}]}=1$\n",
        "\n",
        "$\\sum_{j'=1}^{n_{i'}}[i=i'][j=j'][k=k'][n_i=n_{i'}][m_i=m_{i'}]=[i=i'][k=k'][n_i=n_{i'}][m_i=m_{i'}] \\Rightarrow$\n",
        "\n",
        "$\\Rightarrow \\sum_{i=1}^R\\sum_{j=1}^{n_i}\\sum_{k=1}^{m_i}q_{i, jk}[i=i'][k=k'][n_i=n_{i'}][m_i=m_{i'}]=\\sum_{i=1}^R\\sum_{k=1}^{m_i}\\lambda_{ik}[i=i'][k=k'][n_i=n_{i'}][m_i=m_{i'}]$\n",
        "\n",
        "\n",
        "В итоге сразу получили выражение для знаменателя из формулы для $\\phi_{n_{i'}, m_{i'}}(j'|k')$. Подставим, получим:\n",
        "\n",
        "$\\phi_{n_{i'}, m_{i'}}(j'|k')=\\frac{\\sum_{i=1}^R\\sum_{j=1}^{n_i}\\sum_{k=1}^{m_i}q_{i, jk}[i=i'][j=j'][k=k'][n_i=n_{i'}][m_i=m_{i'}]}{\\sum_{i=1}^R\\sum_{j=1}^{n_i}\\sum_{k=1}^{m_i}q_{i, jk}[i=i'][k=k'][n_i=n_{i'}][m_i=m_{i'}]}$\n",
        "\n",
        "\n"
      ]
    },
    {
      "cell_type": "markdown",
      "metadata": {
        "id": "fy7ji-ZRkD3x"
      },
      "source": [
        "---"
      ]
    },
    {
      "cell_type": "markdown",
      "metadata": {
        "id": "jUToxR8okD3y"
      },
      "source": [
        "**Задание 6. (бонус, 1.5 балла)** Реализуйте все методы класса `WordPositionAligner`, протестируйте их корректность через Яндекс.Контест. Обучите модель, оцените её качество на истинной разметке и сравните его с качеством предыдущей более простой модели. Проиллюстрируйте влияние стартовых параметров на результат, проинициализировав эту модель параметрами модели из задания 2 (важно, чтобы суммарное число эпох обучения в обоих сценариях оставалось тем же)."
      ]
    },
    {
      "cell_type": "markdown",
      "metadata": {
        "id": "5SVxTzaokD3z"
      },
      "source": [
        "**Замечание:** \n",
        "* **Полностью проходящая все тесты посылка в этом заданиии дает 0.75 балла. За хотя бы 1 непройденный тест вы можете получить за это задание максимум 0.75 балла**"
      ]
    },
    {
      "cell_type": "markdown",
      "metadata": {
        "id": "R6Bf2Ze7kD30"
      },
      "source": [
        "---\n",
        "**>>Ваша ссылка на посылку:<<**\n",
        "\n",
        "https://contest.yandex.ru/contest/35552/run-report/67407529/\n",
        "\n",
        "---"
      ]
    },
    {
      "cell_type": "code",
      "execution_count": null,
      "metadata": {
        "id": "F5CJkbogkD31",
        "colab": {
          "base_uri": "https://localhost:8080/"
        },
        "outputId": "3903727e-4158-478a-9e15-26b2924cfce7"
      },
      "outputs": [
        {
          "output_type": "execute_result",
          "data": {
            "text/plain": [
              "0.3397796708136078"
            ]
          },
          "metadata": {},
          "execution_count": 26
        }
      ],
      "source": [
        "from models import WordPositionAligner\n",
        "# (≧ ◡ ≦)━★☆.*･｡ﾟ\n",
        "word_position_aligner = WordPositionAligner(len(t_idx_src), len(t_idx_tgt), 20)\n",
        "word_position_aligner.fit(tokenized_sentences)\n",
        "\n",
        "compute_aer(all_targets, word_position_aligner.align(tokenized_sentences))"
      ]
    },
    {
      "cell_type": "markdown",
      "source": [
        "Получили значение ошибки немного хуже, чем у WordAligner. Попробуем теперь проинициализировать модель параметрами обученной модели WordAligner, рассмотрим так же 20 эпох. "
      ],
      "metadata": {
        "id": "2voUwaMLOYVS"
      }
    },
    {
      "cell_type": "code",
      "source": [
        "word_position_aligner = WordPositionAligner(len(t_idx_src), len(t_idx_tgt), 20)\n",
        "word_position_aligner.translation_probs = word_aligner.translation_probs\n",
        "word_position_aligner.fit(tokenized_sentences)\n",
        "\n",
        "compute_aer(all_targets, word_position_aligner.align(tokenized_sentences))"
      ],
      "metadata": {
        "colab": {
          "base_uri": "https://localhost:8080/"
        },
        "id": "b_ZzlO4QO5Pw",
        "outputId": "96a736f5-cab8-47f5-ff1c-28575a947aeb"
      },
      "execution_count": null,
      "outputs": [
        {
          "output_type": "execute_result",
          "data": {
            "text/plain": [
              "0.323922437520643"
            ]
          },
          "metadata": {},
          "execution_count": 27
        }
      ]
    },
    {
      "cell_type": "markdown",
      "source": [
        "Действительно,инициализация WordPositionAligner параметрами обученного WordAligner позволила не сильно, но все же улучшить качество, ошибка стала меньше, чем у WordAligner."
      ],
      "metadata": {
        "id": "K-GKKLC_PZv9"
      }
    },
    {
      "cell_type": "markdown",
      "metadata": {
        "id": "ubNh41_VkD31"
      },
      "source": [
        "---"
      ]
    },
    {
      "cell_type": "markdown",
      "metadata": {
        "id": "7B9iFHVekD32"
      },
      "source": [
        "**Задание 7. (бонус, 1 балл)** В предыдущих пунктах мы никак не заостряли внимание на предобработке текстов, что может негативно влиять на результаты обученной модели. Например, сейчас метод выравнивания учитывает регистр, а слова на чешском языке вдобавок обладают богатой морфологией и большим количеством диакритических знаков. Если сократить количество параметров модели (различных слов), можно ускорить обучение и добиться лучших результатов, потому что статистики по словам будут считаться по большему числу параллельных предложений.\n",
        "\n",
        "Примените к исходным данным [Unicode-нормализацию](https://en.wikipedia.org/wiki/Unicode_equivalence#Normalization), приведите их к нижнему регистру и обучите модель выравнивания заново. Сравните качество и скорость обучения с предыдущими результатами и сделайте выводы. Если вы найдете в данных ещё какие-то проблемы, которые можно исправить более грамотной предобработкой, также продемонстрируйте, как их решение влияет на качество.\n",
        "\n",
        "**Важно:** здесь и далее в процессе обработки данных у вас может получаться, что из тестовых данных будут удалены предложения из-за отсутствия слов в словаре. Если такое всё же произошло, для корректности сравнения считайте AER вашей модели на удалённых предложениях равным 1."
      ]
    },
    {
      "cell_type": "markdown",
      "metadata": {
        "id": "5vDvjUTikD33"
      },
      "source": [
        "---"
      ]
    },
    {
      "cell_type": "code",
      "execution_count": null,
      "metadata": {
        "id": "K1l-SoONkD34"
      },
      "outputs": [],
      "source": [
        "# (੭•̀ω•́)੭̸*✩⁺˚"
      ]
    },
    {
      "cell_type": "markdown",
      "metadata": {
        "id": "vJnUi8RXkD34"
      },
      "source": [
        "---"
      ]
    },
    {
      "cell_type": "markdown",
      "metadata": {
        "id": "Lcq0j0JlkD36"
      },
      "source": [
        "**Задание 8. (бонус, до 3 баллов)** \n",
        "\n",
        "Улучшите качество получившейся системы настолько, насколько сможете. За каждые 5 процентов, на которые AER на тех же данных получается меньше, чем минимум ошибки всех предыдущих моделей, вы получите по 1 бонусному баллу.\n",
        "\n",
        "Ниже приведены несколько идей, которые могут помочь вам повысить \n",
        "\n",
        "* Модифицировать модель: как вы можете понять, недостатком второго реализованного вами подхода является избыточное число параметров из-за необходимости подерживать отдельную матрицу для каждой различной пары длин предложений в корпусе. В статье https://www.aclweb.org/anthology/N13-1073.pdf приведён способ снижения числа параметров, задающих априорное распределение позиций выравнивания, который позволяет в десять раз быстрее обучать модель и получать лучшее качество.\n",
        "* Агрегация по двум направлениям: в статье https://www.aclweb.org/anthology/J03-1002/ утверждается, что асимметричность выравниваний вредит качеству, потому что из-за выбранной модели одному слову в целевом предложении не может соответствовать два слова в исходном предложении. Для решения этой проблемы (и улучшения метрик, разумеется) авторы предлагают несколько алгоритмов, которые можно попробовать применить в этом задании.\n",
        "* Использовать больше обучающих данных. В корпусе, которым мы пользуемся, только пара тысяч предложений, чего может не хватать для по-настоящему хорошей модели выравнивания. Разумеется, неразмеченных параллельных английско-чешских корпусов гораздо больше, поэтому можно воспользоваться ими. Хорошая точка для старта — данные с соревнования по машинному переводу  [воркшопа WMT](http://www.statmt.org/wmt20/translation-task.html).\n",
        "* В языках часто существуют слова наподобие артиклей или предлогов, которым не соответствует ни одно слово в переводе. Все рассмотренные в рамках задания модели это не учитывают, возможно, добавление возможности перевода в «нулевой» токен улучшит качество модели (при тестировании такие выравнивания имеет смысл выбрасывать)"
      ]
    },
    {
      "cell_type": "code",
      "execution_count": null,
      "metadata": {
        "id": "hQfq3PkGkD38"
      },
      "outputs": [],
      "source": [
        "# ┐_(ツ)_┌━☆ﾟ.*･｡ﾟ"
      ]
    },
    {
      "cell_type": "markdown",
      "metadata": {
        "id": "N1ZSf5YwkD39"
      },
      "source": [
        "### Картинка для поддержки ваших чувств по этому заданию"
      ]
    },
    {
      "cell_type": "markdown",
      "metadata": {
        "id": "VOCaPUZlkD3_"
      },
      "source": [
        "![](https://a.d-cd.net/RAAAAgCnO-A-960.jpg)"
      ]
    }
  ],
  "metadata": {
    "kernelspec": {
      "display_name": "Python 3",
      "language": "python",
      "name": "python3"
    },
    "language_info": {
      "codemirror_mode": {
        "name": "ipython",
        "version": 3
      },
      "file_extension": ".py",
      "mimetype": "text/x-python",
      "name": "python",
      "nbconvert_exporter": "python",
      "pygments_lexer": "ipython3",
      "version": "3.8.8"
    },
    "colab": {
      "name": "homework-practice-09-em.ipynb",
      "provenance": [],
      "collapsed_sections": [
        "7G0NmR-9kD2U"
      ]
    }
  },
  "nbformat": 4,
  "nbformat_minor": 0
}