{
  "cells": [
    {
      "cell_type": "markdown",
      "metadata": {
        "id": "RYp0bXOFK-hP"
      },
      "source": [
        "# Машинное обучение, ВМК МГУ\n",
        "\n",
        "## Практическое задание 1. Метод опорных векторов и аппроксимация ядер\n",
        "\n",
        "### Общая информация\n",
        "Дата выдачи: 17.02.2022\n",
        "\n",
        "Мягкий дедлайн: 23:59MSK 03.03.2022 **(за каждый день просрочки снимается 1 балл)**\n",
        "\n",
        "Жесткий дедлайн: 23:59MSK 10.03.2022\n",
        "\n",
        "### Оценивание и штрафы\n",
        "Каждая из задач имеет определенную «стоимость» (указана в скобках около задачи). Максимальная оценка за работу — **10 баллов + 4.3 бонусов.**\n",
        "\n",
        "Сдавать задание после указанного жёсткого срока сдачи нельзя. При выставлении неполного балла за задание в связи с наличием ошибок на усмотрение проверяющего предусмотрена возможность исправить работу на указанных в ответном письме условиях.\n",
        "\n",
        "Задание выполняется самостоятельно. «Похожие» решения считаются плагиатом и все задействованные студенты (в том числе те, у кого списали) не могут получить за него больше 0 баллов (подробнее о плагиате см. на странице курса). Если вы нашли решение какого-то из заданий (или его часть) в открытом источнике, необходимо указать ссылку на этот источник в отдельном блоке в конце вашей работы (скорее всего вы будете не единственным, кто это нашел, поэтому чтобы исключить подозрение в плагиате, необходима ссылка на источник).\n",
        "\n",
        "Неэффективная реализация кода может негативно отразиться на оценке.\n",
        "\n",
        "### Формат сдачи\n",
        "Задания сдаются через систему anytask. Посылка должна содержать:\n",
        "   * Ноутбук homework-practice-01-random-features-Username.ipynb\n",
        "\n",
        "Username — ваша фамилия и имя на латинице именно в таком порядке\n",
        "\n",
        "### А также..\n",
        "\n",
        "* Для удобства поиска вопросов, на которые от вас просят ответа, мы пометили их знаком **(?)**\n",
        "* Знак **(!)** означает, что выполнение замечания необходимо для **возможности получения полного балла**\n",
        "* Даем до +0.3 баллов за выдающиеся успехи по субъективному мнению проверяющих. Этот **бонус** не апеллируется"
      ]
    },
    {
      "cell_type": "markdown",
      "metadata": {
        "id": "Q4zyS-t10bEr"
      },
      "source": [
        "<p style=\"color:#de3815;font-size:25px;\">\n",
        "Напоминание об оформлении и выполнении ноутбука\n",
        "</p>"
      ]
    },
    {
      "cell_type": "markdown",
      "metadata": {
        "id": "qGmhLBgm0bEu"
      },
      "source": [
        "* Все строчки должны быть выполнены. Нужно, чтобы output команды можно было увидеть, не запуская ячейки (кроме редких случаев, когда необходимо намеренно скрыть ненужный output, про такие случаи желательно писать пояснения в тексте). **В противном случае -1 балл**\n",
        "* При оформлении ДЗ нужно пользоваться данным файлом в качестве шаблона. Не нужно удалять и видоизменять написанный код и текст, если явно не указана такая возможность. **В противном случае -1 балл**\n",
        "* В anytask обязательно нужно прикреплять отдельно файл с расширением ipynb (не в архиве, а именно отдельно). Если необходимо отправить еще какие-то файлы, то вынесите их в отдельный архив (если файлов много) и пришлите. **В противном случае -0.5 балла**\n",
        "---\n",
        "* Пишите, пожалуйста, выводы и ответы на вопросы в текстовых ячейках/при помощи print в коде. При их отсутствии мы не можем понять, сделали ли вы задание и понимаете, что происходит, и **поэтому будем снижать баллы**\n",
        "* Если алгоритм не сказано реализовывать явно, его всегда можно импортировать из библиотеки.\n",
        "---\n",
        "* Про графики. _Штрафы будут применяться к каждому результату команды отображения графика (plt.show() и др. аналогичные). Исключением являются графики, генерируемые функциями каких-либо сторонних библиотек, если их нельзя кастомизировать_\n",
        "\n",
        "    * должно быть название (plt.title) графика; **В противном случае &ndash; -0.05 балла**\n",
        "    * на графиках должны быть подписаны оси (plt.xlabel, plt.ylabel); **В противном случае &ndash; -0.025 балла за каждую ось**\n",
        "    * должны быть подписаны единицы измерения (если это возможно); **В противном случае &ndash; -0.025 балла за каждую ось**\n",
        "    * все названия должны быть понятны любому человеку, знакомому с терминологией, без заглядывания в код; **В противном случае &ndash; -0.05 балла**\n",
        "    * подписи тиков на осях не должны сливаться как на одной оси, так и между ними; **В противном случае &ndash; -0.025 балла за каждую ось**\n",
        "    * если изображено несколько сущностей на одном холсте (например несколько функций), то необходима поясняющая легенда (plt.legend); **В противном случае &ndash; -0.05 балла**\n",
        "    * все линии на графиках должны быть чётко видны (нет похожих цветов или цветов, сливающихся с фоном); **В противном случае &ndash; -0.05 балла**\n",
        "    * если отображена величина, имеющая очевидный диапазон значений (например, проценты могут быть от 0 до 100), то желательно масштабировать ось на весь диапазон значений (исключением является случай, когда вам необходимо показать малое отличие, которое незаметно в таких масштабах);\n",
        "    * графики должны быть не супер-микро и не супер-макро по размерам, так, чтобы можно было увидеть все, что нужно.\n",
        "    * при необходимости улучшения наглядности графиков, можно пользоваться логарифмической шкалой по осям x/y.\n",
        "    "
      ]
    },
    {
      "cell_type": "markdown",
      "metadata": {
        "id": "vY8vT0W_K-hR"
      },
      "source": [
        "### О задании\n",
        "\n",
        "На занятиях мы подробно обсуждали метод опорных векторов (SVM). В базовой версии в нём нет чего-то особенного — мы всего лишь используем специальную функцию потерь, которая не требует устремлять отступы к бесконечности; ей достаточно, чтобы отступы были не меньше +1. Затем мы узнали, что SVM можно переписать в двойственном виде, который, позволяет заменить скалярные произведения объектов на ядра. Это будет соответствовать построению модели в новом пространстве более высокой размерности, координаты которого представляют собой нелинейные модификации исходных признаков.\n",
        "\n",
        "Ядровой SVM, к сожалению, довольно затратен по памяти (нужно хранить матрицу Грама размера $d \\times d$) и по времени (нужно решать задачу условной оптимизации с квадратичной функцией, а это не очень быстро). Мы обсуждали, что есть способы посчитать новые признаки $\\tilde \\varphi(x)$ на основе исходных так, что скалярные произведения этих новых $\\langle \\tilde \\varphi(x), \\tilde \\varphi(z) \\rangle$ приближают ядро $K(x, z)$.\n",
        "\n",
        "Мы будем исследовать аппроксимации методом **Random Fourier Features (RFF, также в литературе встречается название Random Kitchen Sinks)** для гауссовых ядер. Будем использовать формулы, которые немного отличаются от того, что было на лекциях (мы добавим сдвиги внутрь тригонометрических функций и будем использовать только косинусы, потому что с нужным сдвигом косинус превратится в синус):\n",
        "$$\\tilde \\varphi(x) = (\n",
        "\\cos (w_1^T x + b_1),\n",
        "\\dots,\n",
        "\\cos (w_n^T x + b_n)\n",
        "),$$\n",
        "где $w_j \\sim \\mathcal{N}(0, 1/\\sigma^2)$, $b_j \\sim U[-\\pi, \\pi]$, где\n",
        "\n",
        "$1/\\sigma^2$ --- **дисперсия распределения.**\n",
        "\n",
        "На новых признаках $\\tilde \\varphi(x)$ мы будем строить любую линейную модель.\n",
        "\n",
        "Можно считать, что это некоторая новая парадигма построения сложных моделей. Можно направленно искать сложные нелинейные закономерности в данных с помощью градиентного бустинга или нейронных сетей, а можно просто нагенерировать большое количество случайных нелинейных признаков и надеяться, что быстрая и простая модель (то есть линейная) сможет показать на них хорошее качество. В этом задании мы изучим, насколько работоспособна такая идея.\n",
        "\n",
        "### Алгоритм\n",
        "\n",
        "Вам потребуется реализовать следующий алгоритм:\n",
        "1. Понизить размерность выборки до new_dim с помощью метода главных компонент.\n",
        "\n",
        "2. Для полученной выборки оценить гиперпараметр $\\sigma^2$ с помощью эвристики (рекомендуем считать медиану не по всем парам объектов, а по случайному подмножеству из где-то миллиона пар объектов): $$\\sigma^2 = \\text{median}_{i, j = 1, \\dots, \\ell, i \\neq j} \\left\\{\\sum_{k = 1}^{d} (x_{ik} - x_{jk})^2 \\right\\}$$\n",
        "**Замечание:** обратите внимание на  $i \\neq j$, без этого оценка медианы может быть смещена, а также без этого будут сниматься баллы.\n",
        "\n",
        "3. Сгенерировать n_features наборов весов $w_j$ и сдвигов $b_j$.\n",
        "\n",
        "4. Сформировать n_features новых признаков по формулам, приведённым выше.\n",
        "\n",
        "5. Обучить линейную модель (логистическую регрессию или SVM) на новых признаках.\n",
        "\n",
        "6. Повторить преобразования (PCA, формирование новых признаков) к тестовой выборке и применить модель."
      ]
    },
    {
      "cell_type": "code",
      "execution_count": 10,
      "metadata": {
        "id": "Y8ZsEV8g0bE1"
      },
      "outputs": [],
      "source": [
        "### Для игнорирования предупреждений \n",
        "import warnings\n",
        "warnings.filterwarnings('ignore')"
      ]
    },
    {
      "cell_type": "markdown",
      "metadata": {
        "id": "Mudq3Dbe0bE3"
      },
      "source": [
        "**Напоминание:**\n",
        "    \n",
        "* Все ваши графики должны быть **\"красивыми\"** --- подробнее о том, как их оформлять, можно найти в первом практическом задании. При несоответствии какиму-то из критериев вам могут снять баллы.\n",
        "* Пишите в текстовых ячейках/print в коде ответы на **все вопросы из заданий/просьбы сделать выводы** --- при их отсутствии мы не можем понять, сделали ли вы задание и понимаете, что происходит, и поэтому будем снижать баллы"
      ]
    },
    {
      "cell_type": "markdown",
      "metadata": {
        "id": "N_sGunb7K-hS"
      },
      "source": [
        "Тестировать алгоритм мы будем на данных Fashion MNIST. Ниже код для их загрузки и подготовки."
      ]
    },
    {
      "cell_type": "code",
      "execution_count": 11,
      "metadata": {
        "ExecuteTime": {
          "end_time": "2021-03-05T17:27:31.242377Z",
          "start_time": "2021-03-05T17:27:30.500833Z"
        },
        "id": "YyG6dBfjK-hS"
      },
      "outputs": [],
      "source": [
        "import keras\n",
        "from keras.datasets import fashion_mnist\n",
        "(x_train_pics, y_train), (x_test_pics, y_test) = fashion_mnist.load_data()\n",
        "x_train = x_train_pics.reshape(x_train_pics.shape[0], -1)\n",
        "x_test = x_test_pics.reshape(x_test_pics.shape[0], -1)"
      ]
    },
    {
      "cell_type": "markdown",
      "metadata": {
        "id": "Bzo9m0540bE8"
      },
      "source": [
        "**ВАЖНОЕ ЗАМЕЧАНИЕ:**\n",
        "\n",
        "Датасет по умолчанию хранится в типе 'uint8', вследствие чего при ручном подсчете дисперсии переменные переполняются и вы получаете неадекватные результаты. Бороться с этим можно преобразованием исходных данных к типу 'float'. Еще один хороший вариант &ndash; использовать специализированные функции из библиотек numpy / scipy и, в частности, **scipy.spatial.distance_matrix**.\n",
        "\n",
        "Ниже приводим подтверждающий пример."
      ]
    },
    {
      "cell_type": "code",
      "execution_count": 12,
      "metadata": {
        "ExecuteTime": {
          "end_time": "2021-03-05T17:40:50.990485Z",
          "start_time": "2021-03-05T17:40:50.949509Z"
        },
        "colab": {
          "base_uri": "https://localhost:8080/"
        },
        "id": "2VezKeKY0bE9",
        "outputId": "7f69b937-a219-47eb-99d0-51f50bed0f39"
      },
      "outputs": [
        {
          "output_type": "stream",
          "name": "stdout",
          "text": [
            "8458707.0\n",
            "54143.0\n"
          ]
        }
      ],
      "source": [
        "import numpy as np\n",
        "\n",
        "indices = np.random.choice(x_train.shape[0], size=2000)\n",
        "print(np.median(np.sum((x_train[indices[:1000]].astype(float) - x_train[indices[1000:]]).astype(float) ** 2, axis=1)))\n",
        "\n",
        "print(np.median(np.sum((x_train[indices[:1000]] - x_train[indices[1000:]]) ** 2, axis=1)))"
      ]
    },
    {
      "cell_type": "markdown",
      "metadata": {
        "id": "rJNN55F7K-hT"
      },
      "source": [
        "__Задание 1. (5 баллов)__\n",
        "\n",
        "**А) (4 балла)** Реализуйте алгоритм, описанный выше. Можете воспользоваться шаблоном класса ниже или написать свой интерфейс.\n",
        "\n",
        "Ваша реализация должна поддерживать следующие опции:\n",
        "1. Возможность задавать значения параметров new_dim (по умолчанию 50) и n_features (по умолчанию 1000).\n",
        "2. Возможность включать или выключать предварительное понижение размерности с помощью метода главных компонент.\n",
        "3. Возможность выбирать тип линейной модели (логистическая регрессия или SVM с линейным ядром).\n",
        "\n",
        "\n",
        "**Важно (!)**\n",
        "* Так как мы работаем с линейными моделями, вам необходимо делать нормализацию данных.\n",
        "* Оценка гиперпраметра распределения и построение нового датасета должны быть без питоновских циклов (можно все запрограммировать векторно, используя numpy)\n",
        "\n",
        "**Б) (1 балл)** Протестируйте на данных Fashion MNIST, сформированных кодом выше. Если на тесте у вас получилась доля верных ответов **не ниже 0.84 с параметрами по умолчанию**, то вы всё сделали правильно.\n",
        "\n",
        "**Подсказка**\n",
        "* Использование метода без PCA и без нормализации признаков перед генерацией весов может дать неожиданные результаты. Сами подумайте, почему так может происходить :)"
      ]
    },
    {
      "cell_type": "code",
      "execution_count": 13,
      "metadata": {
        "id": "jP8yepx8K-hT"
      },
      "outputs": [],
      "source": [
        "from sklearn.base import BaseEstimator, TransformerMixin\n",
        "from sklearn.decomposition import PCA\n",
        "from sklearn.linear_model import LogisticRegression\n",
        "from sklearn.svm import LinearSVC\n",
        "from sklearn.preprocessing import Normalizer, StandardScaler, MinMaxScaler\n",
        "from scipy.spatial import distance_matrix\n",
        "from scipy.spatial.distance import pdist\n",
        "from sklearn.preprocessing import FunctionTransformer\n",
        "from sklearn.pipeline import make_pipeline\n",
        "import time\n",
        "\n",
        "class RFFPipeline(BaseEstimator, TransformerMixin):\n",
        "    def __init__(self, n_features=1000, new_dim=50, use_PCA=True, classifier='logreg', **model_args):\n",
        "        \"\"\"        \n",
        "        Implements pipeline, which consists of PCA decomposition,\n",
        "        Random Fourier Features approximation and linear classification model.\n",
        "        \n",
        "        n_features, int: amount of synthetic random features generated with RFF approximation.\n",
        "\n",
        "        new_dim, int: PCA output size.\n",
        "        \n",
        "        use_PCA, bool: whether to include PCA preprocessing.\n",
        "        \n",
        "        classifier, string: either 'svm' or 'logreg', a linear classification model to use on top of pipeline.\n",
        "\n",
        "        model_args, dict: keyword arguments for classifier\n",
        "        \n",
        "        Feel free to edit this template for your preferences.    \n",
        "        \"\"\"\n",
        "        self.n_features = n_features\n",
        "        self.use_PCA = use_PCA\n",
        "        self.new_dim = new_dim\n",
        "        self.classifier = classifier\n",
        "        if classifier == 'logreg':\n",
        "            self.clf = LogisticRegression(**model_args)\n",
        "        elif classifier == 'svm':\n",
        "            self.clf = LinearSVC(**model_args)\n",
        "        self.estimators= [StandardScaler()]\n",
        "        if use_PCA is True:\n",
        "            self.estimators.append(PCA(n_components=self.new_dim))\n",
        "        self.pipeline = make_pipeline(*self.estimators)\n",
        "\n",
        "    def fit(self, X, y):\n",
        "        \"\"\"\n",
        "        Fit all parts of algorithm (PCA, RFF, Classification) to training set.\n",
        "        \"\"\"\n",
        "        # Your code here: (￣▽￣)/♫•*¨*•.¸¸♪\n",
        "        start = time.time()\n",
        "        X_transformed = self.pipeline.fit_transform(X)\n",
        "        self.preprocessing_time = time.time() - start\n",
        "        start = time.time()\n",
        "        subset_dim = min(X_transformed.shape[0], 1000)\n",
        "        idx = np.random.choice(X_transformed.shape[0], subset_dim, replace=False)\n",
        "        var = 1 / np.median(distance_matrix(X_transformed[idx], X_transformed[idx]))\n",
        "        self.weights = np.random.normal(0, var, (X_transformed.shape[1], self.n_features))\n",
        "        self.biases = np.random.uniform(-np.pi, np.pi, self.n_features)\n",
        "\n",
        "        RFF_transformer = FunctionTransformer(lambda X: np.cos(np.dot(X, self.weights) + self.biases))\n",
        "        X_new = RFF_transformer.transform(X_transformed)\n",
        "        self.clf.fit(X_new, y)\n",
        "        self.fitting_time = time.time() - start\n",
        "        self.estimators.append(RFF_transformer)\n",
        "        self.estimators.append(self.clf)\n",
        "        self.pipeline = make_pipeline(*self.estimators)\n",
        "        return self\n",
        "\n",
        "    def predict_proba(self, X):\n",
        "        \"\"\"\n",
        "        Apply pipeline to obtain scores for input data.\n",
        "        \"\"\"\n",
        "        # Your code here: (￣▽￣)/♫•*¨*•.¸¸♪\n",
        "        if self.classifier == 'logreg':\n",
        "            return self.pipeline.predict_proba(X)\n",
        "        elif self.classifier == 'svm':\n",
        "            return self.pipeline.decision_function(X)\n",
        "\n",
        "    def predict(self, X):\n",
        "        \"\"\"\n",
        "        Apply pipeline to obtain discrete predictions for input data.\n",
        "        \"\"\"\n",
        "        # Your code here: (￣▽￣)/♫•*¨*•.¸¸♪\n",
        "        return self.pipeline.predict(X)"
      ]
    },
    {
      "cell_type": "code",
      "source": [
        "pipeline = RFFPipeline()\n",
        "pipeline.fit(x_train.astype(float), y_train)\n",
        "train_accuracy = (pipeline.predict(x_train.astype(float)) == y_train).mean()\n",
        "test_accuracy = (pipeline.predict(x_test.astype(float)) == y_test).mean()\n",
        "print(f'Accuracy on train: {train_accuracy}')\n",
        "print(f'Accuracy on test: {test_accuracy}')"
      ],
      "metadata": {
        "colab": {
          "base_uri": "https://localhost:8080/"
        },
        "id": "z1R7bjbyDewt",
        "outputId": "b5c1e820-8bfe-4654-c61c-ca917f31b109"
      },
      "execution_count": null,
      "outputs": [
        {
          "output_type": "stream",
          "name": "stdout",
          "text": [
            "Accuracy on train: 0.8692166666666666\n",
            "Accuracy on test: 0.855\n"
          ]
        }
      ]
    },
    {
      "cell_type": "markdown",
      "metadata": {
        "id": "HYqQUEi-K-hU"
      },
      "source": [
        "__Задание 2. (3 балла)__\n",
        "\n",
        "_**(?)** Сравните следующие подходы: **(2.5 балла)**_\n",
        "\n",
        "**Подход со случайными признаками = использование RFFPipeline**\n",
        "\n",
        "* 1) Подход со случайными признаками c типом модели = логистическая регрессия vs обучение линейного SVM на исходных признаках.\n",
        "* 2) Подход со случайными признаками c типом модели = линейный SVM  vs обучение линейного SVM на исходных признаках.\n",
        "* 3) Подход со случайными признаками c типом модели = логистическая регрессия vs обучение ядрового SVM на исходных признаках.\n",
        "* 4) Подход со случайными признаками c типом модели = линейный SVM vs обучение ядрового SVM на исходных признаках.\n",
        "* 5) Подход со случайными признаками c типом модели = логистическая регрессия vs вариант, в котором вы понижаете размерность с помощью PCA и обучаете градиентный бустинг. Используйте одну из реализаций CatBoost/LightGBM/XGBoost\n",
        "* 6) Подход со случайными признаками c типом модели = линейный SVM vs вариант, в котором вы понижаете размерность с помощью PCA и обучаете градиентный бустинг. Используйте одну из реализаций CatBoost/LightGBM/XGBoost\n",
        " * 5, 6) **Не забудьте** в этих случаях подобрать число деревьев и длину шага -- здесь, в ноутбуке!\n",
        "\n",
        "_Сделайте выводы: **(0.5 баллов)**_\n",
        "* **(?)** Насколько идея со случайными признаками работает?\n",
        "* **(?)** Сравните как с точки зрения качества, так и с точки зрения скорости обучения и применения.\n",
        "\n",
        "**Важные замечания**\n",
        "* Подход по случайными признаками тестируйте в двух вариантах линейной модели. То есть у вас должно получиться всего 6 пар сравнений.\n",
        "* В подходе со случайными признаками в этом задании можно оставиь все параметры, кроме типа модели, по умолчанию.\n",
        "---\n",
        "* Ядровой SVM может очень долго обучаться, поэтому можно делать любые разумные вещи для ускорения: брать подмножество объектов из обучающей выборки, например.\n",
        "* Если вы решили брать подвыборку для какого-то сравнения, то следите за тем, чтобы оба метода обучались на **одинаковом датасете**. Например, сравнивать подход со случайными признаками, обучая его на всем датасете, против ядрового SVM на подвыборке -- некорректно. Тестирование так же должно происходить на одинаковом датасете.\n",
        "* **(!)** Можно в начале этой секции выделить подвыборку и использовать ее для всех экспериментов, если вам это удобно. Необходимо оставить в таком случае хотя бы 10000 объектов. **За меньшее число будут сниматься баллы**\n",
        "---\n",
        "* При сравнении по времени не забывайте смотреть, во сколько потоков реализован алгоритм. Например, сравнивать алгоритм, с параметром n_jobs=-1 (задействовать все возможные потоки) с однопоточным алгоритмом по времени будет некорректно\n",
        "* Если **неуверены**, корректны ли ваши сравнения по времени, поставьте везде n_jobs=1 \n",
        "* Замеряйте время не только обучения, но и обучения + препроцессинга, если он есть (считайте, что формирование признаков в подходе со случайными признаками входит в понятие алгоритма). Так вы сможете более точно проанализировать временные характеристики подходов. \n",
        "---\n",
        "* Переберите хотя бы 10 различных значений количества деревьев (в разумных пределах и с разумным шагом), хотя бы 5 значений параметра learning rate (по логарифмической шкале). Если не знаете, в каких пределах пребирать, то можно найти материалы по соответствующим градиентным бустингам с разбором того, как обычно параметры перебирают.\n",
        "* Перед использованием линейного подхода необходимо нормализовывать признаки (это обычная практика при применении линейных методов, как вы знаете)\n",
        "* Отображать результаты лучше всего будет в виде таблички (pandas DataFrame например), где отображены результаты как  качеств всех алгоритмов, так и времена работы. Можно использовать графическое отображение через bar_plot. Можно также текстом.\n",
        "---\n",
        "* **(!)** Здесь и далее нигде не должно быть сильных просадок по качеству. То есть, если вы получили где-то качество 0.2/0.3/0.4 итд --- это повод задуматься, что где-то у вас есть бага. Во всех экспериментах мы ожидаем качество на тесте не ниже 0.75. **За меньшее качество будут сниматься баллы**"
      ]
    },
    {
      "cell_type": "code",
      "execution_count": null,
      "metadata": {
        "id": "qN8LUlJgK-hV"
      },
      "outputs": [],
      "source": [
        "# Your code here: (￣▽￣)/♫•*¨*•.¸¸♪\n",
        "import pandas as pd\n",
        "columns = ['Linear SVM', 'RBF SVM', 'PCA, RFF and LogReg', 'PCA, RFF and Linear SVM', 'PCA and GB']\n",
        "rows = ['Train accuracy', 'Test accuracy', 'Fitting time', 'Preprocessing time', 'Full time', 'Prediction time']\n",
        "table = pd.DataFrame(index=rows, columns=columns, dtype='float')"
      ]
    },
    {
      "cell_type": "code",
      "source": [
        "normalizer = StandardScaler()\n",
        "start = time.time()\n",
        "x_train_norm = normalizer.fit_transform(x_train.astype(float))\n",
        "preprocessing_time = time.time() - start\n",
        "# Ограничим число итераций, т. к. в противном случае модель очень долго сходится (такое же ограничение у LogisticRegression по умолчанию)\n",
        "clf = LinearSVC(max_iter=100)\n",
        "start = time.time()\n",
        "clf.fit(x_train_norm, y_train)\n",
        "fitting_time = time.time() - start\n",
        "train_accuracy = (clf.predict(x_train_norm) == y_train).mean()\n",
        "start = time.time()\n",
        "x_test_norm = normalizer.fit_transform(x_test.astype(float))\n",
        "test_accuracy = (clf.predict(x_test_norm) == y_test).mean()\n",
        "predict_time = time.time() - start\n",
        "table['Linear SVM'] = [train_accuracy, test_accuracy, fitting_time, preprocessing_time, fitting_time + preprocessing_time, predict_time]"
      ],
      "metadata": {
        "id": "GJq3Vtf6p9ur"
      },
      "execution_count": null,
      "outputs": []
    },
    {
      "cell_type": "code",
      "source": [
        "from sklearn.svm import SVC\n",
        "normalizer = StandardScaler()\n",
        "start = time.time()\n",
        "x_train_norm = normalizer.fit_transform(x_train.astype(float))\n",
        "preprocessing_time = time.time() - start\n",
        "#Здесь число итераций не ограничиваем, т. к. в противном случае качество модели крайне низкое\n",
        "clf = SVC(kernel='rbf')\n",
        "start = time.time()\n",
        "clf.fit(x_train_norm, y_train)\n",
        "fitting_time = time.time() - start\n",
        "train_accuracy = (clf.predict(x_train_norm) == y_train).mean()\n",
        "start = time.time()\n",
        "x_test_norm = normalizer.fit_transform(x_test.astype(float))\n",
        "test_accuracy = (clf.predict(x_test_norm) == y_test).mean()\n",
        "predict_time = time.time() - start\n",
        "table['RBF SVM'] = [train_accuracy, test_accuracy, fitting_time, preprocessing_time, fitting_time + preprocessing_time, predict_time]"
      ],
      "metadata": {
        "id": "n2gZw-I7tb9M"
      },
      "execution_count": null,
      "outputs": []
    },
    {
      "cell_type": "code",
      "source": [
        "clf = RFFPipeline(classifier='logreg')\n",
        "clf.fit(x_train, y_train)\n",
        "train_accuracy = (clf.predict(x_train) == y_train).mean()\n",
        "start = time.time()\n",
        "test_accuracy = (clf.predict(x_test) == y_test).mean()\n",
        "predict_time = time.time() - start\n",
        "table['PCA, RFF and LogReg'] = [train_accuracy, test_accuracy, clf.fitting_time, clf.preprocessing_time, clf.fitting_time + clf.preprocessing_time, predict_time]"
      ],
      "metadata": {
        "id": "yBVvR2yuwP-p"
      },
      "execution_count": null,
      "outputs": []
    },
    {
      "cell_type": "code",
      "source": [
        "model_args = {'max_iter': 100}\n",
        "clf = RFFPipeline(classifier='svm', **model_args)\n",
        "clf.fit(x_train, y_train)\n",
        "train_accuracy = (clf.predict(x_train) == y_train).mean()\n",
        "start = time.time()\n",
        "test_accuracy = (clf.predict(x_test) == y_test).mean()\n",
        "predict_time = time.time() - start\n",
        "table['PCA, RFF and Linear SVM'] = [train_accuracy, test_accuracy, clf.fitting_time, clf.preprocessing_time, clf.fitting_time + clf.preprocessing_time, predict_time]"
      ],
      "metadata": {
        "id": "PVrub5FOIiVq"
      },
      "execution_count": null,
      "outputs": []
    },
    {
      "cell_type": "code",
      "source": [
        "x_train.shape"
      ],
      "metadata": {
        "colab": {
          "base_uri": "https://localhost:8080/"
        },
        "id": "lhxz3g67QgFS",
        "outputId": "b68c650c-a394-445d-a049-71e99c977b0c"
      },
      "execution_count": null,
      "outputs": [
        {
          "output_type": "execute_result",
          "data": {
            "text/plain": [
              "(60000, 784)"
            ]
          },
          "metadata": {},
          "execution_count": 12
        }
      ]
    },
    {
      "cell_type": "code",
      "source": [
        "from xgboost import XGBClassifier\n",
        "from sklearn.model_selection import train_test_split\n",
        "\n",
        "x_train_gb = x_train.astype(float)\n",
        "start = time.time()\n",
        "\n",
        "x_norm = StandardScaler().fit_transform(x_train_gb)\n",
        "x_transformed = PCA(n_components=50).fit_transform(x_norm)\n",
        "preprocessing_time = time.time() - start"
      ],
      "metadata": {
        "id": "Xbxgb4qsItcC"
      },
      "execution_count": null,
      "outputs": []
    },
    {
      "cell_type": "code",
      "source": [
        "from sklearn.model_selection import GridSearchCV\n",
        "\n",
        "params = {\n",
        "    'n_estimators': [5, 7, 10, 25, 50, 75, 100, 150, 200, 300],\n",
        "    'learning_rate': np.logspace(-4, 0, 5)\n",
        "}"
      ],
      "metadata": {
        "id": "AvlVVE3qQo3T"
      },
      "execution_count": null,
      "outputs": []
    },
    {
      "cell_type": "code",
      "source": [
        "clf = XGBClassifier()\n",
        "grid_search = GridSearchCV(clf, params, scoring='accuracy', cv=3, verbose=1, n_jobs=-1)\n",
        "grid_search.fit(x_transformed, y_train)\n",
        "print('XGBoost best params:')\n",
        "print(grid_search.best_params_)\n",
        "print()\n",
        "print('XGBoost best accuracy:')\n",
        "print(grid_search.best_score_)"
      ],
      "metadata": {
        "colab": {
          "base_uri": "https://localhost:8080/"
        },
        "id": "_50SpJOSc28u",
        "outputId": "0a981ba4-042e-4fcd-b84e-705267d720f3"
      },
      "execution_count": null,
      "outputs": [
        {
          "output_type": "stream",
          "name": "stdout",
          "text": [
            "Fitting 3 folds for each of 50 candidates, totalling 150 fits\n",
            "XGBoost best params:\n",
            "{'learning_rate': 1.0, 'n_estimators': 300}\n",
            "\n",
            "XGBoost best accuracy:\n",
            "0.8655166666666667\n"
          ]
        }
      ]
    },
    {
      "cell_type": "code",
      "source": [
        "clf = XGBClassifier(learning_rate=1.0, n_estimators=300, n_jobs=1)\n",
        "normalizer = StandardScaler()\n",
        "pca = PCA(n_components=50)\n",
        "x_train_gb = x_train.astype(float)\n",
        "x_norm = normalizer.fit_transform(x_train_gb)\n",
        "x_transformed = pca.fit_transform(x_norm)\n",
        "start = time.time()\n",
        "clf.fit(x_transformed, y_train)\n",
        "fitting_time = time.time() - start\n",
        "train_accuracy = (clf.predict(x_transformed) == y_train).mean()\n",
        "start = time.time()\n",
        "x_test_gb = x_test.astype(float)\n",
        "x_norm_test = normalizer.transform(x_test_gb)\n",
        "x_transformed_test = pca.transform(x_norm_test)\n",
        "test_accuracy = (clf.predict(x_transformed_test) == y_test).mean()\n",
        "predict_time = time.time() - start\n",
        "table['PCA and GB'] = [train_accuracy, test_accuracy, fitting_time, preprocessing_time, fitting_time + preprocessing_time, predict_time]"
      ],
      "metadata": {
        "id": "TFDIXFjoznOE"
      },
      "execution_count": null,
      "outputs": []
    },
    {
      "cell_type": "code",
      "source": [
        "pd.options.display.float_format = '{:,.5f}'.format\n",
        "table"
      ],
      "metadata": {
        "colab": {
          "base_uri": "https://localhost:8080/",
          "height": 238
        },
        "id": "iScAggZm_kbw",
        "outputId": "e670d831-ff2d-4b4a-ed4b-a484975709fb"
      },
      "execution_count": null,
      "outputs": [
        {
          "output_type": "execute_result",
          "data": {
            "text/html": [
              "\n",
              "  <div id=\"df-cd770c06-34f1-4c3a-84a1-5b1661c984fa\">\n",
              "    <div class=\"colab-df-container\">\n",
              "      <div>\n",
              "<style scoped>\n",
              "    .dataframe tbody tr th:only-of-type {\n",
              "        vertical-align: middle;\n",
              "    }\n",
              "\n",
              "    .dataframe tbody tr th {\n",
              "        vertical-align: top;\n",
              "    }\n",
              "\n",
              "    .dataframe thead th {\n",
              "        text-align: right;\n",
              "    }\n",
              "</style>\n",
              "<table border=\"1\" class=\"dataframe\">\n",
              "  <thead>\n",
              "    <tr style=\"text-align: right;\">\n",
              "      <th></th>\n",
              "      <th>Linear SVM</th>\n",
              "      <th>RBF SVM</th>\n",
              "      <th>PCA, RFF and LogReg</th>\n",
              "      <th>PCA, RFF and Linear SVM</th>\n",
              "      <th>PCA and GB</th>\n",
              "    </tr>\n",
              "  </thead>\n",
              "  <tbody>\n",
              "    <tr>\n",
              "      <th>Train accuracy</th>\n",
              "      <td>0.78953</td>\n",
              "      <td>0.92370</td>\n",
              "      <td>0.86998</td>\n",
              "      <td>0.86283</td>\n",
              "      <td>0.99847</td>\n",
              "    </tr>\n",
              "    <tr>\n",
              "      <th>Test accuracy</th>\n",
              "      <td>0.76130</td>\n",
              "      <td>0.88360</td>\n",
              "      <td>0.85430</td>\n",
              "      <td>0.83650</td>\n",
              "      <td>0.86050</td>\n",
              "    </tr>\n",
              "    <tr>\n",
              "      <th>Fitting time</th>\n",
              "      <td>101.88882</td>\n",
              "      <td>448.89763</td>\n",
              "      <td>59.51296</td>\n",
              "      <td>94.19574</td>\n",
              "      <td>600.33130</td>\n",
              "    </tr>\n",
              "    <tr>\n",
              "      <th>Preprocessing time</th>\n",
              "      <td>0.60746</td>\n",
              "      <td>0.59754</td>\n",
              "      <td>8.26022</td>\n",
              "      <td>7.45194</td>\n",
              "      <td>7.48023</td>\n",
              "    </tr>\n",
              "    <tr>\n",
              "      <th>Full time</th>\n",
              "      <td>102.49628</td>\n",
              "      <td>449.49517</td>\n",
              "      <td>67.77318</td>\n",
              "      <td>101.64768</td>\n",
              "      <td>607.81153</td>\n",
              "    </tr>\n",
              "    <tr>\n",
              "      <th>Prediction time</th>\n",
              "      <td>0.14509</td>\n",
              "      <td>175.61695</td>\n",
              "      <td>0.53279</td>\n",
              "      <td>0.53676</td>\n",
              "      <td>1.97288</td>\n",
              "    </tr>\n",
              "  </tbody>\n",
              "</table>\n",
              "</div>\n",
              "      <button class=\"colab-df-convert\" onclick=\"convertToInteractive('df-cd770c06-34f1-4c3a-84a1-5b1661c984fa')\"\n",
              "              title=\"Convert this dataframe to an interactive table.\"\n",
              "              style=\"display:none;\">\n",
              "        \n",
              "  <svg xmlns=\"http://www.w3.org/2000/svg\" height=\"24px\"viewBox=\"0 0 24 24\"\n",
              "       width=\"24px\">\n",
              "    <path d=\"M0 0h24v24H0V0z\" fill=\"none\"/>\n",
              "    <path d=\"M18.56 5.44l.94 2.06.94-2.06 2.06-.94-2.06-.94-.94-2.06-.94 2.06-2.06.94zm-11 1L8.5 8.5l.94-2.06 2.06-.94-2.06-.94L8.5 2.5l-.94 2.06-2.06.94zm10 10l.94 2.06.94-2.06 2.06-.94-2.06-.94-.94-2.06-.94 2.06-2.06.94z\"/><path d=\"M17.41 7.96l-1.37-1.37c-.4-.4-.92-.59-1.43-.59-.52 0-1.04.2-1.43.59L10.3 9.45l-7.72 7.72c-.78.78-.78 2.05 0 2.83L4 21.41c.39.39.9.59 1.41.59.51 0 1.02-.2 1.41-.59l7.78-7.78 2.81-2.81c.8-.78.8-2.07 0-2.86zM5.41 20L4 18.59l7.72-7.72 1.47 1.35L5.41 20z\"/>\n",
              "  </svg>\n",
              "      </button>\n",
              "      \n",
              "  <style>\n",
              "    .colab-df-container {\n",
              "      display:flex;\n",
              "      flex-wrap:wrap;\n",
              "      gap: 12px;\n",
              "    }\n",
              "\n",
              "    .colab-df-convert {\n",
              "      background-color: #E8F0FE;\n",
              "      border: none;\n",
              "      border-radius: 50%;\n",
              "      cursor: pointer;\n",
              "      display: none;\n",
              "      fill: #1967D2;\n",
              "      height: 32px;\n",
              "      padding: 0 0 0 0;\n",
              "      width: 32px;\n",
              "    }\n",
              "\n",
              "    .colab-df-convert:hover {\n",
              "      background-color: #E2EBFA;\n",
              "      box-shadow: 0px 1px 2px rgba(60, 64, 67, 0.3), 0px 1px 3px 1px rgba(60, 64, 67, 0.15);\n",
              "      fill: #174EA6;\n",
              "    }\n",
              "\n",
              "    [theme=dark] .colab-df-convert {\n",
              "      background-color: #3B4455;\n",
              "      fill: #D2E3FC;\n",
              "    }\n",
              "\n",
              "    [theme=dark] .colab-df-convert:hover {\n",
              "      background-color: #434B5C;\n",
              "      box-shadow: 0px 1px 3px 1px rgba(0, 0, 0, 0.15);\n",
              "      filter: drop-shadow(0px 1px 2px rgba(0, 0, 0, 0.3));\n",
              "      fill: #FFFFFF;\n",
              "    }\n",
              "  </style>\n",
              "\n",
              "      <script>\n",
              "        const buttonEl =\n",
              "          document.querySelector('#df-cd770c06-34f1-4c3a-84a1-5b1661c984fa button.colab-df-convert');\n",
              "        buttonEl.style.display =\n",
              "          google.colab.kernel.accessAllowed ? 'block' : 'none';\n",
              "\n",
              "        async function convertToInteractive(key) {\n",
              "          const element = document.querySelector('#df-cd770c06-34f1-4c3a-84a1-5b1661c984fa');\n",
              "          const dataTable =\n",
              "            await google.colab.kernel.invokeFunction('convertToInteractive',\n",
              "                                                     [key], {});\n",
              "          if (!dataTable) return;\n",
              "\n",
              "          const docLinkHtml = 'Like what you see? Visit the ' +\n",
              "            '<a target=\"_blank\" href=https://colab.research.google.com/notebooks/data_table.ipynb>data table notebook</a>'\n",
              "            + ' to learn more about interactive tables.';\n",
              "          element.innerHTML = '';\n",
              "          dataTable['output_type'] = 'display_data';\n",
              "          await google.colab.output.renderOutput(dataTable, element);\n",
              "          const docLink = document.createElement('div');\n",
              "          docLink.innerHTML = docLinkHtml;\n",
              "          element.appendChild(docLink);\n",
              "        }\n",
              "      </script>\n",
              "    </div>\n",
              "  </div>\n",
              "  "
            ],
            "text/plain": [
              "                    Linear SVM   RBF SVM  PCA, RFF and LogReg  \\\n",
              "Train accuracy         0.78953   0.92370              0.86998   \n",
              "Test accuracy          0.76130   0.88360              0.85430   \n",
              "Fitting time         101.88882 448.89763             59.51296   \n",
              "Preprocessing time     0.60746   0.59754              8.26022   \n",
              "Full time            102.49628 449.49517             67.77318   \n",
              "Prediction time        0.14509 175.61695              0.53279   \n",
              "\n",
              "                    PCA, RFF and Linear SVM  PCA and GB  \n",
              "Train accuracy                      0.86283     0.99847  \n",
              "Test accuracy                       0.83650     0.86050  \n",
              "Fitting time                       94.19574   600.33130  \n",
              "Preprocessing time                  7.45194     7.48023  \n",
              "Full time                         101.64768   607.81153  \n",
              "Prediction time                     0.53676     1.97288  "
            ]
          },
          "metadata": {},
          "execution_count": 15
        }
      ]
    },
    {
      "cell_type": "markdown",
      "source": [
        "На основании полученных данных проведем сравнение соответствующих методов\n",
        "\n",
        "1. **PCA, RFF and LogReg и Linear SVM**\n",
        "\n",
        "Качество на обучении и на тесте у логистической регрессии с PCA и RFF значительно лучше, чем у линейного SVM. Возможно такая большая разница в качестве возникает из-за того, что у линейного SVM число итераций было ограничено значением 100 (в противном случае, модель очень долго сходилась), хотя и у LogisticRegression по умолчанию установлено такое же ограничение. Проблема со сходимостью у линейного SVM без ограничений могла возникнуть в силу особенностей данных и того, что мы по сути использовали стандартизацию, а не нормализацию признаков, и алгоритму требовалось больше итераций, чтобы провести оптимальную разделяющую гиперплоскость. Во времени работы логистическая регрессия с PCA и RFF также выигрывает, причем среди всех моделей вообще.\n",
        "\n",
        "2. **PCA, RFF and Linear SVM и Linear SVM**\n",
        "\n",
        "Подход со случайными признаками дает лучшее качество, чем исходный линейный алгоритм, работает даже незначительно быстрее, при том же ограничении на число итераций. Вообще линейный SVM имеет наихудшее качество среди всех алгоритмов. Таким образом, для данной задачи использование нелинейных алгоритмов и переход в другое пространство признаков являются целесообразными. Также препроцессинг в алгоритме со случайными признаками дольше в силу применения метода главных компонент.\n",
        "\n",
        "3. **PCA, RFF and LogReg и RBF SVM**\n",
        "\n",
        "Ядровой SVM имеет лучшее качество на обучении и тесте, однако значительно дольше работает. Стоит отметить, что RBF SVM дает наилучшее качество вообще среди всех алгоритмов на тесте, но при этом в разы дольше обучается и выдает прогнозы в силу вычисления RBF ядра.\n",
        "\n",
        "4. **PCA, RFF and LinearSVM и RBF SVM**\n",
        "\n",
        "RBF SVM имеет лучшее качество, но большее время работы в сравнении с линейным SVM с PCA и RFF. При этом алгоритм со случайными признаками - третий после RBF SVM по длительности обучения, но предсказания строятся достаточно быстро, почти за такое же время, как и у обычного линейного SVM. \n",
        "\n",
        "5. **PCA, RFF and LogReg и PCA and GB**\n",
        "\n",
        "У градиентного бустинга качество на обучении значительно больше (почти 100%), но на тесте оно совсем незначительно выше. Таким образом, имеет место переобучение. Также бустинг очень долго обучается, дольше, чем RBF SVM, но предсказание строит за время, сравнимое с остальными моделями. Время препроцессинга у обоих алгоритмов близко. Возможно время обучения бустинга было бы меньше при использовании иных моделей, например, LightGBM.\n",
        "\n",
        "6. **PCA, RFF and Linear SVM и PCA and GB**\n",
        "\n",
        "Качество на обучении и тесте у бустинга выше, время работы значительно больше.\n",
        "\n"
      ],
      "metadata": {
        "id": "33AOb93HzS2Y"
      }
    },
    {
      "cell_type": "markdown",
      "source": [
        "Таким образом, можно сказать, что идея использования случайных признаков работает, так как позволяет получить лучшее качество в сравнении с линейным алгоритмом и градиентным бустингом. При этом она все же проигрывает в качестве лишь ядровому SVM, но при этом работает быстрее его. "
      ],
      "metadata": {
        "id": "i771DUby8xTV"
      }
    },
    {
      "cell_type": "markdown",
      "metadata": {
        "id": "e6umjhWuK-hV"
      },
      "source": [
        "__Задание 3. (2 балла)__\n",
        "\n",
        "Проведите эксперименты **(1.5 балла)** над моделью **RFFPipeline**, после которых вы сможете ответить на следующие вопросы **(?)** **(0.5 балла)**:\n",
        "1. Помогает ли предварительное понижение размерности с помощью PCA? \n",
        "2. Как зависит итоговое качество от n_features? Выходит ли оно на плато при росте n_features?\n",
        "3. Важно ли, какую модель обучать — логистическую регрессию или SVM?\n",
        "\n",
        "**Замечания (!):**\n",
        "* В п.2 необходимо перебрать хотя бы 30 значений признаков по разумной сетке, затрагивающей значения в 50 и в 3000 признаков (или максимальное из того, что позволяет ваш компьтер за разумное время). **За меньшее число признаков и меньшее максимальное значение будут сниматься баллы**\n",
        "* В п.2 используйте логистическую регрессию\n",
        "* В п.2 отобразите качества (accuracy_score) на обучении и на тесте в виде графиков на одном полотне. **За отсутствие будут сниматься баллы**\n",
        "* Везде делайте замеры по времени и результаты включайте в выводы. **За отсутствие будут сниматься баллы**"
      ]
    },
    {
      "cell_type": "markdown",
      "source": [
        "Рассмотрим влияние применения PCA на результаты работы алгоритмов с использованием RFF. Возьмем модель логистической регрессии. "
      ],
      "metadata": {
        "id": "osFg-WOTMEve"
      }
    },
    {
      "cell_type": "code",
      "execution_count": null,
      "metadata": {
        "id": "c2QIHIMbK-hW"
      },
      "outputs": [],
      "source": [
        "# Your code here: (￣▽￣)/♫•*¨*•.¸¸♪\n",
        "pca_columns = ['No PCA', 5, 10, 20, 50, 100, 200, 300, 500]\n",
        "pca_rows = ['Train accuracy', 'Test accuracy', 'Fitting time', 'Preprocessing time', 'Full time', 'Prediction time']\n",
        "pca_table = pd.DataFrame(index=pca_rows, columns=pca_columns, dtype='float')"
      ]
    },
    {
      "cell_type": "code",
      "source": [
        "for n_dim in pca_columns:\n",
        "    if n_dim == 'No PCA':\n",
        "        clf = RFFPipeline(use_PCA=False, classifier='logreg')\n",
        "    else:\n",
        "        clf = RFFPipeline(new_dim=n_dim, classifier='logreg')\n",
        "    clf.fit(x_train, y_train)\n",
        "    train_accuracy = (clf.predict(x_train) == y_train).mean()\n",
        "    start = time.time()\n",
        "    test_accuracy = (clf.predict(x_test) == y_test).mean()\n",
        "    predict_time = time.time() - start\n",
        "    pca_table[n_dim] = [train_accuracy, test_accuracy, clf.fitting_time, clf.preprocessing_time, clf.fitting_time + clf.preprocessing_time, predict_time]"
      ],
      "metadata": {
        "id": "a-AX5X4UNTp-"
      },
      "execution_count": null,
      "outputs": []
    },
    {
      "cell_type": "code",
      "source": [
        "pca_table"
      ],
      "metadata": {
        "id": "E_b2E527IU_9",
        "colab": {
          "base_uri": "https://localhost:8080/",
          "height": 238
        },
        "outputId": "e6067e10-f064-453c-9168-6872444651d2"
      },
      "execution_count": null,
      "outputs": [
        {
          "output_type": "execute_result",
          "data": {
            "text/html": [
              "\n",
              "  <div id=\"df-90b9136b-7d67-48f3-8862-8f36390f81a0\">\n",
              "    <div class=\"colab-df-container\">\n",
              "      <div>\n",
              "<style scoped>\n",
              "    .dataframe tbody tr th:only-of-type {\n",
              "        vertical-align: middle;\n",
              "    }\n",
              "\n",
              "    .dataframe tbody tr th {\n",
              "        vertical-align: top;\n",
              "    }\n",
              "\n",
              "    .dataframe thead th {\n",
              "        text-align: right;\n",
              "    }\n",
              "</style>\n",
              "<table border=\"1\" class=\"dataframe\">\n",
              "  <thead>\n",
              "    <tr style=\"text-align: right;\">\n",
              "      <th></th>\n",
              "      <th>No PCA</th>\n",
              "      <th>5</th>\n",
              "      <th>10</th>\n",
              "      <th>20</th>\n",
              "      <th>50</th>\n",
              "      <th>100</th>\n",
              "      <th>200</th>\n",
              "      <th>300</th>\n",
              "      <th>500</th>\n",
              "    </tr>\n",
              "  </thead>\n",
              "  <tbody>\n",
              "    <tr>\n",
              "      <th>Train accuracy</th>\n",
              "      <td>0.88873</td>\n",
              "      <td>0.74073</td>\n",
              "      <td>0.80505</td>\n",
              "      <td>0.84850</td>\n",
              "      <td>0.87092</td>\n",
              "      <td>0.88087</td>\n",
              "      <td>0.88528</td>\n",
              "      <td>0.88833</td>\n",
              "      <td>0.88912</td>\n",
              "    </tr>\n",
              "    <tr>\n",
              "      <th>Test accuracy</th>\n",
              "      <td>0.85880</td>\n",
              "      <td>0.73490</td>\n",
              "      <td>0.79470</td>\n",
              "      <td>0.83810</td>\n",
              "      <td>0.85540</td>\n",
              "      <td>0.86140</td>\n",
              "      <td>0.86540</td>\n",
              "      <td>0.86470</td>\n",
              "      <td>0.86310</td>\n",
              "    </tr>\n",
              "    <tr>\n",
              "      <th>Fitting time</th>\n",
              "      <td>67.31990</td>\n",
              "      <td>59.09535</td>\n",
              "      <td>59.26381</td>\n",
              "      <td>60.92960</td>\n",
              "      <td>61.42434</td>\n",
              "      <td>60.32484</td>\n",
              "      <td>61.17228</td>\n",
              "      <td>62.34602</td>\n",
              "      <td>64.24083</td>\n",
              "    </tr>\n",
              "    <tr>\n",
              "      <th>Preprocessing time</th>\n",
              "      <td>0.59844</td>\n",
              "      <td>4.82303</td>\n",
              "      <td>4.99188</td>\n",
              "      <td>5.81625</td>\n",
              "      <td>7.36075</td>\n",
              "      <td>7.83992</td>\n",
              "      <td>12.33004</td>\n",
              "      <td>17.73256</td>\n",
              "      <td>30.24303</td>\n",
              "    </tr>\n",
              "    <tr>\n",
              "      <th>Full time</th>\n",
              "      <td>67.91834</td>\n",
              "      <td>63.91839</td>\n",
              "      <td>64.25569</td>\n",
              "      <td>66.74585</td>\n",
              "      <td>68.78509</td>\n",
              "      <td>68.16476</td>\n",
              "      <td>73.50233</td>\n",
              "      <td>80.07859</td>\n",
              "      <td>94.48386</td>\n",
              "    </tr>\n",
              "    <tr>\n",
              "      <th>Prediction time</th>\n",
              "      <td>1.01465</td>\n",
              "      <td>0.50053</td>\n",
              "      <td>0.48228</td>\n",
              "      <td>0.49658</td>\n",
              "      <td>0.54093</td>\n",
              "      <td>0.59370</td>\n",
              "      <td>0.68309</td>\n",
              "      <td>0.79308</td>\n",
              "      <td>1.00537</td>\n",
              "    </tr>\n",
              "  </tbody>\n",
              "</table>\n",
              "</div>\n",
              "      <button class=\"colab-df-convert\" onclick=\"convertToInteractive('df-90b9136b-7d67-48f3-8862-8f36390f81a0')\"\n",
              "              title=\"Convert this dataframe to an interactive table.\"\n",
              "              style=\"display:none;\">\n",
              "        \n",
              "  <svg xmlns=\"http://www.w3.org/2000/svg\" height=\"24px\"viewBox=\"0 0 24 24\"\n",
              "       width=\"24px\">\n",
              "    <path d=\"M0 0h24v24H0V0z\" fill=\"none\"/>\n",
              "    <path d=\"M18.56 5.44l.94 2.06.94-2.06 2.06-.94-2.06-.94-.94-2.06-.94 2.06-2.06.94zm-11 1L8.5 8.5l.94-2.06 2.06-.94-2.06-.94L8.5 2.5l-.94 2.06-2.06.94zm10 10l.94 2.06.94-2.06 2.06-.94-2.06-.94-.94-2.06-.94 2.06-2.06.94z\"/><path d=\"M17.41 7.96l-1.37-1.37c-.4-.4-.92-.59-1.43-.59-.52 0-1.04.2-1.43.59L10.3 9.45l-7.72 7.72c-.78.78-.78 2.05 0 2.83L4 21.41c.39.39.9.59 1.41.59.51 0 1.02-.2 1.41-.59l7.78-7.78 2.81-2.81c.8-.78.8-2.07 0-2.86zM5.41 20L4 18.59l7.72-7.72 1.47 1.35L5.41 20z\"/>\n",
              "  </svg>\n",
              "      </button>\n",
              "      \n",
              "  <style>\n",
              "    .colab-df-container {\n",
              "      display:flex;\n",
              "      flex-wrap:wrap;\n",
              "      gap: 12px;\n",
              "    }\n",
              "\n",
              "    .colab-df-convert {\n",
              "      background-color: #E8F0FE;\n",
              "      border: none;\n",
              "      border-radius: 50%;\n",
              "      cursor: pointer;\n",
              "      display: none;\n",
              "      fill: #1967D2;\n",
              "      height: 32px;\n",
              "      padding: 0 0 0 0;\n",
              "      width: 32px;\n",
              "    }\n",
              "\n",
              "    .colab-df-convert:hover {\n",
              "      background-color: #E2EBFA;\n",
              "      box-shadow: 0px 1px 2px rgba(60, 64, 67, 0.3), 0px 1px 3px 1px rgba(60, 64, 67, 0.15);\n",
              "      fill: #174EA6;\n",
              "    }\n",
              "\n",
              "    [theme=dark] .colab-df-convert {\n",
              "      background-color: #3B4455;\n",
              "      fill: #D2E3FC;\n",
              "    }\n",
              "\n",
              "    [theme=dark] .colab-df-convert:hover {\n",
              "      background-color: #434B5C;\n",
              "      box-shadow: 0px 1px 3px 1px rgba(0, 0, 0, 0.15);\n",
              "      filter: drop-shadow(0px 1px 2px rgba(0, 0, 0, 0.3));\n",
              "      fill: #FFFFFF;\n",
              "    }\n",
              "  </style>\n",
              "\n",
              "      <script>\n",
              "        const buttonEl =\n",
              "          document.querySelector('#df-90b9136b-7d67-48f3-8862-8f36390f81a0 button.colab-df-convert');\n",
              "        buttonEl.style.display =\n",
              "          google.colab.kernel.accessAllowed ? 'block' : 'none';\n",
              "\n",
              "        async function convertToInteractive(key) {\n",
              "          const element = document.querySelector('#df-90b9136b-7d67-48f3-8862-8f36390f81a0');\n",
              "          const dataTable =\n",
              "            await google.colab.kernel.invokeFunction('convertToInteractive',\n",
              "                                                     [key], {});\n",
              "          if (!dataTable) return;\n",
              "\n",
              "          const docLinkHtml = 'Like what you see? Visit the ' +\n",
              "            '<a target=\"_blank\" href=https://colab.research.google.com/notebooks/data_table.ipynb>data table notebook</a>'\n",
              "            + ' to learn more about interactive tables.';\n",
              "          element.innerHTML = '';\n",
              "          dataTable['output_type'] = 'display_data';\n",
              "          await google.colab.output.renderOutput(dataTable, element);\n",
              "          const docLink = document.createElement('div');\n",
              "          docLink.innerHTML = docLinkHtml;\n",
              "          element.appendChild(docLink);\n",
              "        }\n",
              "      </script>\n",
              "    </div>\n",
              "  </div>\n",
              "  "
            ],
            "text/plain": [
              "                     No PCA        5       10       20       50      100  \\\n",
              "Train accuracy      0.88873  0.74073  0.80505  0.84850  0.87092  0.88087   \n",
              "Test accuracy       0.85880  0.73490  0.79470  0.83810  0.85540  0.86140   \n",
              "Fitting time       67.31990 59.09535 59.26381 60.92960 61.42434 60.32484   \n",
              "Preprocessing time  0.59844  4.82303  4.99188  5.81625  7.36075  7.83992   \n",
              "Full time          67.91834 63.91839 64.25569 66.74585 68.78509 68.16476   \n",
              "Prediction time     1.01465  0.50053  0.48228  0.49658  0.54093  0.59370   \n",
              "\n",
              "                        200      300      500  \n",
              "Train accuracy      0.88528  0.88833  0.88912  \n",
              "Test accuracy       0.86540  0.86470  0.86310  \n",
              "Fitting time       61.17228 62.34602 64.24083  \n",
              "Preprocessing time 12.33004 17.73256 30.24303  \n",
              "Full time          73.50233 80.07859 94.48386  \n",
              "Prediction time     0.68309  0.79308  1.00537  "
            ]
          },
          "metadata": {},
          "execution_count": 18
        }
      ]
    },
    {
      "cell_type": "markdown",
      "source": [
        "Использование PCA позволяет повысить качество в сравнении с исходными данными при определенных значениях числа компонент. При слишком малых значениях размерности точность хуже, чем без предобработки, далее она возрастает с увеличением числа компонент до некого оптимального значения, далее точность начинает падать. В данном случае наилучшее качество было достигнуто при n_dim = 200, что составляет чуть меньше трети исходного числа признаков. С использованием PCA время предобработки данных становится больше пропорционально числу компонент разложения. При этом время обучения меньше, чем без понижения размерности, так как в противном случае долго вычисляются случайные признаки в силу большого числа исходных признаков. Таким образом, использование PCA может улучшить качество модели и сократить общее время обучения и работы при правильном подборе числа компонент разложения."
      ],
      "metadata": {
        "id": "LHP2ipwsVUuy"
      }
    },
    {
      "cell_type": "markdown",
      "source": [
        "Рассмотрим зависимость получаемого качества и времени работы от числа генерируемых признаков в RFF. В PCA в качестве оптимального числа компонент возьмем 200 в соответствии с полученными экспериментальными данными. "
      ],
      "metadata": {
        "id": "kBdg5qBOX8Ji"
      }
    },
    {
      "cell_type": "code",
      "source": [
        "n_features_set = [50] + list((np.arange(50) + 1) * 100)\n",
        "train_accuracies = []\n",
        "test_accuracies = []\n",
        "fitting_times = []\n",
        "preprocessing_times = []\n",
        "predict_times = []\n",
        "\n",
        "for n_features in n_features_set:\n",
        "    clf = RFFPipeline(new_dim=200, n_features=n_features, classifier='logreg')\n",
        "    clf.fit(x_train, y_train)\n",
        "    fitting_times.append(clf.fitting_time)\n",
        "    preprocessing_times.append(clf.preprocessing_time)\n",
        "    train_accuracies.append((clf.predict(x_train) == y_train).mean())\n",
        "    start = time.time()\n",
        "    test_accuracy = (clf.predict(x_test) == y_test).mean()\n",
        "    predict_time = time.time() - start\n",
        "    predict_times.append(predict_time)\n",
        "    test_accuracies.append(test_accuracy)"
      ],
      "metadata": {
        "id": "wtKyYhpCYizq"
      },
      "execution_count": null,
      "outputs": []
    },
    {
      "cell_type": "code",
      "source": [
        "import matplotlib.pyplot as plt\n",
        "plt.rc('font', size=18)\n",
        "plt.figure(figsize=(18, 10))\n",
        "plt.plot(n_features_set, train_accuracies, label='На обучении')\n",
        "plt.plot(n_features_set, test_accuracies, label='На тесте')\n",
        "plt.xlabel('Число признаков')\n",
        "plt.ylabel('Точность')\n",
        "plt.title('Зависимость качества от числа сгенерированных в RFF признаков')\n",
        "plt.grid(True)\n",
        "plt.legend()\n",
        "plt.show()"
      ],
      "metadata": {
        "id": "kkrPRtT5IhMV",
        "colab": {
          "base_uri": "https://localhost:8080/",
          "height": 644
        },
        "outputId": "f6d72b6f-46ad-4366-d181-037a8cd0db65"
      },
      "execution_count": null,
      "outputs": [
        {
          "output_type": "display_data",
          "data": {
            "image/png": "[encoded data removed]",
            "text/plain": [
              "<Figure size 1296x720 with 1 Axes>"
            ]
          },
          "metadata": {
            "needs_background": "light"
          }
        }
      ]
    },
    {
      "cell_type": "markdown",
      "source": [
        "В целом можно сказать, что точность увеличивается с ростом числа генерируемых признаков. При этом графики немного осциллируют из-за случайности создаваемых признаков. Сначала наблюдается значительный рост качества, после примерно 1000 признаков график выходит на асимптоту."
      ],
      "metadata": {
        "id": "Q3lGqGJ8Ax1R"
      }
    },
    {
      "cell_type": "code",
      "source": [
        "times = np.array(fitting_times) + np.array(preprocessing_times)\n",
        "plt.figure(figsize=(18, 10))\n",
        "plt.plot(n_features_set, times, label='Время обучения')\n",
        "plt.plot(n_features_set, predict_times, label='Время построения прогноза')\n",
        "plt.xlabel('Число признаков')\n",
        "plt.ylabel('Время, с')\n",
        "plt.title('Зависимость времени работы от числа сгенерированных в RFF признаков')\n",
        "plt.grid(True)\n",
        "plt.legend()\n",
        "plt.show()"
      ],
      "metadata": {
        "id": "8PujNhCzIm_l",
        "colab": {
          "base_uri": "https://localhost:8080/",
          "height": 644
        },
        "outputId": "22b5e615-c091-4e05-8106-cfdff806ca13"
      },
      "execution_count": null,
      "outputs": [
        {
          "output_type": "display_data",
          "data": {
            "image/png": "[encoded data removed]",
            "text/plain": [
              "<Figure size 1296x720 with 1 Axes>"
            ]
          },
          "metadata": {
            "needs_background": "light"
          }
        }
      ]
    },
    {
      "cell_type": "markdown",
      "source": [
        "Время обучения растет в целом линейно в зависимости от числа признаков. Осцилляции графиков могут быть связаны со случайностью генерируемых признаков. Время построения прогноза в целом остается постоянным, незначительно возрастает с ростом признаков."
      ],
      "metadata": {
        "id": "At1yJ_lvBdkZ"
      }
    },
    {
      "cell_type": "markdown",
      "source": [
        "Сравним теперь использование моделей логистической регрессии и линейного SVM в данном подходе. Число компонент в PCA возьмем равным 200 как оптимальное на основании проведенных экспериментов."
      ],
      "metadata": {
        "id": "kZNpfd8xB7V_"
      }
    },
    {
      "cell_type": "code",
      "source": [
        "model_columns = ['Logistic regression', 'Linear SVM']\n",
        "model_rows = ['Train accuracy', 'Test accuracy', 'Fitting time', 'Preprocessing time', 'Full time', 'Prediction time']\n",
        "model_table = pd.DataFrame(index=model_rows, columns=model_columns, dtype='float')"
      ],
      "metadata": {
        "id": "AOsmSdWXCIoE"
      },
      "execution_count": null,
      "outputs": []
    },
    {
      "cell_type": "code",
      "source": [
        "classifiers = ['logreg', 'svm']\n",
        "model_args = {'max_iter': 100}\n",
        "\n",
        "for classifier in classifiers:\n",
        "    if classifier == 'logreg':\n",
        "        clf = RFFPipeline(new_dim=200, classifier=classifier)\n",
        "    else:\n",
        "        clf = RFFPipeline(new_dim=200, classifier=classifier, **model_args)\n",
        "    clf.fit(x_train, y_train)\n",
        "    train_accuracy = (clf.predict(x_train) == y_train).mean()\n",
        "    start = time.time()\n",
        "    test_accuracy = (clf.predict(x_test) == y_test).mean()\n",
        "    predict_time = time.time() - start\n",
        "    if classifier == 'logreg':\n",
        "        model_table['Logistic regression'] = [train_accuracy, test_accuracy, clf.fitting_time, clf.preprocessing_time, clf.fitting_time + clf.preprocessing_time, predict_time]\n",
        "    else:\n",
        "        model_table['Linear SVM'] = [train_accuracy, test_accuracy, clf.fitting_time, clf.preprocessing_time, clf.fitting_time + clf.preprocessing_time, predict_time]"
      ],
      "metadata": {
        "id": "0yTyrxP4DEri"
      },
      "execution_count": null,
      "outputs": []
    },
    {
      "cell_type": "code",
      "source": [
        "model_table"
      ],
      "metadata": {
        "id": "vwqG9vbXIsv1",
        "colab": {
          "base_uri": "https://localhost:8080/",
          "height": 238
        },
        "outputId": "0f2e93fa-dbea-4f20-c024-b5b61dee664e"
      },
      "execution_count": null,
      "outputs": [
        {
          "output_type": "execute_result",
          "data": {
            "text/html": [
              "\n",
              "  <div id=\"df-76f76ae4-ccc8-480c-a48b-55de70a7a9fb\">\n",
              "    <div class=\"colab-df-container\">\n",
              "      <div>\n",
              "<style scoped>\n",
              "    .dataframe tbody tr th:only-of-type {\n",
              "        vertical-align: middle;\n",
              "    }\n",
              "\n",
              "    .dataframe tbody tr th {\n",
              "        vertical-align: top;\n",
              "    }\n",
              "\n",
              "    .dataframe thead th {\n",
              "        text-align: right;\n",
              "    }\n",
              "</style>\n",
              "<table border=\"1\" class=\"dataframe\">\n",
              "  <thead>\n",
              "    <tr style=\"text-align: right;\">\n",
              "      <th></th>\n",
              "      <th>Logistic regression</th>\n",
              "      <th>Linear SVM</th>\n",
              "    </tr>\n",
              "  </thead>\n",
              "  <tbody>\n",
              "    <tr>\n",
              "      <th>Train accuracy</th>\n",
              "      <td>0.887850</td>\n",
              "      <td>0.874533</td>\n",
              "    </tr>\n",
              "    <tr>\n",
              "      <th>Test accuracy</th>\n",
              "      <td>0.862100</td>\n",
              "      <td>0.841100</td>\n",
              "    </tr>\n",
              "    <tr>\n",
              "      <th>Fitting time</th>\n",
              "      <td>62.786489</td>\n",
              "      <td>92.190866</td>\n",
              "    </tr>\n",
              "    <tr>\n",
              "      <th>Preprocessing time</th>\n",
              "      <td>14.042496</td>\n",
              "      <td>12.594944</td>\n",
              "    </tr>\n",
              "    <tr>\n",
              "      <th>Full time</th>\n",
              "      <td>76.828985</td>\n",
              "      <td>104.785810</td>\n",
              "    </tr>\n",
              "    <tr>\n",
              "      <th>Prediction time</th>\n",
              "      <td>0.715698</td>\n",
              "      <td>0.725572</td>\n",
              "    </tr>\n",
              "  </tbody>\n",
              "</table>\n",
              "</div>\n",
              "      <button class=\"colab-df-convert\" onclick=\"convertToInteractive('df-76f76ae4-ccc8-480c-a48b-55de70a7a9fb')\"\n",
              "              title=\"Convert this dataframe to an interactive table.\"\n",
              "              style=\"display:none;\">\n",
              "        \n",
              "  <svg xmlns=\"http://www.w3.org/2000/svg\" height=\"24px\"viewBox=\"0 0 24 24\"\n",
              "       width=\"24px\">\n",
              "    <path d=\"M0 0h24v24H0V0z\" fill=\"none\"/>\n",
              "    <path d=\"M18.56 5.44l.94 2.06.94-2.06 2.06-.94-2.06-.94-.94-2.06-.94 2.06-2.06.94zm-11 1L8.5 8.5l.94-2.06 2.06-.94-2.06-.94L8.5 2.5l-.94 2.06-2.06.94zm10 10l.94 2.06.94-2.06 2.06-.94-2.06-.94-.94-2.06-.94 2.06-2.06.94z\"/><path d=\"M17.41 7.96l-1.37-1.37c-.4-.4-.92-.59-1.43-.59-.52 0-1.04.2-1.43.59L10.3 9.45l-7.72 7.72c-.78.78-.78 2.05 0 2.83L4 21.41c.39.39.9.59 1.41.59.51 0 1.02-.2 1.41-.59l7.78-7.78 2.81-2.81c.8-.78.8-2.07 0-2.86zM5.41 20L4 18.59l7.72-7.72 1.47 1.35L5.41 20z\"/>\n",
              "  </svg>\n",
              "      </button>\n",
              "      \n",
              "  <style>\n",
              "    .colab-df-container {\n",
              "      display:flex;\n",
              "      flex-wrap:wrap;\n",
              "      gap: 12px;\n",
              "    }\n",
              "\n",
              "    .colab-df-convert {\n",
              "      background-color: #E8F0FE;\n",
              "      border: none;\n",
              "      border-radius: 50%;\n",
              "      cursor: pointer;\n",
              "      display: none;\n",
              "      fill: #1967D2;\n",
              "      height: 32px;\n",
              "      padding: 0 0 0 0;\n",
              "      width: 32px;\n",
              "    }\n",
              "\n",
              "    .colab-df-convert:hover {\n",
              "      background-color: #E2EBFA;\n",
              "      box-shadow: 0px 1px 2px rgba(60, 64, 67, 0.3), 0px 1px 3px 1px rgba(60, 64, 67, 0.15);\n",
              "      fill: #174EA6;\n",
              "    }\n",
              "\n",
              "    [theme=dark] .colab-df-convert {\n",
              "      background-color: #3B4455;\n",
              "      fill: #D2E3FC;\n",
              "    }\n",
              "\n",
              "    [theme=dark] .colab-df-convert:hover {\n",
              "      background-color: #434B5C;\n",
              "      box-shadow: 0px 1px 3px 1px rgba(0, 0, 0, 0.15);\n",
              "      filter: drop-shadow(0px 1px 2px rgba(0, 0, 0, 0.3));\n",
              "      fill: #FFFFFF;\n",
              "    }\n",
              "  </style>\n",
              "\n",
              "      <script>\n",
              "        const buttonEl =\n",
              "          document.querySelector('#df-76f76ae4-ccc8-480c-a48b-55de70a7a9fb button.colab-df-convert');\n",
              "        buttonEl.style.display =\n",
              "          google.colab.kernel.accessAllowed ? 'block' : 'none';\n",
              "\n",
              "        async function convertToInteractive(key) {\n",
              "          const element = document.querySelector('#df-76f76ae4-ccc8-480c-a48b-55de70a7a9fb');\n",
              "          const dataTable =\n",
              "            await google.colab.kernel.invokeFunction('convertToInteractive',\n",
              "                                                     [key], {});\n",
              "          if (!dataTable) return;\n",
              "\n",
              "          const docLinkHtml = 'Like what you see? Visit the ' +\n",
              "            '<a target=\"_blank\" href=https://colab.research.google.com/notebooks/data_table.ipynb>data table notebook</a>'\n",
              "            + ' to learn more about interactive tables.';\n",
              "          element.innerHTML = '';\n",
              "          dataTable['output_type'] = 'display_data';\n",
              "          await google.colab.output.renderOutput(dataTable, element);\n",
              "          const docLink = document.createElement('div');\n",
              "          docLink.innerHTML = docLinkHtml;\n",
              "          element.appendChild(docLink);\n",
              "        }\n",
              "      </script>\n",
              "    </div>\n",
              "  </div>\n",
              "  "
            ],
            "text/plain": [
              "                    Logistic regression  Linear SVM\n",
              "Train accuracy                 0.887850    0.874533\n",
              "Test accuracy                  0.862100    0.841100\n",
              "Fitting time                  62.786489   92.190866\n",
              "Preprocessing time            14.042496   12.594944\n",
              "Full time                     76.828985  104.785810\n",
              "Prediction time                0.715698    0.725572"
            ]
          },
          "metadata": {},
          "execution_count": 21
        }
      ]
    },
    {
      "cell_type": "markdown",
      "source": [
        "При подходе со случайными признаками использование логистической регрессии дает лучшее качество на обучении и тесте, возможно, опять же, в силу ограничения числа итераций у SVM, и время обучения значительно меньше времени обучения линейного SVM. В целом показатели точности на тесте у обоих линейных моделей близки, поэтому можно обойтись логистической регрессией. "
      ],
      "metadata": {
        "id": "0M4AYnEldEk_"
      }
    },
    {
      "cell_type": "markdown",
      "metadata": {
        "id": "CJqXVuasK-hW"
      },
      "source": [
        "### Бонус"
      ]
    },
    {
      "cell_type": "markdown",
      "metadata": {
        "id": "QVDWHCdrK-hX"
      },
      "source": [
        "__Задание 4. (Максимум 2 балла)__\n",
        "\n",
        "Многие алгоритмы машинного обучения работают лучше, если признаки данных некоррелированы. Оказывается, что для RFF существует модификация, позволяющая получать ортогональные случайные признаки (Orthogonal Random Features, ORF). Об этом методе можно прочитать в [статье](https://arxiv.org/abs/1610.09072#:~:text=We%20call%20this%20technique%20Orthogonal,to%20speed%20up%20the%20computation). Реализуйте класс для вычисления ORF по аналогии с основным заданием. Обратите внимание, что ваш класс должен уметь работать со случаем n_features > new_dim (в статье есть замечание на этот счет). Проведите эксперименты, сравнивающие RFF и ORF, **(?)** сделайте выводы.\n",
        "\n",
        "**Замечание:**\n",
        "* Сравнения делайте как по времени, так и по качеству.\n",
        "* Можно сравнивать качество двух методов на разном числе признаков, в таком случае очень полезным будет график зависимости качества от числа признаков"
      ]
    },
    {
      "cell_type": "code",
      "execution_count": 17,
      "metadata": {
        "id": "HSxvGI9iK-hX"
      },
      "outputs": [],
      "source": [
        "# Your code here: (￣▽￣)/♫•*¨*•.¸¸♪\n",
        "from scipy.linalg import qr\n",
        "\n",
        "class ORFPipeline(BaseEstimator, TransformerMixin):\n",
        "    def __init__(self, n_features=1000, new_dim=50, use_PCA=True, classifier='logreg', **model_args):\n",
        "        \"\"\"        \n",
        "        Implements pipeline, which consists of PCA decomposition,\n",
        "        Random Fourier Features approximation and linear classification model.\n",
        "        \n",
        "        n_features, int: amount of synthetic random features generated with RFF approximation.\n",
        "\n",
        "        new_dim, int: PCA output size.\n",
        "        \n",
        "        use_PCA, bool: whether to include PCA preprocessing.\n",
        "        \n",
        "        classifier, string: either 'svm' or 'logreg', a linear classification model to use on top of pipeline.\n",
        "\n",
        "        model_args, dict: keyword arguments for classifier\n",
        "        \n",
        "        Feel free to edit this template for your preferences.    \n",
        "        \"\"\"\n",
        "        self.n_features = n_features\n",
        "        self.use_PCA = use_PCA\n",
        "        self.new_dim = new_dim\n",
        "        self.classifier = classifier\n",
        "        if classifier == 'logreg':\n",
        "            self.clf = LogisticRegression(**model_args)\n",
        "        elif classifier == 'svm':\n",
        "            self.clf = LinearSVC(**model_args)\n",
        "        self.estimators= [StandardScaler()]\n",
        "        if use_PCA is True:\n",
        "            self.estimators.append(PCA(n_components=self.new_dim))\n",
        "        self.pipeline = make_pipeline(*self.estimators)\n",
        "\n",
        "    def fit(self, X, y):\n",
        "        \"\"\"\n",
        "        Fit all parts of algorithm (PCA, RFF, Classification) to training set.\n",
        "        \"\"\"\n",
        "        # Your code here: (￣▽￣)/♫•*¨*•.¸¸♪\n",
        "        start = time.time()\n",
        "        X_transformed = self.pipeline.fit_transform(X)\n",
        "        self.preprocessing_time = time.time() - start\n",
        "        start = time.time()\n",
        "        subset_dim = min(X_transformed.shape[0], 1000)\n",
        "        idx = np.random.choice(X_transformed.shape[0], subset_dim, replace=False)\n",
        "        var = 1 / np.median(distance_matrix(X_transformed[idx], X_transformed[idx]))\n",
        "        gen_features_num = 0\n",
        "        self.weights = None\n",
        "        while gen_features_num < self.n_features:\n",
        "            G = np.random.randn(X_transformed.shape[1], X_transformed.shape[1])\n",
        "            Q, R = qr(G)\n",
        "            init = np.random.chisquare(X_transformed.shape[1], size=X_transformed.shape[1])\n",
        "            init = init.reshape(init.shape[0], 1)\n",
        "            S = np.diagflat(init)\n",
        "            W_ORF = var * np.dot(S, Q)\n",
        "            if self.weights is None:\n",
        "                self.weights = W_ORF\n",
        "            else:\n",
        "                self.weights = np.concatenate((self.weights, W_ORF), axis=1)\n",
        "            gen_features_num += X_transformed.shape[1]\n",
        "        self.weights = self.weights[:, : self.n_features]\n",
        "\n",
        "        self.biases = np.random.uniform(-np.pi, np.pi, self.n_features)\n",
        "\n",
        "        ORF_transformer = FunctionTransformer(lambda X: np.cos(np.dot(X, self.weights) + self.biases))\n",
        "        X_new = ORF_transformer.transform(X_transformed)\n",
        "        self.clf.fit(X_new, y)\n",
        "        self.fitting_time = time.time() - start\n",
        "        self.estimators.append(ORF_transformer)\n",
        "        self.estimators.append(self.clf)\n",
        "        self.pipeline = make_pipeline(*self.estimators)\n",
        "        return self\n",
        "\n",
        "    def predict_proba(self, X):\n",
        "        \"\"\"\n",
        "        Apply pipeline to obtain scores for input data.\n",
        "        \"\"\"\n",
        "        # Your code here: (￣▽￣)/♫•*¨*•.¸¸♪\n",
        "        if self.classifier == 'logreg':\n",
        "            return self.pipeline.predict_proba(X)\n",
        "        elif self.classifier == 'svm':\n",
        "            return self.pipeline.decision_function(X)\n",
        "\n",
        "    def predict(self, X):\n",
        "        \"\"\"\n",
        "        Apply pipeline to obtain discrete predictions for input data.\n",
        "        \"\"\"\n",
        "        # Your code here: (￣▽￣)/♫•*¨*•.¸¸♪\n",
        "        return self.pipeline.predict(X)"
      ]
    },
    {
      "cell_type": "markdown",
      "source": [
        "Проведем сравнение с RFF при различном числе генерируемых признаков. В качестве линейной модели возьмем логистическую регресиию."
      ],
      "metadata": {
        "id": "UM5lGYdV5Nk-"
      }
    },
    {
      "cell_type": "code",
      "source": [
        "n_features_set = [50] + list((np.arange(50) + 1) * 100)\n",
        "train_accuracies_RFF = []\n",
        "test_accuracies_RFF = []\n",
        "fitting_times_RFF = []\n",
        "preprocessing_times_RFF = []\n",
        "predict_times_RFF = []\n",
        "\n",
        "for n_features in n_features_set:\n",
        "    clf = RFFPipeline(new_dim=200, n_features=n_features, classifier='logreg')\n",
        "    clf.fit(x_train, y_train)\n",
        "    fitting_times_RFF.append(clf.fitting_time)\n",
        "    preprocessing_times_RFF.append(clf.preprocessing_time)\n",
        "    train_accuracies_RFF.append((clf.predict(x_train) == y_train).mean())\n",
        "    start = time.time()\n",
        "    test_accuracy_RFF = (clf.predict(x_test) == y_test).mean()\n",
        "    predict_time_RFF = time.time() - start\n",
        "    predict_times_RFF.append(predict_time_RFF)\n",
        "    test_accuracies_RFF.append(test_accuracy_RFF)"
      ],
      "metadata": {
        "id": "7P03z2nP5T7a"
      },
      "execution_count": 32,
      "outputs": []
    },
    {
      "cell_type": "code",
      "source": [
        "train_accuracies_ORF = []\n",
        "test_accuracies_ORF = []\n",
        "fitting_times_ORF = []\n",
        "preprocessing_times_ORF = []\n",
        "predict_times_ORF = []\n",
        "\n",
        "for n_features in n_features_set:\n",
        "    clf = ORFPipeline(new_dim=200, n_features=n_features, classifier='logreg')\n",
        "    clf.fit(x_train, y_train)\n",
        "    fitting_times_ORF.append(clf.fitting_time)\n",
        "    preprocessing_times_ORF.append(clf.preprocessing_time)\n",
        "    train_accuracies_ORF.append((clf.predict(x_train) == y_train).mean())\n",
        "    start = time.time()\n",
        "    test_accuracy_ORF = (clf.predict(x_test) == y_test).mean()\n",
        "    predict_time_ORF = time.time() - start\n",
        "    predict_times_ORF.append(predict_time_ORF)\n",
        "    test_accuracies_ORF.append(test_accuracy_ORF)"
      ],
      "metadata": {
        "id": "I-l7y7Pr6VCD"
      },
      "execution_count": 33,
      "outputs": []
    },
    {
      "cell_type": "markdown",
      "source": [
        "Сравним получаемое качество."
      ],
      "metadata": {
        "id": "rZBvBw7d6udn"
      }
    },
    {
      "cell_type": "code",
      "source": [
        "import matplotlib.pyplot as plt\n",
        "plt.rc('font', size=18)\n",
        "plt.figure(figsize=(18, 10))\n",
        "plt.plot(n_features_set, train_accuracies_RFF, label='На обучении, RFF')\n",
        "plt.plot(n_features_set, test_accuracies_RFF, label='На тесте, RFF')\n",
        "plt.plot(n_features_set, train_accuracies_ORF, label='На обучении, ORF')\n",
        "plt.plot(n_features_set, test_accuracies_ORF, label='На тесте, ORF')\n",
        "plt.xlabel('Число признаков')\n",
        "plt.ylabel('Точность')\n",
        "plt.title('Зависимость качества от числа сгенерированных в RFF и ORF признаков')\n",
        "plt.grid(True)\n",
        "plt.legend()\n",
        "plt.show()"
      ],
      "metadata": {
        "id": "ItEcbEBL6n5_",
        "colab": {
          "base_uri": "https://localhost:8080/",
          "height": 644
        },
        "outputId": "03368094-0a02-4a23-942e-4dccb7034081"
      },
      "execution_count": 34,
      "outputs": [
        {
          "output_type": "display_data",
          "data": {
            "image/png": "[encoded data removed]",
            "text/plain": [
              "<Figure size 1296x720 with 1 Axes>"
            ]
          },
          "metadata": {
            "needs_background": "light"
          }
        }
      ]
    },
    {
      "cell_type": "markdown",
      "source": [
        "Качество для ORF крайне низкое в сравнении с RFF. Сложно сказать, с чем это может быть связано, возможно с недочетами в реализации или с использование функции косинуса. Также возможно использование SVM в качестве базовой модели дало бы лучшие результаты."
      ],
      "metadata": {
        "id": "STqwm4vDEm-j"
      }
    },
    {
      "cell_type": "markdown",
      "source": [
        "Сравним время обучения и предсказания."
      ],
      "metadata": {
        "id": "3P9lSYAW7LPy"
      }
    },
    {
      "cell_type": "code",
      "source": [
        "times_RFF = np.array(fitting_times_RFF) + np.array(preprocessing_times_RFF)\n",
        "plt.figure(figsize=(18, 10))\n",
        "plt.plot(n_features_set, times_RFF, label='Время обучения, RFF')\n",
        "plt.plot(n_features_set, predict_times_RFF, label='Время построения прогноза, RFF')\n",
        "times_ORF = np.array(fitting_times_ORF) + np.array(preprocessing_times_ORF)\n",
        "plt.plot(n_features_set, times_ORF, label='Время обучения, ORF')\n",
        "plt.plot(n_features_set, predict_times_ORF, label='Время построения прогноза, ORF')\n",
        "plt.xlabel('Число признаков')\n",
        "plt.ylabel('Время, с')\n",
        "plt.title('Зависимость времени работы от числа сгенерированных в RFF и ORF признаков')\n",
        "plt.grid(True)\n",
        "plt.legend()\n",
        "plt.show()"
      ],
      "metadata": {
        "id": "i25j1ure7KJa",
        "colab": {
          "base_uri": "https://localhost:8080/",
          "height": 644
        },
        "outputId": "cd5bc606-870b-4137-eeee-44548c2daaea"
      },
      "execution_count": 35,
      "outputs": [
        {
          "output_type": "display_data",
          "data": {
            "image/png": "[encoded data removed]",
            "text/plain": [
              "<Figure size 1296x720 with 1 Axes>"
            ]
          },
          "metadata": {
            "needs_background": "light"
          }
        }
      ]
    },
    {
      "cell_type": "markdown",
      "source": [
        "Время обучения ORF значительно меньше, чем у RFF, время построения прогноза почти одинаково."
      ],
      "metadata": {
        "id": "RQiXtLWME_UL"
      }
    },
    {
      "cell_type": "markdown",
      "metadata": {
        "id": "4pc7-1jmK-hY"
      },
      "source": [
        "__Задание 5. (Максимум 2 балла)__\n",
        "\n",
        "Поэкспериментируйте с функциями для вычисления новых случайных признаков. Не обязательно использовать косинус от скалярного произведения — можно брать знак от него, хэш и т.д. Придумайте побольше вариантов для генерации признаков и проверьте, не получается ли с их помощью добиваться более высокого качества. Также можете попробовать другой классификатор поверх случайных признаков, **(?)** сравните результаты."
      ]
    },
    {
      "cell_type": "markdown",
      "metadata": {
        "id": "7OSsUQfY0bFQ"
      },
      "source": [
        "**Замечание:**\n",
        "* Сравнения делайте как по времени, так и по качеству.\n",
        "* В качестве основной модели можете брать как RFF, так и ORF. А можете и то и другое :)"
      ]
    },
    {
      "cell_type": "markdown",
      "source": [
        "Рассмотрим модель RFF, добавим в класс RFFPipeline возможность указания функции вычисления новых признаков."
      ],
      "metadata": {
        "id": "Azo6f9vWNq6y"
      }
    },
    {
      "cell_type": "code",
      "execution_count": 36,
      "metadata": {
        "id": "dWj-O2vjK-hY"
      },
      "outputs": [],
      "source": [
        "# Your code here: (￣▽￣)/♫•*¨*•.¸¸♪\n",
        "class RFFPipelineFunc(BaseEstimator, TransformerMixin):\n",
        "    def __init__(self, function=np.cos, n_features=1000, new_dim=50, use_PCA=True, classifier='logreg', **model_args):\n",
        "        \"\"\"        \n",
        "        Implements pipeline, which consists of PCA decomposition,\n",
        "        Random Fourier Features approximation and linear classification model.\n",
        "        \n",
        "        n_features, int: amount of synthetic random features generated with RFF approximation.\n",
        "\n",
        "        new_dim, int: PCA output size.\n",
        "        \n",
        "        use_PCA, bool: whether to include PCA preprocessing.\n",
        "        \n",
        "        classifier, string: either 'svm' or 'logreg', a linear classification model to use on top of pipeline.\n",
        "\n",
        "        model_args, dict: keyword arguments for classifier\n",
        "        \n",
        "        Feel free to edit this template for your preferences.    \n",
        "        \"\"\"\n",
        "        self.function = function\n",
        "        self.n_features = n_features\n",
        "        self.use_PCA = use_PCA\n",
        "        self.new_dim = new_dim\n",
        "        self.classifier = classifier\n",
        "        if classifier == 'logreg':\n",
        "            self.clf = LogisticRegression(**model_args)\n",
        "        elif classifier == 'svm':\n",
        "            self.clf = LinearSVC(**model_args)\n",
        "        self.estimators= [StandardScaler()]\n",
        "        if use_PCA is True:\n",
        "            self.estimators.append(PCA(n_components=self.new_dim))\n",
        "        self.pipeline = make_pipeline(*self.estimators)\n",
        "\n",
        "    def fit(self, X, y):\n",
        "        \"\"\"\n",
        "        Fit all parts of algorithm (PCA, RFF, Classification) to training set.\n",
        "        \"\"\"\n",
        "        # Your code here: (￣▽￣)/♫•*¨*•.¸¸♪\n",
        "        start = time.time()\n",
        "        X_transformed = self.pipeline.fit_transform(X)\n",
        "        self.preprocessing_time = time.time() - start\n",
        "        start = time.time()\n",
        "        subset_dim = min(X_transformed.shape[0], 1000)\n",
        "        idx = np.random.choice(X_transformed.shape[0], subset_dim, replace=False)\n",
        "        var = 1 / np.median(distance_matrix(X_transformed[idx], X_transformed[idx]))\n",
        "        self.weights = np.random.normal(0, var, (X_transformed.shape[1], self.n_features))\n",
        "        self.biases = np.random.uniform(-np.pi, np.pi, self.n_features)\n",
        "\n",
        "        RFF_transformer = FunctionTransformer(lambda X: self.function(np.dot(X, self.weights) + self.biases))\n",
        "        X_new = RFF_transformer.transform(X_transformed)\n",
        "        self.clf.fit(X_new, y)\n",
        "        self.fitting_time = time.time() - start\n",
        "        self.estimators.append(RFF_transformer)\n",
        "        self.estimators.append(self.clf)\n",
        "        self.pipeline = make_pipeline(*self.estimators)\n",
        "        return self\n",
        "\n",
        "    def predict_proba(self, X):\n",
        "        \"\"\"\n",
        "        Apply pipeline to obtain scores for input data.\n",
        "        \"\"\"\n",
        "        # Your code here: (￣▽￣)/♫•*¨*•.¸¸♪\n",
        "        if self.classifier == 'logreg':\n",
        "            return self.pipeline.predict_proba(X)\n",
        "        elif self.classifier == 'svm':\n",
        "            return self.pipeline.decision_function(X)\n",
        "\n",
        "    def predict(self, X):\n",
        "        \"\"\"\n",
        "        Apply pipeline to obtain discrete predictions for input data.\n",
        "        \"\"\"\n",
        "        # Your code here: (￣▽￣)/♫•*¨*•.¸¸♪\n",
        "        return self.pipeline.predict(X)"
      ]
    },
    {
      "cell_type": "markdown",
      "source": [
        "Проведем эксперименты для различных функций применительно к RFF, сравним их время работы и получаемое качество."
      ],
      "metadata": {
        "id": "0e8K5imfOwwy"
      }
    },
    {
      "cell_type": "code",
      "source": [
        "func_columns = ['cos(x)', 'sin(x)', r'$\\sigma(x)$', 'tanh(x)', 'sign(x)', r'$e^{-|x|}$' ,r'$e^{-x^2}$']\n",
        "func_rows = ['Train accuracy', 'Test accuracy', 'Fitting time', 'Preprocessing time', 'Full time', 'Prediction time']\n",
        "func_table = pd.DataFrame(index=func_rows, columns=func_columns, dtype='float')"
      ],
      "metadata": {
        "id": "foFMrucROpJa"
      },
      "execution_count": 37,
      "outputs": []
    },
    {
      "cell_type": "code",
      "source": [
        "from scipy.special import expit\n",
        "func_set = [np.cos, np.sin, expit, np.tanh, np.sign, lambda x: np.exp(-np.abs(x)), lambda x: np.exp(-x**2)]\n",
        "for function, function_name in zip(func_set, func_columns):\n",
        "    clf = RFFPipelineFunc(function=function)\n",
        "    clf.fit(x_train, y_train)\n",
        "    train_accuracy = (clf.predict(x_train) == y_train).mean()\n",
        "    start = time.time()\n",
        "    test_accuracy = (clf.predict(x_test) == y_test).mean()\n",
        "    predict_time = time.time() - start\n",
        "    func_table[function_name] = [train_accuracy, test_accuracy, clf.fitting_time, clf.preprocessing_time, clf.fitting_time + clf.preprocessing_time, predict_time]"
      ],
      "metadata": {
        "id": "ga4JRdQuPZgk"
      },
      "execution_count": 38,
      "outputs": []
    },
    {
      "cell_type": "code",
      "source": [
        "func_table"
      ],
      "metadata": {
        "id": "DvgneImHJdP2",
        "colab": {
          "base_uri": "https://localhost:8080/",
          "height": 238
        },
        "outputId": "2fea8301-b853-464f-a0e6-aee5b7529222"
      },
      "execution_count": 39,
      "outputs": [
        {
          "output_type": "execute_result",
          "data": {
            "text/html": [
              "\n",
              "  <div id=\"df-17e990fb-76db-4e93-b49e-9d9d9371161e\">\n",
              "    <div class=\"colab-df-container\">\n",
              "      <div>\n",
              "<style scoped>\n",
              "    .dataframe tbody tr th:only-of-type {\n",
              "        vertical-align: middle;\n",
              "    }\n",
              "\n",
              "    .dataframe tbody tr th {\n",
              "        vertical-align: top;\n",
              "    }\n",
              "\n",
              "    .dataframe thead th {\n",
              "        text-align: right;\n",
              "    }\n",
              "</style>\n",
              "<table border=\"1\" class=\"dataframe\">\n",
              "  <thead>\n",
              "    <tr style=\"text-align: right;\">\n",
              "      <th></th>\n",
              "      <th>cos(x)</th>\n",
              "      <th>sin(x)</th>\n",
              "      <th>$\\sigma(x)$</th>\n",
              "      <th>tanh(x)</th>\n",
              "      <th>sign(x)</th>\n",
              "      <th>$e^{-|x|}$</th>\n",
              "      <th>$e^{-x^2}$</th>\n",
              "    </tr>\n",
              "  </thead>\n",
              "  <tbody>\n",
              "    <tr>\n",
              "      <th>Train accuracy</th>\n",
              "      <td>0.871483</td>\n",
              "      <td>0.870783</td>\n",
              "      <td>0.820567</td>\n",
              "      <td>0.849367</td>\n",
              "      <td>0.849883</td>\n",
              "      <td>0.864233</td>\n",
              "      <td>0.870350</td>\n",
              "    </tr>\n",
              "    <tr>\n",
              "      <th>Test accuracy</th>\n",
              "      <td>0.856600</td>\n",
              "      <td>0.855600</td>\n",
              "      <td>0.808900</td>\n",
              "      <td>0.837200</td>\n",
              "      <td>0.830400</td>\n",
              "      <td>0.848200</td>\n",
              "      <td>0.850800</td>\n",
              "    </tr>\n",
              "    <tr>\n",
              "      <th>Fitting time</th>\n",
              "      <td>63.723633</td>\n",
              "      <td>63.323408</td>\n",
              "      <td>61.581617</td>\n",
              "      <td>64.179735</td>\n",
              "      <td>60.861755</td>\n",
              "      <td>61.282348</td>\n",
              "      <td>59.430382</td>\n",
              "    </tr>\n",
              "    <tr>\n",
              "      <th>Preprocessing time</th>\n",
              "      <td>10.085260</td>\n",
              "      <td>7.874272</td>\n",
              "      <td>7.977218</td>\n",
              "      <td>8.059613</td>\n",
              "      <td>8.154606</td>\n",
              "      <td>7.845941</td>\n",
              "      <td>7.901612</td>\n",
              "    </tr>\n",
              "    <tr>\n",
              "      <th>Full time</th>\n",
              "      <td>73.808893</td>\n",
              "      <td>71.197680</td>\n",
              "      <td>69.558835</td>\n",
              "      <td>72.239348</td>\n",
              "      <td>69.016361</td>\n",
              "      <td>69.128289</td>\n",
              "      <td>67.331994</td>\n",
              "    </tr>\n",
              "    <tr>\n",
              "      <th>Prediction time</th>\n",
              "      <td>0.795959</td>\n",
              "      <td>0.578740</td>\n",
              "      <td>0.488007</td>\n",
              "      <td>0.639019</td>\n",
              "      <td>0.300854</td>\n",
              "      <td>0.530610</td>\n",
              "      <td>0.647339</td>\n",
              "    </tr>\n",
              "  </tbody>\n",
              "</table>\n",
              "</div>\n",
              "      <button class=\"colab-df-convert\" onclick=\"convertToInteractive('df-17e990fb-76db-4e93-b49e-9d9d9371161e')\"\n",
              "              title=\"Convert this dataframe to an interactive table.\"\n",
              "              style=\"display:none;\">\n",
              "        \n",
              "  <svg xmlns=\"http://www.w3.org/2000/svg\" height=\"24px\"viewBox=\"0 0 24 24\"\n",
              "       width=\"24px\">\n",
              "    <path d=\"M0 0h24v24H0V0z\" fill=\"none\"/>\n",
              "    <path d=\"M18.56 5.44l.94 2.06.94-2.06 2.06-.94-2.06-.94-.94-2.06-.94 2.06-2.06.94zm-11 1L8.5 8.5l.94-2.06 2.06-.94-2.06-.94L8.5 2.5l-.94 2.06-2.06.94zm10 10l.94 2.06.94-2.06 2.06-.94-2.06-.94-.94-2.06-.94 2.06-2.06.94z\"/><path d=\"M17.41 7.96l-1.37-1.37c-.4-.4-.92-.59-1.43-.59-.52 0-1.04.2-1.43.59L10.3 9.45l-7.72 7.72c-.78.78-.78 2.05 0 2.83L4 21.41c.39.39.9.59 1.41.59.51 0 1.02-.2 1.41-.59l7.78-7.78 2.81-2.81c.8-.78.8-2.07 0-2.86zM5.41 20L4 18.59l7.72-7.72 1.47 1.35L5.41 20z\"/>\n",
              "  </svg>\n",
              "      </button>\n",
              "      \n",
              "  <style>\n",
              "    .colab-df-container {\n",
              "      display:flex;\n",
              "      flex-wrap:wrap;\n",
              "      gap: 12px;\n",
              "    }\n",
              "\n",
              "    .colab-df-convert {\n",
              "      background-color: #E8F0FE;\n",
              "      border: none;\n",
              "      border-radius: 50%;\n",
              "      cursor: pointer;\n",
              "      display: none;\n",
              "      fill: #1967D2;\n",
              "      height: 32px;\n",
              "      padding: 0 0 0 0;\n",
              "      width: 32px;\n",
              "    }\n",
              "\n",
              "    .colab-df-convert:hover {\n",
              "      background-color: #E2EBFA;\n",
              "      box-shadow: 0px 1px 2px rgba(60, 64, 67, 0.3), 0px 1px 3px 1px rgba(60, 64, 67, 0.15);\n",
              "      fill: #174EA6;\n",
              "    }\n",
              "\n",
              "    [theme=dark] .colab-df-convert {\n",
              "      background-color: #3B4455;\n",
              "      fill: #D2E3FC;\n",
              "    }\n",
              "\n",
              "    [theme=dark] .colab-df-convert:hover {\n",
              "      background-color: #434B5C;\n",
              "      box-shadow: 0px 1px 3px 1px rgba(0, 0, 0, 0.15);\n",
              "      filter: drop-shadow(0px 1px 2px rgba(0, 0, 0, 0.3));\n",
              "      fill: #FFFFFF;\n",
              "    }\n",
              "  </style>\n",
              "\n",
              "      <script>\n",
              "        const buttonEl =\n",
              "          document.querySelector('#df-17e990fb-76db-4e93-b49e-9d9d9371161e button.colab-df-convert');\n",
              "        buttonEl.style.display =\n",
              "          google.colab.kernel.accessAllowed ? 'block' : 'none';\n",
              "\n",
              "        async function convertToInteractive(key) {\n",
              "          const element = document.querySelector('#df-17e990fb-76db-4e93-b49e-9d9d9371161e');\n",
              "          const dataTable =\n",
              "            await google.colab.kernel.invokeFunction('convertToInteractive',\n",
              "                                                     [key], {});\n",
              "          if (!dataTable) return;\n",
              "\n",
              "          const docLinkHtml = 'Like what you see? Visit the ' +\n",
              "            '<a target=\"_blank\" href=https://colab.research.google.com/notebooks/data_table.ipynb>data table notebook</a>'\n",
              "            + ' to learn more about interactive tables.';\n",
              "          element.innerHTML = '';\n",
              "          dataTable['output_type'] = 'display_data';\n",
              "          await google.colab.output.renderOutput(dataTable, element);\n",
              "          const docLink = document.createElement('div');\n",
              "          docLink.innerHTML = docLinkHtml;\n",
              "          element.appendChild(docLink);\n",
              "        }\n",
              "      </script>\n",
              "    </div>\n",
              "  </div>\n",
              "  "
            ],
            "text/plain": [
              "                       cos(x)     sin(x)  $\\sigma(x)$    tanh(x)    sign(x)  \\\n",
              "Train accuracy       0.871483   0.870783     0.820567   0.849367   0.849883   \n",
              "Test accuracy        0.856600   0.855600     0.808900   0.837200   0.830400   \n",
              "Fitting time        63.723633  63.323408    61.581617  64.179735  60.861755   \n",
              "Preprocessing time  10.085260   7.874272     7.977218   8.059613   8.154606   \n",
              "Full time           73.808893  71.197680    69.558835  72.239348  69.016361   \n",
              "Prediction time      0.795959   0.578740     0.488007   0.639019   0.300854   \n",
              "\n",
              "                    $e^{-|x|}$  $e^{-x^2}$  \n",
              "Train accuracy        0.864233    0.870350  \n",
              "Test accuracy         0.848200    0.850800  \n",
              "Fitting time         61.282348   59.430382  \n",
              "Preprocessing time    7.845941    7.901612  \n",
              "Full time            69.128289   67.331994  \n",
              "Prediction time       0.530610    0.647339  "
            ]
          },
          "metadata": {},
          "execution_count": 39
        }
      ]
    },
    {
      "cell_type": "markdown",
      "source": [
        "Наилучшее качество достигается при использовании косинуса, примерно ту же точность дают синус и $e^{-x^2}$, у остальных функций точность ниже. В целом качество на тесте для разных функций приемлемо и отличается не сильно. Время обучения, препроцессинга и построения прогнозов также мало отличается."
      ],
      "metadata": {
        "id": "wpUS7Nc-FKf6"
      }
    },
    {
      "cell_type": "markdown",
      "source": [
        "Проведем аналогичные эксперименты для ORF"
      ],
      "metadata": {
        "id": "PC9sNIX_90Zx"
      }
    },
    {
      "cell_type": "code",
      "source": [
        "# Your code here: (￣▽￣)/♫•*¨*•.¸¸♪\n",
        "class ORFPipelineFunc(BaseEstimator, TransformerMixin):\n",
        "    def __init__(self, function=np.cos, n_features=1000, new_dim=50, use_PCA=True, classifier='logreg', **model_args):\n",
        "        \"\"\"        \n",
        "        Implements pipeline, which consists of PCA decomposition,\n",
        "        Random Fourier Features approximation and linear classification model.\n",
        "        \n",
        "        n_features, int: amount of synthetic random features generated with RFF approximation.\n",
        "\n",
        "        new_dim, int: PCA output size.\n",
        "        \n",
        "        use_PCA, bool: whether to include PCA preprocessing.\n",
        "        \n",
        "        classifier, string: either 'svm' or 'logreg', a linear classification model to use on top of pipeline.\n",
        "\n",
        "        model_args, dict: keyword arguments for classifier\n",
        "        \n",
        "        Feel free to edit this template for your preferences.    \n",
        "        \"\"\"\n",
        "        self.function = function\n",
        "        self.n_features = n_features\n",
        "        self.use_PCA = use_PCA\n",
        "        self.new_dim = new_dim\n",
        "        self.classifier = classifier\n",
        "        if classifier == 'logreg':\n",
        "            self.clf = LogisticRegression(**model_args)\n",
        "        elif classifier == 'svm':\n",
        "            self.clf = LinearSVC(**model_args)\n",
        "        self.estimators= [StandardScaler()]\n",
        "        if use_PCA is True:\n",
        "            self.estimators.append(PCA(n_components=self.new_dim))\n",
        "        self.pipeline = make_pipeline(*self.estimators)\n",
        "\n",
        "    def fit(self, X, y):\n",
        "        \"\"\"\n",
        "        Fit all parts of algorithm (PCA, RFF, Classification) to training set.\n",
        "        \"\"\"\n",
        "        # Your code here: (￣▽￣)/♫•*¨*•.¸¸♪\n",
        "        start = time.time()\n",
        "        X_transformed = self.pipeline.fit_transform(X)\n",
        "        self.preprocessing_time = time.time() - start\n",
        "        start = time.time()\n",
        "        subset_dim = min(X_transformed.shape[0], 1000)\n",
        "        idx = np.random.choice(X_transformed.shape[0], subset_dim, replace=False)\n",
        "        var = 1 / np.median(distance_matrix(X_transformed[idx], X_transformed[idx]))\n",
        "        gen_features_num = 0\n",
        "        self.weights = None\n",
        "        while gen_features_num < self.n_features:\n",
        "            G = np.random.randn(X_transformed.shape[1], X_transformed.shape[1])\n",
        "            Q, R = qr(G)\n",
        "            init = np.random.chisquare(X_transformed.shape[1], size=X_transformed.shape[1])\n",
        "            init = init.reshape(init.shape[0], 1)\n",
        "            S = np.diagflat(init)\n",
        "            W_ORF = var * np.dot(S, Q)\n",
        "            if self.weights is None:\n",
        "                self.weights = W_ORF\n",
        "            else:\n",
        "                self.weights = np.concatenate((self.weights, W_ORF), axis=1)\n",
        "            gen_features_num += X_transformed.shape[1]\n",
        "        self.weights = self.weights[:, : self.n_features]\n",
        "\n",
        "        self.biases = np.random.uniform(-np.pi, np.pi, self.n_features)\n",
        "\n",
        "        ORF_transformer = FunctionTransformer(lambda X: self.function(np.dot(X, self.weights) + self.biases))\n",
        "        X_new = ORF_transformer.transform(X_transformed)\n",
        "        self.clf.fit(X_new, y)\n",
        "        self.fitting_time = time.time() - start\n",
        "        self.estimators.append(ORF_transformer)\n",
        "        self.estimators.append(self.clf)\n",
        "        self.pipeline = make_pipeline(*self.estimators)\n",
        "        return self\n",
        "\n",
        "    def predict_proba(self, X):\n",
        "        \"\"\"\n",
        "        Apply pipeline to obtain scores for input data.\n",
        "        \"\"\"\n",
        "        # Your code here: (￣▽￣)/♫•*¨*•.¸¸♪\n",
        "        if self.classifier == 'logreg':\n",
        "            return self.pipeline.predict_proba(X)\n",
        "        elif self.classifier == 'svm':\n",
        "            return self.pipeline.decision_function(X)\n",
        "\n",
        "    def predict(self, X):\n",
        "        \"\"\"\n",
        "        Apply pipeline to obtain discrete predictions for input data.\n",
        "        \"\"\"\n",
        "        # Your code here: (￣▽￣)/♫•*¨*•.¸¸♪\n",
        "        return self.pipeline.predict(X)"
      ],
      "metadata": {
        "id": "U4UI-ovkqzrX"
      },
      "execution_count": 40,
      "outputs": []
    },
    {
      "cell_type": "code",
      "source": [
        "func_columns = ['cos(x)', 'sin(x)', r'$\\sigma(x)$', 'tanh(x)', 'sign(x)', r'$e^{-|x|}$' ,r'$e^{-x^2}$']\n",
        "func_rows = ['Train accuracy', 'Test accuracy', 'Fitting time', 'Preprocessing time', 'Full time', 'Prediction time']\n",
        "func_table = pd.DataFrame(index=func_rows, columns=func_columns, dtype='float')"
      ],
      "metadata": {
        "id": "vPX4xN-apvHx"
      },
      "execution_count": 41,
      "outputs": []
    },
    {
      "cell_type": "code",
      "source": [
        "func_set = [np.cos, np.sin, expit, np.tanh, np.sign, lambda x: np.exp(-np.abs(x)), lambda x: np.exp(-x**2)]\n",
        "for function, function_name in zip(func_set, func_columns):\n",
        "    clf = ORFPipelineFunc(function=function)\n",
        "    clf.fit(x_train, y_train)\n",
        "    train_accuracy = (clf.predict(x_train) == y_train).mean()\n",
        "    start = time.time()\n",
        "    test_accuracy = (clf.predict(x_test) == y_test).mean()\n",
        "    predict_time = time.time() - start\n",
        "    func_table[function_name] = [train_accuracy, test_accuracy, clf.fitting_time, clf.preprocessing_time, clf.fitting_time + clf.preprocessing_time, predict_time]"
      ],
      "metadata": {
        "id": "wmfzhZRM-WeF"
      },
      "execution_count": 42,
      "outputs": []
    },
    {
      "cell_type": "code",
      "source": [
        "func_table"
      ],
      "metadata": {
        "id": "F0tUBDNQJT2I",
        "colab": {
          "base_uri": "https://localhost:8080/",
          "height": 238
        },
        "outputId": "de002c2b-0f86-4532-8e5a-f02d1da47f80"
      },
      "execution_count": 43,
      "outputs": [
        {
          "output_type": "execute_result",
          "data": {
            "text/html": [
              "\n",
              "  <div id=\"df-00b8f296-5c83-4089-bcda-6241b76f4659\">\n",
              "    <div class=\"colab-df-container\">\n",
              "      <div>\n",
              "<style scoped>\n",
              "    .dataframe tbody tr th:only-of-type {\n",
              "        vertical-align: middle;\n",
              "    }\n",
              "\n",
              "    .dataframe tbody tr th {\n",
              "        vertical-align: top;\n",
              "    }\n",
              "\n",
              "    .dataframe thead th {\n",
              "        text-align: right;\n",
              "    }\n",
              "</style>\n",
              "<table border=\"1\" class=\"dataframe\">\n",
              "  <thead>\n",
              "    <tr style=\"text-align: right;\">\n",
              "      <th></th>\n",
              "      <th>cos(x)</th>\n",
              "      <th>sin(x)</th>\n",
              "      <th>$\\sigma(x)$</th>\n",
              "      <th>tanh(x)</th>\n",
              "      <th>sign(x)</th>\n",
              "      <th>$e^{-|x|}$</th>\n",
              "      <th>$e^{-x^2}$</th>\n",
              "    </tr>\n",
              "  </thead>\n",
              "  <tbody>\n",
              "    <tr>\n",
              "      <th>Train accuracy</th>\n",
              "      <td>0.627383</td>\n",
              "      <td>0.641033</td>\n",
              "      <td>0.878883</td>\n",
              "      <td>0.897083</td>\n",
              "      <td>0.889950</td>\n",
              "      <td>0.879817</td>\n",
              "      <td>0.868517</td>\n",
              "    </tr>\n",
              "    <tr>\n",
              "      <th>Test accuracy</th>\n",
              "      <td>0.572800</td>\n",
              "      <td>0.591400</td>\n",
              "      <td>0.861500</td>\n",
              "      <td>0.852700</td>\n",
              "      <td>0.838300</td>\n",
              "      <td>0.829300</td>\n",
              "      <td>0.812000</td>\n",
              "    </tr>\n",
              "    <tr>\n",
              "      <th>Fitting time</th>\n",
              "      <td>36.745267</td>\n",
              "      <td>37.075508</td>\n",
              "      <td>62.581649</td>\n",
              "      <td>60.080712</td>\n",
              "      <td>60.074288</td>\n",
              "      <td>60.951478</td>\n",
              "      <td>61.934101</td>\n",
              "    </tr>\n",
              "    <tr>\n",
              "      <th>Preprocessing time</th>\n",
              "      <td>10.649843</td>\n",
              "      <td>8.360084</td>\n",
              "      <td>7.797056</td>\n",
              "      <td>7.664984</td>\n",
              "      <td>7.771652</td>\n",
              "      <td>7.868164</td>\n",
              "      <td>7.794092</td>\n",
              "    </tr>\n",
              "    <tr>\n",
              "      <th>Full time</th>\n",
              "      <td>47.395110</td>\n",
              "      <td>45.435592</td>\n",
              "      <td>70.378705</td>\n",
              "      <td>67.745696</td>\n",
              "      <td>67.845940</td>\n",
              "      <td>68.819642</td>\n",
              "      <td>69.728193</td>\n",
              "    </tr>\n",
              "    <tr>\n",
              "      <th>Prediction time</th>\n",
              "      <td>0.770014</td>\n",
              "      <td>0.605984</td>\n",
              "      <td>0.498504</td>\n",
              "      <td>0.599935</td>\n",
              "      <td>0.311282</td>\n",
              "      <td>0.495807</td>\n",
              "      <td>0.501202</td>\n",
              "    </tr>\n",
              "  </tbody>\n",
              "</table>\n",
              "</div>\n",
              "      <button class=\"colab-df-convert\" onclick=\"convertToInteractive('df-00b8f296-5c83-4089-bcda-6241b76f4659')\"\n",
              "              title=\"Convert this dataframe to an interactive table.\"\n",
              "              style=\"display:none;\">\n",
              "        \n",
              "  <svg xmlns=\"http://www.w3.org/2000/svg\" height=\"24px\"viewBox=\"0 0 24 24\"\n",
              "       width=\"24px\">\n",
              "    <path d=\"M0 0h24v24H0V0z\" fill=\"none\"/>\n",
              "    <path d=\"M18.56 5.44l.94 2.06.94-2.06 2.06-.94-2.06-.94-.94-2.06-.94 2.06-2.06.94zm-11 1L8.5 8.5l.94-2.06 2.06-.94-2.06-.94L8.5 2.5l-.94 2.06-2.06.94zm10 10l.94 2.06.94-2.06 2.06-.94-2.06-.94-.94-2.06-.94 2.06-2.06.94z\"/><path d=\"M17.41 7.96l-1.37-1.37c-.4-.4-.92-.59-1.43-.59-.52 0-1.04.2-1.43.59L10.3 9.45l-7.72 7.72c-.78.78-.78 2.05 0 2.83L4 21.41c.39.39.9.59 1.41.59.51 0 1.02-.2 1.41-.59l7.78-7.78 2.81-2.81c.8-.78.8-2.07 0-2.86zM5.41 20L4 18.59l7.72-7.72 1.47 1.35L5.41 20z\"/>\n",
              "  </svg>\n",
              "      </button>\n",
              "      \n",
              "  <style>\n",
              "    .colab-df-container {\n",
              "      display:flex;\n",
              "      flex-wrap:wrap;\n",
              "      gap: 12px;\n",
              "    }\n",
              "\n",
              "    .colab-df-convert {\n",
              "      background-color: #E8F0FE;\n",
              "      border: none;\n",
              "      border-radius: 50%;\n",
              "      cursor: pointer;\n",
              "      display: none;\n",
              "      fill: #1967D2;\n",
              "      height: 32px;\n",
              "      padding: 0 0 0 0;\n",
              "      width: 32px;\n",
              "    }\n",
              "\n",
              "    .colab-df-convert:hover {\n",
              "      background-color: #E2EBFA;\n",
              "      box-shadow: 0px 1px 2px rgba(60, 64, 67, 0.3), 0px 1px 3px 1px rgba(60, 64, 67, 0.15);\n",
              "      fill: #174EA6;\n",
              "    }\n",
              "\n",
              "    [theme=dark] .colab-df-convert {\n",
              "      background-color: #3B4455;\n",
              "      fill: #D2E3FC;\n",
              "    }\n",
              "\n",
              "    [theme=dark] .colab-df-convert:hover {\n",
              "      background-color: #434B5C;\n",
              "      box-shadow: 0px 1px 3px 1px rgba(0, 0, 0, 0.15);\n",
              "      filter: drop-shadow(0px 1px 2px rgba(0, 0, 0, 0.3));\n",
              "      fill: #FFFFFF;\n",
              "    }\n",
              "  </style>\n",
              "\n",
              "      <script>\n",
              "        const buttonEl =\n",
              "          document.querySelector('#df-00b8f296-5c83-4089-bcda-6241b76f4659 button.colab-df-convert');\n",
              "        buttonEl.style.display =\n",
              "          google.colab.kernel.accessAllowed ? 'block' : 'none';\n",
              "\n",
              "        async function convertToInteractive(key) {\n",
              "          const element = document.querySelector('#df-00b8f296-5c83-4089-bcda-6241b76f4659');\n",
              "          const dataTable =\n",
              "            await google.colab.kernel.invokeFunction('convertToInteractive',\n",
              "                                                     [key], {});\n",
              "          if (!dataTable) return;\n",
              "\n",
              "          const docLinkHtml = 'Like what you see? Visit the ' +\n",
              "            '<a target=\"_blank\" href=https://colab.research.google.com/notebooks/data_table.ipynb>data table notebook</a>'\n",
              "            + ' to learn more about interactive tables.';\n",
              "          element.innerHTML = '';\n",
              "          dataTable['output_type'] = 'display_data';\n",
              "          await google.colab.output.renderOutput(dataTable, element);\n",
              "          const docLink = document.createElement('div');\n",
              "          docLink.innerHTML = docLinkHtml;\n",
              "          element.appendChild(docLink);\n",
              "        }\n",
              "      </script>\n",
              "    </div>\n",
              "  </div>\n",
              "  "
            ],
            "text/plain": [
              "                       cos(x)     sin(x)  $\\sigma(x)$    tanh(x)    sign(x)  \\\n",
              "Train accuracy       0.627383   0.641033     0.878883   0.897083   0.889950   \n",
              "Test accuracy        0.572800   0.591400     0.861500   0.852700   0.838300   \n",
              "Fitting time        36.745267  37.075508    62.581649  60.080712  60.074288   \n",
              "Preprocessing time  10.649843   8.360084     7.797056   7.664984   7.771652   \n",
              "Full time           47.395110  45.435592    70.378705  67.745696  67.845940   \n",
              "Prediction time      0.770014   0.605984     0.498504   0.599935   0.311282   \n",
              "\n",
              "                    $e^{-|x|}$  $e^{-x^2}$  \n",
              "Train accuracy        0.879817    0.868517  \n",
              "Test accuracy         0.829300    0.812000  \n",
              "Fitting time         60.951478   61.934101  \n",
              "Preprocessing time    7.868164    7.794092  \n",
              "Full time            68.819642   69.728193  \n",
              "Prediction time       0.495807    0.501202  "
            ]
          },
          "metadata": {},
          "execution_count": 43
        }
      ]
    },
    {
      "cell_type": "markdown",
      "source": [
        "Качество при использовании косинуса и синуса крайне низкое, однако для других функций точность значительно выше. При использовании сигмоиды качество на тесте даже лучше, чем у RFF. Таким образом, неудовлетворительные результаты для ORF в предыдущем задании действительно могли быть связаны с использованием функции косинуса, так как для других функций качество довольно хорошее. Время обучения в среднем меньше, чем у RFF, а для функций синуса и косинуса оно довольно мало."
      ],
      "metadata": {
        "id": "P3Y4PTYDFv47"
      }
    },
    {
      "cell_type": "code",
      "source": [
        ""
      ],
      "metadata": {
        "id": "8ffRkzdtwXsE"
      },
      "execution_count": null,
      "outputs": []
    }
  ],
  "metadata": {
    "colab": {
      "collapsed_sections": [],
      "name": "homework-practice-01-random-features.ipynb",
      "provenance": []
    },
    "kernelspec": {
      "display_name": "Python 3",
      "language": "python",
      "name": "python3"
    },
    "language_info": {
      "codemirror_mode": {
        "name": "ipython",
        "version": 3
      },
      "file_extension": ".py",
      "mimetype": "text/x-python",
      "name": "python",
      "nbconvert_exporter": "python",
      "pygments_lexer": "ipython3",
      "version": "3.8.8"
    }
  },
  "nbformat": 4,
  "nbformat_minor": 0
}